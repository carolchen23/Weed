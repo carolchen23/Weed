{
 "cells": [
  {
   "cell_type": "code",
   "execution_count": 12,
   "metadata": {},
   "outputs": [],
   "source": [
    "import torch.nn as nn\n",
    "from collections import OrderedDict\n",
    "from torchsummary import summary\n",
    " \n",
    " \n",
    "#把channel变为8的整数倍\n",
    "def _make_divisible(ch, divisor=8, min_ch=None):\n",
    "    if min_ch is None:\n",
    "        min_ch = divisor\n",
    "    new_ch = max(min_ch, int(ch + divisor / 2) // divisor * divisor)\n",
    "    # Make sure that round down does not go down by more than 10%.\n",
    "    if new_ch < 0.9 * ch:\n",
    "        new_ch += divisor\n",
    "    return new_ch\n",
    " \n",
    " \n",
    "#定义基本的ConvBN+Relu\n",
    "class baseConv(nn.Module):\n",
    "    def __init__(self,in_channels,out_channels,kernel_size,groups=1,stride=1):\n",
    "        super(baseConv, self).__init__()\n",
    "        pad=kernel_size//2\n",
    "        relu=nn.ReLU6(inplace=True)\n",
    "        if kernel_size==1 and in_channels>out_channels:\n",
    "            relu=nn.Identity()\n",
    "        self.baseConv=nn.Sequential(\n",
    "            nn.Conv2d(in_channels=in_channels,out_channels=out_channels,kernel_size=kernel_size,stride=stride,padding=pad,groups=groups,bias=False),\n",
    "            nn.BatchNorm2d(out_channels),\n",
    "            relu\n",
    "        )\n",
    " \n",
    "    def forward(self,x):\n",
    "        out=self.baseConv(x)\n",
    "        return out\n",
    " \n",
    " \n",
    "#定义残差结构\n",
    "class residual(nn.Module):\n",
    "    def __init__(self,in_channels,expand_rate,out_channels,stride):         #输入和输出channel都要调整到8的整数倍\n",
    "        super(residual, self).__init__()\n",
    "        expand_channel=int(expand_rate*in_channels)     #升维后的channel\n",
    " \n",
    "        conv1=baseConv(in_channels, expand_channel, 1, stride=stride)\n",
    "        if expand_rate==1:\n",
    "            #此时没有1*1卷积升维\n",
    "            conv1=nn.Identity()\n",
    " \n",
    "        #channel1\n",
    "        self.block1=nn.Sequential(\n",
    "            conv1,\n",
    "            baseConv(expand_channel,expand_channel,3,groups=expand_channel,stride=stride),\n",
    "            baseConv(expand_channel,out_channels,1)\n",
    "        )\n",
    " \n",
    "        if stride==1 and in_channels==out_channels:\n",
    "            self.has_res=True\n",
    "        else:\n",
    "            self.has_res=False\n",
    " \n",
    "    def forward(self,x):\n",
    "        if self.has_res:\n",
    "            return self.block1(x)+x\n",
    "        else:\n",
    "            return self.block1(x)\n",
    " \n",
    " \n",
    "#定义mobilenetv2\n",
    "class MobileNet_v2(nn.Module):\n",
    "    def __init__(self,theta=1,num_classes=12,init_weight=True):\n",
    "        super(MobileNet_v2, self).__init__()\n",
    "        #[inchannel,t,out_channel,stride]\n",
    "        net_config=[[32,1,16,1],\n",
    "                    [16,6,24,2],\n",
    "                    [24,6,32,2],\n",
    "                    [32,6,64,2],\n",
    "                    [64,6,96,1],\n",
    "                    [96,6,160,2],\n",
    "                    [160,6,320,1]]\n",
    "        repeat_num=[1,2,3,4,3,3,1]\n",
    " \n",
    "        module_dic=OrderedDict()\n",
    " \n",
    "        module_dic.update({'first_Conv':baseConv(3,_make_divisible(theta*32),3,stride=2)})\n",
    " \n",
    "        for idx,num in enumerate(repeat_num):\n",
    "            parse=net_config[idx]\n",
    "            for i in range(num):\n",
    "                module_dic.update({'bottleneck{}_{}'.format(idx,i+1):residual(_make_divisible(parse[0]*theta),parse[1],_make_divisible(parse[2]*theta),parse[3])})\n",
    "                parse[0]=parse[2]\n",
    "                parse[-1]=1\n",
    " \n",
    "        module_dic.update({'follow_Conv':baseConv(_make_divisible(theta*parse[-2]),_make_divisible(1280*theta),1)})\n",
    "        module_dic.update({'avg_pool':nn.AdaptiveAvgPool2d(1)})\n",
    " \n",
    "        self.module=nn.Sequential(module_dic)\n",
    " \n",
    "        self.linear=nn.Sequential(\n",
    "            nn.Dropout(p=0.5),\n",
    "            nn.Linear(_make_divisible(theta*1280),num_classes)\n",
    "        )\n",
    "        #初始化权重\n",
    "        if init_weight:\n",
    "            self.init_weight()\n",
    " \n",
    "    def init_weight(self):\n",
    "        for w in self.modules():\n",
    "            if isinstance(w, nn.Conv2d):\n",
    "                nn.init.kaiming_normal_(w.weight, mode='fan_out')\n",
    "                if w.bias is not None:\n",
    "                    nn.init.zeros_(w.bias)\n",
    "            elif isinstance(w, nn.BatchNorm2d):\n",
    "                nn.init.ones_(w.weight)\n",
    "                nn.init.zeros_(w.bias)\n",
    "            elif isinstance(w, nn.Linear):\n",
    "                nn.init.normal_(w.weight, 0, 0.01)\n",
    "                nn.init.zeros_(w.bias)\n",
    " \n",
    " \n",
    "    def forward(self,x):\n",
    "        out=self.module(x)\n",
    "        out=out.view(out.size(0),-1)\n",
    "        out=self.linear(out)\n",
    "        return out\n",
    " \n",
    " \n",
    "#if __name__ == '__main__':\n",
    "#    device='cuda'\n",
    "#    net=MobileNet_v2(theta=0.75).to(device)\n",
    "#    summary(net,(3,224,224))\n",
    "#model = MobileNet_v2()\n",
    "#print(f\"Total number of parameters: {sum(p.numel() for p in model.parameters())}\")\n",
    "#model = model.to('cuda')\n",
    "#summary(model, input_size=(3, 128, 128), batch_size=-1, device='cuda')"
   ]
  },
  {
   "cell_type": "code",
   "execution_count": 15,
   "metadata": {},
   "outputs": [
    {
     "name": "stderr",
     "output_type": "stream",
     "text": [
      "  0%|          | 0/63 [00:00<?, ?it/s]"
     ]
    },
    {
     "name": "stdout",
     "output_type": "stream",
     "text": [
      "cuda\n",
      "数据集加载完毕!\n",
      "开始vgg网络模型初始化!\n",
      "mobilenetv2网络模型初始化完毕!\n",
      "加载完毕!\n",
      "--------第61轮训练开始---------\n"
     ]
    },
    {
     "name": "stderr",
     "output_type": "stream",
     "text": [
      "100%|██████████| 63/63 [00:39<00:00,  1.61it/s]\n",
      "  0%|          | 0/16 [00:00<?, ?it/s]"
     ]
    },
    {
     "name": "stdout",
     "output_type": "stream",
     "text": [
      "训练集正确率为:97.39479064941406\n",
      "开始测试!\n"
     ]
    },
    {
     "name": "stderr",
     "output_type": "stream",
     "text": [
      "100%|██████████| 16/16 [00:11<00:00,  1.37it/s]\n",
      "  0%|          | 0/63 [00:00<?, ?it/s]"
     ]
    },
    {
     "name": "stdout",
     "output_type": "stream",
     "text": [
      "测试集上的loss：0.8893775567412376\n",
      "测试分类准确率为：97.7977977977978\n",
      "Saving model......\n",
      "--------第62轮训练开始---------\n"
     ]
    },
    {
     "name": "stderr",
     "output_type": "stream",
     "text": [
      "100%|██████████| 63/63 [00:49<00:00,  1.28it/s]\n",
      "  0%|          | 0/16 [00:00<?, ?it/s]"
     ]
    },
    {
     "name": "stdout",
     "output_type": "stream",
     "text": [
      "训练集正确率为:97.16934204101562\n",
      "开始测试!\n"
     ]
    },
    {
     "name": "stderr",
     "output_type": "stream",
     "text": [
      "100%|██████████| 16/16 [00:11<00:00,  1.39it/s]\n",
      "  0%|          | 0/63 [00:00<?, ?it/s]"
     ]
    },
    {
     "name": "stdout",
     "output_type": "stream",
     "text": [
      "测试集上的loss：0.6920456029474735\n",
      "测试分类准确率为：98.998998998999\n",
      "Saving model......\n",
      "--------第63轮训练开始---------\n"
     ]
    },
    {
     "name": "stderr",
     "output_type": "stream",
     "text": [
      "100%|██████████| 63/63 [00:49<00:00,  1.28it/s]\n",
      "  0%|          | 0/16 [00:00<?, ?it/s]"
     ]
    },
    {
     "name": "stdout",
     "output_type": "stream",
     "text": [
      "训练集正确率为:97.26953887939453\n",
      "开始测试!\n"
     ]
    },
    {
     "name": "stderr",
     "output_type": "stream",
     "text": [
      "100%|██████████| 16/16 [00:11<00:00,  1.36it/s]\n",
      "  0%|          | 0/63 [00:00<?, ?it/s]"
     ]
    },
    {
     "name": "stdout",
     "output_type": "stream",
     "text": [
      "测试集上的loss：1.0129666924476624\n",
      "测试分类准确率为：98.09809809809809\n",
      "Saving model......\n",
      "--------第64轮训练开始---------\n"
     ]
    },
    {
     "name": "stderr",
     "output_type": "stream",
     "text": [
      "100%|██████████| 63/63 [00:29<00:00,  2.13it/s]\n",
      "  0%|          | 0/16 [00:00<?, ?it/s]"
     ]
    },
    {
     "name": "stdout",
     "output_type": "stream",
     "text": [
      "训练集正确率为:96.94388580322266\n",
      "开始测试!\n"
     ]
    },
    {
     "name": "stderr",
     "output_type": "stream",
     "text": [
      "100%|██████████| 16/16 [00:07<00:00,  2.28it/s]\n",
      "  0%|          | 0/63 [00:00<?, ?it/s]"
     ]
    },
    {
     "name": "stdout",
     "output_type": "stream",
     "text": [
      "测试集上的loss：1.0440151188522577\n",
      "测试分类准确率为：97.89789789789789\n",
      "Saving model......\n",
      "--------第65轮训练开始---------\n"
     ]
    },
    {
     "name": "stderr",
     "output_type": "stream",
     "text": [
      "100%|██████████| 63/63 [00:29<00:00,  2.15it/s]\n",
      "  0%|          | 0/16 [00:00<?, ?it/s]"
     ]
    },
    {
     "name": "stdout",
     "output_type": "stream",
     "text": [
      "训练集正确率为:97.49498748779297\n",
      "开始测试!\n"
     ]
    },
    {
     "name": "stderr",
     "output_type": "stream",
     "text": [
      "100%|██████████| 16/16 [00:07<00:00,  2.23it/s]\n",
      "  0%|          | 0/63 [00:00<?, ?it/s]"
     ]
    },
    {
     "name": "stdout",
     "output_type": "stream",
     "text": [
      "测试集上的loss：0.8814895376563072\n",
      "测试分类准确率为：98.29829829829829\n",
      "Saving model......\n",
      "--------第66轮训练开始---------\n"
     ]
    },
    {
     "name": "stderr",
     "output_type": "stream",
     "text": [
      "100%|██████████| 63/63 [00:29<00:00,  2.13it/s]\n",
      "  0%|          | 0/16 [00:00<?, ?it/s]"
     ]
    },
    {
     "name": "stdout",
     "output_type": "stream",
     "text": [
      "训练集正确率为:97.0440902709961\n",
      "开始测试!\n"
     ]
    },
    {
     "name": "stderr",
     "output_type": "stream",
     "text": [
      "100%|██████████| 16/16 [00:07<00:00,  2.28it/s]\n",
      "  0%|          | 0/63 [00:00<?, ?it/s]"
     ]
    },
    {
     "name": "stdout",
     "output_type": "stream",
     "text": [
      "测试集上的loss：0.9851532410830259\n",
      "测试分类准确率为：97.7977977977978\n",
      "Saving model......\n",
      "--------第67轮训练开始---------\n"
     ]
    },
    {
     "name": "stderr",
     "output_type": "stream",
     "text": [
      "100%|██████████| 63/63 [00:29<00:00,  2.11it/s]\n",
      "  0%|          | 0/16 [00:00<?, ?it/s]"
     ]
    },
    {
     "name": "stdout",
     "output_type": "stream",
     "text": [
      "训练集正确率为:96.84368896484375\n",
      "开始测试!\n"
     ]
    },
    {
     "name": "stderr",
     "output_type": "stream",
     "text": [
      "100%|██████████| 16/16 [00:07<00:00,  2.27it/s]\n",
      "  0%|          | 0/63 [00:00<?, ?it/s]"
     ]
    },
    {
     "name": "stdout",
     "output_type": "stream",
     "text": [
      "测试集上的loss：1.7821585293859243\n",
      "测试分类准确率为：96.09609609609609\n",
      "Saving model......\n",
      "--------第68轮训练开始---------\n"
     ]
    },
    {
     "name": "stderr",
     "output_type": "stream",
     "text": [
      "100%|██████████| 63/63 [00:29<00:00,  2.17it/s]\n",
      "  0%|          | 0/16 [00:00<?, ?it/s]"
     ]
    },
    {
     "name": "stdout",
     "output_type": "stream",
     "text": [
      "训练集正确率为:97.09418487548828\n",
      "开始测试!\n"
     ]
    },
    {
     "name": "stderr",
     "output_type": "stream",
     "text": [
      "100%|██████████| 16/16 [00:06<00:00,  2.32it/s]\n",
      "  0%|          | 0/63 [00:00<?, ?it/s]"
     ]
    },
    {
     "name": "stdout",
     "output_type": "stream",
     "text": [
      "测试集上的loss：0.833551132120192\n",
      "测试分类准确率为：98.49849849849849\n",
      "Saving model......\n",
      "--------第69轮训练开始---------\n"
     ]
    },
    {
     "name": "stderr",
     "output_type": "stream",
     "text": [
      "100%|██████████| 63/63 [00:29<00:00,  2.14it/s]\n",
      "  0%|          | 0/16 [00:00<?, ?it/s]"
     ]
    },
    {
     "name": "stdout",
     "output_type": "stream",
     "text": [
      "训练集正确率为:97.01903533935547\n",
      "开始测试!\n"
     ]
    },
    {
     "name": "stderr",
     "output_type": "stream",
     "text": [
      "100%|██████████| 16/16 [00:07<00:00,  2.23it/s]\n",
      "  0%|          | 0/63 [00:00<?, ?it/s]"
     ]
    },
    {
     "name": "stdout",
     "output_type": "stream",
     "text": [
      "测试集上的loss：0.9965881668031216\n",
      "测试分类准确率为：98.1981981981982\n",
      "Saving model......\n",
      "--------第70轮训练开始---------\n"
     ]
    },
    {
     "name": "stderr",
     "output_type": "stream",
     "text": [
      "100%|██████████| 63/63 [00:29<00:00,  2.15it/s]\n",
      "  0%|          | 0/16 [00:00<?, ?it/s]"
     ]
    },
    {
     "name": "stdout",
     "output_type": "stream",
     "text": [
      "训练集正确率为:96.89379119873047\n",
      "开始测试!\n"
     ]
    },
    {
     "name": "stderr",
     "output_type": "stream",
     "text": [
      "100%|██████████| 16/16 [00:07<00:00,  2.25it/s]\n",
      "  0%|          | 0/63 [00:00<?, ?it/s]"
     ]
    },
    {
     "name": "stdout",
     "output_type": "stream",
     "text": [
      "测试集上的loss：1.1608143774792552\n",
      "测试分类准确率为：97.3973973973974\n",
      "Saving model......\n",
      "--------第71轮训练开始---------\n"
     ]
    },
    {
     "name": "stderr",
     "output_type": "stream",
     "text": [
      "100%|██████████| 63/63 [00:29<00:00,  2.11it/s]\n",
      "  0%|          | 0/16 [00:00<?, ?it/s]"
     ]
    },
    {
     "name": "stdout",
     "output_type": "stream",
     "text": [
      "训练集正确率为:97.6202392578125\n",
      "开始测试!\n"
     ]
    },
    {
     "name": "stderr",
     "output_type": "stream",
     "text": [
      "100%|██████████| 16/16 [00:07<00:00,  2.27it/s]\n",
      "  0%|          | 0/63 [00:00<?, ?it/s]"
     ]
    },
    {
     "name": "stdout",
     "output_type": "stream",
     "text": [
      "测试集上的loss：1.0198039105162024\n",
      "测试分类准确率为：97.7977977977978\n",
      "Saving model......\n",
      "--------第72轮训练开始---------\n"
     ]
    },
    {
     "name": "stderr",
     "output_type": "stream",
     "text": [
      "100%|██████████| 63/63 [00:29<00:00,  2.11it/s]\n",
      "  0%|          | 0/16 [00:00<?, ?it/s]"
     ]
    },
    {
     "name": "stdout",
     "output_type": "stream",
     "text": [
      "训练集正确率为:96.76853942871094\n",
      "开始测试!\n"
     ]
    },
    {
     "name": "stderr",
     "output_type": "stream",
     "text": [
      "100%|██████████| 16/16 [00:06<00:00,  2.37it/s]\n",
      "  0%|          | 0/63 [00:00<?, ?it/s]"
     ]
    },
    {
     "name": "stdout",
     "output_type": "stream",
     "text": [
      "测试集上的loss：1.2222838755697012\n",
      "测试分类准确率为：97.49749749749749\n",
      "Saving model......\n",
      "--------第73轮训练开始---------\n"
     ]
    },
    {
     "name": "stderr",
     "output_type": "stream",
     "text": [
      "100%|██████████| 63/63 [00:29<00:00,  2.11it/s]\n",
      "  0%|          | 0/16 [00:00<?, ?it/s]"
     ]
    },
    {
     "name": "stdout",
     "output_type": "stream",
     "text": [
      "训练集正确率为:96.91883850097656\n",
      "开始测试!\n"
     ]
    },
    {
     "name": "stderr",
     "output_type": "stream",
     "text": [
      "100%|██████████| 16/16 [00:06<00:00,  2.30it/s]\n",
      "  0%|          | 0/63 [00:00<?, ?it/s]"
     ]
    },
    {
     "name": "stdout",
     "output_type": "stream",
     "text": [
      "测试集上的loss：1.2678819801658392\n",
      "测试分类准确率为：97.49749749749749\n",
      "Saving model......\n",
      "--------第74轮训练开始---------\n"
     ]
    },
    {
     "name": "stderr",
     "output_type": "stream",
     "text": [
      "100%|██████████| 63/63 [00:29<00:00,  2.14it/s]\n",
      "  0%|          | 0/16 [00:00<?, ?it/s]"
     ]
    },
    {
     "name": "stdout",
     "output_type": "stream",
     "text": [
      "训练集正确率为:96.69338989257812\n",
      "开始测试!\n"
     ]
    },
    {
     "name": "stderr",
     "output_type": "stream",
     "text": [
      "100%|██████████| 16/16 [00:07<00:00,  2.28it/s]\n",
      "  0%|          | 0/63 [00:00<?, ?it/s]"
     ]
    },
    {
     "name": "stdout",
     "output_type": "stream",
     "text": [
      "测试集上的loss：0.8172605857253075\n",
      "测试分类准确率为：98.49849849849849\n",
      "Saving model......\n",
      "--------第75轮训练开始---------\n"
     ]
    },
    {
     "name": "stderr",
     "output_type": "stream",
     "text": [
      "100%|██████████| 63/63 [00:29<00:00,  2.14it/s]\n",
      "  0%|          | 0/16 [00:00<?, ?it/s]"
     ]
    },
    {
     "name": "stdout",
     "output_type": "stream",
     "text": [
      "训练集正确率为:97.5200424194336\n",
      "开始测试!\n"
     ]
    },
    {
     "name": "stderr",
     "output_type": "stream",
     "text": [
      "100%|██████████| 16/16 [00:06<00:00,  2.33it/s]\n",
      "  0%|          | 0/63 [00:00<?, ?it/s]"
     ]
    },
    {
     "name": "stdout",
     "output_type": "stream",
     "text": [
      "测试集上的loss：1.3535685278475285\n",
      "测试分类准确率为：96.996996996997\n",
      "Saving model......\n",
      "--------第76轮训练开始---------\n"
     ]
    },
    {
     "name": "stderr",
     "output_type": "stream",
     "text": [
      "100%|██████████| 63/63 [00:29<00:00,  2.12it/s]\n",
      "  0%|          | 0/16 [00:00<?, ?it/s]"
     ]
    },
    {
     "name": "stdout",
     "output_type": "stream",
     "text": [
      "训练集正确率为:96.91883850097656\n",
      "开始测试!\n"
     ]
    },
    {
     "name": "stderr",
     "output_type": "stream",
     "text": [
      "100%|██████████| 16/16 [00:07<00:00,  2.24it/s]\n",
      "  0%|          | 0/63 [00:00<?, ?it/s]"
     ]
    },
    {
     "name": "stdout",
     "output_type": "stream",
     "text": [
      "测试集上的loss：1.0800761450082064\n",
      "测试分类准确率为：97.89789789789789\n",
      "Saving model......\n",
      "--------第77轮训练开始---------\n"
     ]
    },
    {
     "name": "stderr",
     "output_type": "stream",
     "text": [
      "100%|██████████| 63/63 [00:29<00:00,  2.15it/s]\n",
      "  0%|          | 0/16 [00:00<?, ?it/s]"
     ]
    },
    {
     "name": "stdout",
     "output_type": "stream",
     "text": [
      "训练集正确率为:97.26953887939453\n",
      "开始测试!\n"
     ]
    },
    {
     "name": "stderr",
     "output_type": "stream",
     "text": [
      "100%|██████████| 16/16 [00:07<00:00,  2.27it/s]\n",
      "  0%|          | 0/63 [00:00<?, ?it/s]"
     ]
    },
    {
     "name": "stdout",
     "output_type": "stream",
     "text": [
      "测试集上的loss：1.1000575069338083\n",
      "测试分类准确率为：97.3973973973974\n",
      "Saving model......\n",
      "--------第78轮训练开始---------\n"
     ]
    },
    {
     "name": "stderr",
     "output_type": "stream",
     "text": [
      "100%|██████████| 63/63 [00:29<00:00,  2.14it/s]\n",
      "  0%|          | 0/16 [00:00<?, ?it/s]"
     ]
    },
    {
     "name": "stdout",
     "output_type": "stream",
     "text": [
      "训练集正确率为:97.44489288330078\n",
      "开始测试!\n"
     ]
    },
    {
     "name": "stderr",
     "output_type": "stream",
     "text": [
      "100%|██████████| 16/16 [00:07<00:00,  2.27it/s]\n",
      "  0%|          | 0/63 [00:00<?, ?it/s]"
     ]
    },
    {
     "name": "stdout",
     "output_type": "stream",
     "text": [
      "测试集上的loss：1.2581996582448483\n",
      "测试分类准确率为：97.69769769769769\n",
      "Saving model......\n",
      "--------第79轮训练开始---------\n"
     ]
    },
    {
     "name": "stderr",
     "output_type": "stream",
     "text": [
      "100%|██████████| 63/63 [00:29<00:00,  2.11it/s]\n",
      "  0%|          | 0/16 [00:00<?, ?it/s]"
     ]
    },
    {
     "name": "stdout",
     "output_type": "stream",
     "text": [
      "训练集正确率为:97.64529418945312\n",
      "开始测试!\n"
     ]
    },
    {
     "name": "stderr",
     "output_type": "stream",
     "text": [
      "100%|██████████| 16/16 [00:06<00:00,  2.37it/s]\n",
      "  0%|          | 0/63 [00:00<?, ?it/s]"
     ]
    },
    {
     "name": "stdout",
     "output_type": "stream",
     "text": [
      "测试集上的loss：1.1421992676332593\n",
      "测试分类准确率为：97.5975975975976\n",
      "Saving model......\n",
      "--------第80轮训练开始---------\n"
     ]
    },
    {
     "name": "stderr",
     "output_type": "stream",
     "text": [
      "100%|██████████| 63/63 [00:29<00:00,  2.16it/s]\n",
      "  0%|          | 0/16 [00:00<?, ?it/s]"
     ]
    },
    {
     "name": "stdout",
     "output_type": "stream",
     "text": [
      "训练集正确率为:97.54508972167969\n",
      "开始测试!\n"
     ]
    },
    {
     "name": "stderr",
     "output_type": "stream",
     "text": [
      "100%|██████████| 16/16 [00:06<00:00,  2.31it/s]\n",
      "  0%|          | 0/63 [00:00<?, ?it/s]"
     ]
    },
    {
     "name": "stdout",
     "output_type": "stream",
     "text": [
      "测试集上的loss：1.0564197208732367\n",
      "测试分类准确率为：97.89789789789789\n",
      "Saving model......\n",
      "训练结束!\n",
      "--------第61轮训练开始---------\n"
     ]
    },
    {
     "name": "stderr",
     "output_type": "stream",
     "text": [
      "100%|██████████| 63/63 [00:29<00:00,  2.15it/s]\n",
      "  0%|          | 0/16 [00:00<?, ?it/s]"
     ]
    },
    {
     "name": "stdout",
     "output_type": "stream",
     "text": [
      "训练集正确率为:97.24517822265625\n",
      "开始测试!\n"
     ]
    },
    {
     "name": "stderr",
     "output_type": "stream",
     "text": [
      "100%|██████████| 16/16 [00:06<00:00,  2.29it/s]\n",
      "  0%|          | 0/63 [00:00<?, ?it/s]"
     ]
    },
    {
     "name": "stdout",
     "output_type": "stream",
     "text": [
      "测试集上的loss：0.5227775662206113\n",
      "测试分类准确率为：99.09819639278557\n",
      "Saving model......\n",
      "--------第62轮训练开始---------\n"
     ]
    },
    {
     "name": "stderr",
     "output_type": "stream",
     "text": [
      "100%|██████████| 63/63 [00:29<00:00,  2.15it/s]\n",
      "  0%|          | 0/16 [00:00<?, ?it/s]"
     ]
    },
    {
     "name": "stdout",
     "output_type": "stream",
     "text": [
      "训练集正确率为:96.54395294189453\n",
      "开始测试!\n"
     ]
    },
    {
     "name": "stderr",
     "output_type": "stream",
     "text": [
      "100%|██████████| 16/16 [00:07<00:00,  2.17it/s]\n",
      "  0%|          | 0/63 [00:00<?, ?it/s]"
     ]
    },
    {
     "name": "stdout",
     "output_type": "stream",
     "text": [
      "测试集上的loss：0.6547866268083453\n",
      "测试分类准确率为：98.69739478957916\n",
      "Saving model......\n",
      "--------第63轮训练开始---------\n"
     ]
    },
    {
     "name": "stderr",
     "output_type": "stream",
     "text": [
      "100%|██████████| 63/63 [02:03<00:00,  1.96s/it]\n",
      "  0%|          | 0/16 [00:00<?, ?it/s]"
     ]
    },
    {
     "name": "stdout",
     "output_type": "stream",
     "text": [
      "训练集正确率为:96.96969604492188\n",
      "开始测试!\n"
     ]
    },
    {
     "name": "stderr",
     "output_type": "stream",
     "text": [
      "100%|██████████| 16/16 [00:07<00:00,  2.20it/s]\n",
      "  0%|          | 0/63 [00:00<?, ?it/s]"
     ]
    },
    {
     "name": "stdout",
     "output_type": "stream",
     "text": [
      "测试集上的loss：0.4888261635787785\n",
      "测试分类准确率为：99.29859719438878\n",
      "Saving model......\n",
      "--------第64轮训练开始---------\n"
     ]
    },
    {
     "name": "stderr",
     "output_type": "stream",
     "text": [
      "100%|██████████| 63/63 [00:28<00:00,  2.19it/s]\n",
      "  0%|          | 0/16 [00:00<?, ?it/s]"
     ]
    },
    {
     "name": "stdout",
     "output_type": "stream",
     "text": [
      "训练集正确率为:96.94465637207031\n",
      "开始测试!\n"
     ]
    },
    {
     "name": "stderr",
     "output_type": "stream",
     "text": [
      "100%|██████████| 16/16 [00:07<00:00,  2.19it/s]\n",
      "  0%|          | 0/63 [00:00<?, ?it/s]"
     ]
    },
    {
     "name": "stdout",
     "output_type": "stream",
     "text": [
      "测试集上的loss：0.4015135681256652\n",
      "测试分类准确率为：99.59919839679358\n",
      "Saving model......\n",
      "--------第65轮训练开始---------\n"
     ]
    },
    {
     "name": "stderr",
     "output_type": "stream",
     "text": [
      "100%|██████████| 63/63 [00:29<00:00,  2.17it/s]\n",
      "  0%|          | 0/16 [00:00<?, ?it/s]"
     ]
    },
    {
     "name": "stdout",
     "output_type": "stream",
     "text": [
      "训练集正确率为:97.22013854980469\n",
      "开始测试!\n"
     ]
    },
    {
     "name": "stderr",
     "output_type": "stream",
     "text": [
      "100%|██████████| 16/16 [00:07<00:00,  2.19it/s]\n",
      "  0%|          | 0/63 [00:00<?, ?it/s]"
     ]
    },
    {
     "name": "stdout",
     "output_type": "stream",
     "text": [
      "测试集上的loss：0.8011336922645569\n",
      "测试分类准确率为：98.29659318637275\n",
      "Saving model......\n",
      "--------第66轮训练开始---------\n"
     ]
    },
    {
     "name": "stderr",
     "output_type": "stream",
     "text": [
      "100%|██████████| 63/63 [00:29<00:00,  2.14it/s]\n",
      "  0%|          | 0/16 [00:00<?, ?it/s]"
     ]
    },
    {
     "name": "stdout",
     "output_type": "stream",
     "text": [
      "训练集正确率为:96.91960906982422\n",
      "开始测试!\n"
     ]
    },
    {
     "name": "stderr",
     "output_type": "stream",
     "text": [
      "100%|██████████| 16/16 [00:07<00:00,  2.24it/s]\n",
      "  0%|          | 0/63 [00:00<?, ?it/s]"
     ]
    },
    {
     "name": "stdout",
     "output_type": "stream",
     "text": [
      "测试集上的loss：0.4507569372653961\n",
      "测试分类准确率为：99.39879759519039\n",
      "Saving model......\n",
      "--------第67轮训练开始---------\n"
     ]
    },
    {
     "name": "stderr",
     "output_type": "stream",
     "text": [
      "100%|██████████| 63/63 [00:29<00:00,  2.15it/s]\n",
      "  0%|          | 0/16 [00:00<?, ?it/s]"
     ]
    },
    {
     "name": "stdout",
     "output_type": "stream",
     "text": [
      "训练集正确率为:97.04483032226562\n",
      "开始测试!\n"
     ]
    },
    {
     "name": "stderr",
     "output_type": "stream",
     "text": [
      "100%|██████████| 16/16 [00:07<00:00,  2.16it/s]\n",
      "  0%|          | 0/63 [00:00<?, ?it/s]"
     ]
    },
    {
     "name": "stdout",
     "output_type": "stream",
     "text": [
      "测试集上的loss：1.1510641975328326\n",
      "测试分类准确率为：97.69539078156312\n",
      "Saving model......\n",
      "--------第68轮训练开始---------\n"
     ]
    },
    {
     "name": "stderr",
     "output_type": "stream",
     "text": [
      "100%|██████████| 63/63 [00:29<00:00,  2.15it/s]\n",
      "  0%|          | 0/16 [00:00<?, ?it/s]"
     ]
    },
    {
     "name": "stdout",
     "output_type": "stream",
     "text": [
      "训练集正确率为:97.37039947509766\n",
      "开始测试!\n"
     ]
    },
    {
     "name": "stderr",
     "output_type": "stream",
     "text": [
      "100%|██████████| 16/16 [00:07<00:00,  2.27it/s]\n",
      "  0%|          | 0/63 [00:00<?, ?it/s]"
     ]
    },
    {
     "name": "stdout",
     "output_type": "stream",
     "text": [
      "测试集上的loss：0.6461322251707315\n",
      "测试分类准确率为：98.69739478957916\n",
      "Saving model......\n",
      "--------第69轮训练开始---------\n"
     ]
    },
    {
     "name": "stderr",
     "output_type": "stream",
     "text": [
      "100%|██████████| 63/63 [00:29<00:00,  2.12it/s]\n",
      "  0%|          | 0/16 [00:00<?, ?it/s]"
     ]
    },
    {
     "name": "stdout",
     "output_type": "stream",
     "text": [
      "训练集正确率为:97.09491729736328\n",
      "开始测试!\n"
     ]
    },
    {
     "name": "stderr",
     "output_type": "stream",
     "text": [
      "100%|██████████| 16/16 [00:07<00:00,  2.17it/s]\n",
      "  0%|          | 0/63 [00:00<?, ?it/s]"
     ]
    },
    {
     "name": "stdout",
     "output_type": "stream",
     "text": [
      "测试集上的loss：0.5063335504382849\n",
      "测试分类准确率为：99.09819639278557\n",
      "Saving model......\n",
      "--------第70轮训练开始---------\n"
     ]
    },
    {
     "name": "stderr",
     "output_type": "stream",
     "text": [
      "100%|██████████| 63/63 [00:29<00:00,  2.15it/s]\n",
      "  0%|          | 0/16 [00:00<?, ?it/s]"
     ]
    },
    {
     "name": "stdout",
     "output_type": "stream",
     "text": [
      "训练集正确率为:96.76934814453125\n",
      "开始测试!\n"
     ]
    },
    {
     "name": "stderr",
     "output_type": "stream",
     "text": [
      "100%|██████████| 16/16 [00:07<00:00,  2.16it/s]\n",
      "  0%|          | 0/63 [00:00<?, ?it/s]"
     ]
    },
    {
     "name": "stdout",
     "output_type": "stream",
     "text": [
      "测试集上的loss：0.5838688127696514\n",
      "测试分类准确率为：99.19839679358718\n",
      "Saving model......\n",
      "--------第71轮训练开始---------\n"
     ]
    },
    {
     "name": "stderr",
     "output_type": "stream",
     "text": [
      "100%|██████████| 63/63 [00:29<00:00,  2.16it/s]\n",
      "  0%|          | 0/16 [00:00<?, ?it/s]"
     ]
    },
    {
     "name": "stdout",
     "output_type": "stream",
     "text": [
      "训练集正确率为:96.84447479248047\n",
      "开始测试!\n"
     ]
    },
    {
     "name": "stderr",
     "output_type": "stream",
     "text": [
      "100%|██████████| 16/16 [00:07<00:00,  2.23it/s]\n",
      "  0%|          | 0/63 [00:00<?, ?it/s]"
     ]
    },
    {
     "name": "stdout",
     "output_type": "stream",
     "text": [
      "测试集上的loss：0.8135217130184174\n",
      "测试分类准确率为：98.49699398797596\n",
      "Saving model......\n",
      "--------第72轮训练开始---------\n"
     ]
    },
    {
     "name": "stderr",
     "output_type": "stream",
     "text": [
      "100%|██████████| 63/63 [00:29<00:00,  2.14it/s]\n",
      "  0%|          | 0/16 [00:00<?, ?it/s]"
     ]
    },
    {
     "name": "stdout",
     "output_type": "stream",
     "text": [
      "训练集正确率为:97.11995697021484\n",
      "开始测试!\n"
     ]
    },
    {
     "name": "stderr",
     "output_type": "stream",
     "text": [
      "100%|██████████| 16/16 [00:07<00:00,  2.22it/s]\n",
      "  0%|          | 0/63 [00:00<?, ?it/s]"
     ]
    },
    {
     "name": "stdout",
     "output_type": "stream",
     "text": [
      "测试集上的loss：1.1211352311074734\n",
      "测试分类准确率为：97.49498997995993\n",
      "Saving model......\n",
      "--------第73轮训练开始---------\n"
     ]
    },
    {
     "name": "stderr",
     "output_type": "stream",
     "text": [
      "100%|██████████| 63/63 [00:29<00:00,  2.16it/s]\n",
      "  0%|          | 0/16 [00:00<?, ?it/s]"
     ]
    },
    {
     "name": "stdout",
     "output_type": "stream",
     "text": [
      "训练集正确率为:97.3203125\n",
      "开始测试!\n"
     ]
    },
    {
     "name": "stderr",
     "output_type": "stream",
     "text": [
      "100%|██████████| 16/16 [00:07<00:00,  2.15it/s]\n",
      "  0%|          | 0/63 [00:00<?, ?it/s]"
     ]
    },
    {
     "name": "stdout",
     "output_type": "stream",
     "text": [
      "测试集上的loss：0.8714143261313438\n",
      "测试分类准确率为：98.19639278557115\n",
      "Saving model......\n",
      "--------第74轮训练开始---------\n"
     ]
    },
    {
     "name": "stderr",
     "output_type": "stream",
     "text": [
      "100%|██████████| 63/63 [00:29<00:00,  2.14it/s]\n",
      "  0%|          | 0/16 [00:00<?, ?it/s]"
     ]
    },
    {
     "name": "stdout",
     "output_type": "stream",
     "text": [
      "训练集正确率为:97.11995697021484\n",
      "开始测试!\n"
     ]
    },
    {
     "name": "stderr",
     "output_type": "stream",
     "text": [
      "100%|██████████| 16/16 [00:07<00:00,  2.22it/s]\n",
      "  0%|          | 0/63 [00:00<?, ?it/s]"
     ]
    },
    {
     "name": "stdout",
     "output_type": "stream",
     "text": [
      "测试集上的loss：0.8946052044630051\n",
      "测试分类准确率为：97.79559118236473\n",
      "Saving model......\n",
      "--------第75轮训练开始---------\n"
     ]
    },
    {
     "name": "stderr",
     "output_type": "stream",
     "text": [
      "100%|██████████| 63/63 [00:28<00:00,  2.20it/s]\n",
      "  0%|          | 0/16 [00:00<?, ?it/s]"
     ]
    },
    {
     "name": "stdout",
     "output_type": "stream",
     "text": [
      "训练集正确率为:97.54570770263672\n",
      "开始测试!\n"
     ]
    },
    {
     "name": "stderr",
     "output_type": "stream",
     "text": [
      "100%|██████████| 16/16 [00:07<00:00,  2.10it/s]\n",
      "  0%|          | 0/63 [00:00<?, ?it/s]"
     ]
    },
    {
     "name": "stdout",
     "output_type": "stream",
     "text": [
      "测试集上的loss：0.6910197604447603\n",
      "测试分类准确率为：99.19839679358718\n",
      "Saving model......\n",
      "--------第76轮训练开始---------\n"
     ]
    },
    {
     "name": "stderr",
     "output_type": "stream",
     "text": [
      "100%|██████████| 63/63 [00:29<00:00,  2.17it/s]\n",
      "  0%|          | 0/16 [00:00<?, ?it/s]"
     ]
    },
    {
     "name": "stdout",
     "output_type": "stream",
     "text": [
      "训练集正确率为:97.27022552490234\n",
      "开始测试!\n"
     ]
    },
    {
     "name": "stderr",
     "output_type": "stream",
     "text": [
      "100%|██████████| 16/16 [00:07<00:00,  2.19it/s]\n",
      "  0%|          | 0/63 [00:00<?, ?it/s]"
     ]
    },
    {
     "name": "stdout",
     "output_type": "stream",
     "text": [
      "测试集上的loss：0.8438204638659954\n",
      "测试分类准确率为：97.99599198396794\n",
      "Saving model......\n",
      "--------第77轮训练开始---------\n"
     ]
    },
    {
     "name": "stderr",
     "output_type": "stream",
     "text": [
      "100%|██████████| 63/63 [00:29<00:00,  2.17it/s]\n",
      "  0%|          | 0/16 [00:00<?, ?it/s]"
     ]
    },
    {
     "name": "stdout",
     "output_type": "stream",
     "text": [
      "训练集正确率为:97.6709213256836\n",
      "开始测试!\n"
     ]
    },
    {
     "name": "stderr",
     "output_type": "stream",
     "text": [
      "100%|██████████| 16/16 [00:07<00:00,  2.16it/s]\n",
      "  0%|          | 0/63 [00:00<?, ?it/s]"
     ]
    },
    {
     "name": "stdout",
     "output_type": "stream",
     "text": [
      "测试集上的loss：0.8124855337664485\n",
      "测试分类准确率为：98.39679358717434\n",
      "Saving model......\n",
      "--------第78轮训练开始---------\n"
     ]
    },
    {
     "name": "stderr",
     "output_type": "stream",
     "text": [
      "100%|██████████| 63/63 [00:29<00:00,  2.16it/s]\n",
      "  0%|          | 0/16 [00:00<?, ?it/s]"
     ]
    },
    {
     "name": "stdout",
     "output_type": "stream",
     "text": [
      "训练集正确率为:96.84447479248047\n",
      "开始测试!\n"
     ]
    },
    {
     "name": "stderr",
     "output_type": "stream",
     "text": [
      "100%|██████████| 16/16 [00:07<00:00,  2.15it/s]\n",
      "  0%|          | 0/63 [00:00<?, ?it/s]"
     ]
    },
    {
     "name": "stdout",
     "output_type": "stream",
     "text": [
      "测试集上的loss：2.0578335486352444\n",
      "测试分类准确率为：95.69138276553106\n",
      "Saving model......\n",
      "--------第79轮训练开始---------\n"
     ]
    },
    {
     "name": "stderr",
     "output_type": "stream",
     "text": [
      "100%|██████████| 63/63 [00:29<00:00,  2.16it/s]\n",
      "  0%|          | 0/16 [00:00<?, ?it/s]"
     ]
    },
    {
     "name": "stdout",
     "output_type": "stream",
     "text": [
      "训练集正确率为:97.27022552490234\n",
      "开始测试!\n"
     ]
    },
    {
     "name": "stderr",
     "output_type": "stream",
     "text": [
      "100%|██████████| 16/16 [00:07<00:00,  2.22it/s]\n",
      "  0%|          | 0/63 [00:00<?, ?it/s]"
     ]
    },
    {
     "name": "stdout",
     "output_type": "stream",
     "text": [
      "测试集上的loss：0.7777719218283892\n",
      "测试分类准确率为：98.09619238476954\n",
      "Saving model......\n",
      "--------第80轮训练开始---------\n"
     ]
    },
    {
     "name": "stderr",
     "output_type": "stream",
     "text": [
      "100%|██████████| 63/63 [00:29<00:00,  2.11it/s]\n",
      "  0%|          | 0/16 [00:00<?, ?it/s]"
     ]
    },
    {
     "name": "stdout",
     "output_type": "stream",
     "text": [
      "训练集正确率为:97.74605560302734\n",
      "开始测试!\n"
     ]
    },
    {
     "name": "stderr",
     "output_type": "stream",
     "text": [
      "100%|██████████| 16/16 [00:07<00:00,  2.15it/s]\n",
      "  0%|          | 0/63 [00:00<?, ?it/s]"
     ]
    },
    {
     "name": "stdout",
     "output_type": "stream",
     "text": [
      "测试集上的loss：1.2476555444300175\n",
      "测试分类准确率为：97.09418837675351\n",
      "Saving model......\n",
      "训练结束!\n",
      "--------第61轮训练开始---------\n"
     ]
    },
    {
     "name": "stderr",
     "output_type": "stream",
     "text": [
      "100%|██████████| 63/63 [00:29<00:00,  2.16it/s]\n",
      "  0%|          | 0/16 [00:00<?, ?it/s]"
     ]
    },
    {
     "name": "stdout",
     "output_type": "stream",
     "text": [
      "训练集正确率为:97.39543914794922\n",
      "开始测试!\n"
     ]
    },
    {
     "name": "stderr",
     "output_type": "stream",
     "text": [
      "100%|██████████| 16/16 [00:07<00:00,  2.20it/s]\n",
      "  0%|          | 0/63 [00:00<?, ?it/s]"
     ]
    },
    {
     "name": "stdout",
     "output_type": "stream",
     "text": [
      "测试集上的loss：1.1693231612443924\n",
      "测试分类准确率为：97.29458917835672\n",
      "Saving model......\n",
      "--------第62轮训练开始---------\n"
     ]
    },
    {
     "name": "stderr",
     "output_type": "stream",
     "text": [
      "100%|██████████| 63/63 [00:29<00:00,  2.15it/s]\n",
      "  0%|          | 0/16 [00:00<?, ?it/s]"
     ]
    },
    {
     "name": "stdout",
     "output_type": "stream",
     "text": [
      "训练集正确率为:97.09491729736328\n",
      "开始测试!\n"
     ]
    },
    {
     "name": "stderr",
     "output_type": "stream",
     "text": [
      "100%|██████████| 16/16 [00:07<00:00,  2.25it/s]\n",
      "  0%|          | 0/63 [00:00<?, ?it/s]"
     ]
    },
    {
     "name": "stdout",
     "output_type": "stream",
     "text": [
      "测试集上的loss：0.5677697816863656\n",
      "测试分类准确率为：99.19839679358718\n",
      "Saving model......\n",
      "--------第63轮训练开始---------\n"
     ]
    },
    {
     "name": "stderr",
     "output_type": "stream",
     "text": [
      "100%|██████████| 63/63 [00:29<00:00,  2.17it/s]\n",
      "  0%|          | 0/16 [00:00<?, ?it/s]"
     ]
    },
    {
     "name": "stdout",
     "output_type": "stream",
     "text": [
      "训练集正确率为:97.59579467773438\n",
      "开始测试!\n"
     ]
    },
    {
     "name": "stderr",
     "output_type": "stream",
     "text": [
      "100%|██████████| 16/16 [00:07<00:00,  2.14it/s]\n",
      "  0%|          | 0/63 [00:00<?, ?it/s]"
     ]
    },
    {
     "name": "stdout",
     "output_type": "stream",
     "text": [
      "测试集上的loss：1.482336562126875\n",
      "测试分类准确率为：96.19238476953907\n",
      "Saving model......\n",
      "--------第64轮训练开始---------\n"
     ]
    },
    {
     "name": "stderr",
     "output_type": "stream",
     "text": [
      "100%|██████████| 63/63 [00:29<00:00,  2.16it/s]\n",
      "  0%|          | 0/16 [00:00<?, ?it/s]"
     ]
    },
    {
     "name": "stdout",
     "output_type": "stream",
     "text": [
      "训练集正确率为:97.54570770263672\n",
      "开始测试!\n"
     ]
    },
    {
     "name": "stderr",
     "output_type": "stream",
     "text": [
      "100%|██████████| 16/16 [00:07<00:00,  2.16it/s]\n",
      "  0%|          | 0/63 [00:00<?, ?it/s]"
     ]
    },
    {
     "name": "stdout",
     "output_type": "stream",
     "text": [
      "测试集上的loss：0.6715730796568096\n",
      "测试分类准确率为：98.79759519038076\n",
      "Saving model......\n",
      "--------第65轮训练开始---------\n"
     ]
    },
    {
     "name": "stderr",
     "output_type": "stream",
     "text": [
      "100%|██████████| 63/63 [00:29<00:00,  2.16it/s]\n",
      "  0%|          | 0/16 [00:00<?, ?it/s]"
     ]
    },
    {
     "name": "stdout",
     "output_type": "stream",
     "text": [
      "训练集正确率为:97.42048645019531\n",
      "开始测试!\n"
     ]
    },
    {
     "name": "stderr",
     "output_type": "stream",
     "text": [
      "100%|██████████| 16/16 [00:07<00:00,  2.23it/s]\n",
      "  0%|          | 0/63 [00:00<?, ?it/s]"
     ]
    },
    {
     "name": "stdout",
     "output_type": "stream",
     "text": [
      "测试集上的loss：0.5430444506928325\n",
      "测试分类准确率为：99.09819639278557\n",
      "Saving model......\n",
      "--------第66轮训练开始---------\n"
     ]
    },
    {
     "name": "stderr",
     "output_type": "stream",
     "text": [
      "100%|██████████| 63/63 [00:29<00:00,  2.14it/s]\n",
      "  0%|          | 0/16 [00:00<?, ?it/s]"
     ]
    },
    {
     "name": "stdout",
     "output_type": "stream",
     "text": [
      "训练集正确率为:97.6709213256836\n",
      "开始测试!\n"
     ]
    },
    {
     "name": "stderr",
     "output_type": "stream",
     "text": [
      "100%|██████████| 16/16 [00:07<00:00,  2.20it/s]\n",
      "  0%|          | 0/63 [00:00<?, ?it/s]"
     ]
    },
    {
     "name": "stdout",
     "output_type": "stream",
     "text": [
      "测试集上的loss：2.1915123388171196\n",
      "测试分类准确率为：93.9879759519038\n",
      "Saving model......\n",
      "--------第67轮训练开始---------\n"
     ]
    },
    {
     "name": "stderr",
     "output_type": "stream",
     "text": [
      "100%|██████████| 63/63 [00:29<00:00,  2.16it/s]\n",
      "  0%|          | 0/16 [00:00<?, ?it/s]"
     ]
    },
    {
     "name": "stdout",
     "output_type": "stream",
     "text": [
      "训练集正确率为:97.99649047851562\n",
      "开始测试!\n"
     ]
    },
    {
     "name": "stderr",
     "output_type": "stream",
     "text": [
      "100%|██████████| 16/16 [00:07<00:00,  2.18it/s]\n",
      "  0%|          | 0/63 [00:00<?, ?it/s]"
     ]
    },
    {
     "name": "stdout",
     "output_type": "stream",
     "text": [
      "测试集上的loss：0.8511704159900546\n",
      "测试分类准确率为：97.89579158316633\n",
      "Saving model......\n",
      "--------第68轮训练开始---------\n"
     ]
    },
    {
     "name": "stderr",
     "output_type": "stream",
     "text": [
      "100%|██████████| 63/63 [00:29<00:00,  2.12it/s]\n",
      "  0%|          | 0/16 [00:00<?, ?it/s]"
     ]
    },
    {
     "name": "stdout",
     "output_type": "stream",
     "text": [
      "训练集正确率为:97.99649047851562\n",
      "开始测试!\n"
     ]
    },
    {
     "name": "stderr",
     "output_type": "stream",
     "text": [
      "100%|██████████| 16/16 [00:07<00:00,  2.16it/s]\n",
      "  0%|          | 0/63 [00:00<?, ?it/s]"
     ]
    },
    {
     "name": "stdout",
     "output_type": "stream",
     "text": [
      "测试集上的loss：0.9165449161082506\n",
      "测试分类准确率为：98.29659318637275\n",
      "Saving model......\n",
      "--------第69轮训练开始---------\n"
     ]
    },
    {
     "name": "stderr",
     "output_type": "stream",
     "text": [
      "100%|██████████| 63/63 [00:29<00:00,  2.15it/s]\n",
      "  0%|          | 0/16 [00:00<?, ?it/s]"
     ]
    },
    {
     "name": "stdout",
     "output_type": "stream",
     "text": [
      "训练集正确率为:97.22013854980469\n",
      "开始测试!\n"
     ]
    },
    {
     "name": "stderr",
     "output_type": "stream",
     "text": [
      "100%|██████████| 16/16 [00:07<00:00,  2.23it/s]\n",
      "  0%|          | 0/63 [00:00<?, ?it/s]"
     ]
    },
    {
     "name": "stdout",
     "output_type": "stream",
     "text": [
      "测试集上的loss：0.6486086249351501\n",
      "测试分类准确率为：98.29659318637275\n",
      "Saving model......\n",
      "--------第70轮训练开始---------\n"
     ]
    },
    {
     "name": "stderr",
     "output_type": "stream",
     "text": [
      "100%|██████████| 63/63 [00:28<00:00,  2.19it/s]\n",
      "  0%|          | 0/16 [00:00<?, ?it/s]"
     ]
    },
    {
     "name": "stdout",
     "output_type": "stream",
     "text": [
      "训练集正确率为:97.6709213256836\n",
      "开始测试!\n"
     ]
    },
    {
     "name": "stderr",
     "output_type": "stream",
     "text": [
      "100%|██████████| 16/16 [00:07<00:00,  2.19it/s]\n",
      "  0%|          | 0/63 [00:00<?, ?it/s]"
     ]
    },
    {
     "name": "stdout",
     "output_type": "stream",
     "text": [
      "测试集上的loss：0.8758876528590918\n",
      "测试分类准确率为：97.69539078156312\n",
      "Saving model......\n",
      "--------第71轮训练开始---------\n"
     ]
    },
    {
     "name": "stderr",
     "output_type": "stream",
     "text": [
      "100%|██████████| 63/63 [00:29<00:00,  2.16it/s]\n",
      "  0%|          | 0/16 [00:00<?, ?it/s]"
     ]
    },
    {
     "name": "stdout",
     "output_type": "stream",
     "text": [
      "训练集正确率为:97.59579467773438\n",
      "开始测试!\n"
     ]
    },
    {
     "name": "stderr",
     "output_type": "stream",
     "text": [
      "100%|██████████| 16/16 [00:07<00:00,  2.23it/s]\n",
      "  0%|          | 0/63 [00:00<?, ?it/s]"
     ]
    },
    {
     "name": "stdout",
     "output_type": "stream",
     "text": [
      "测试集上的loss：0.9440371841192245\n",
      "测试分类准确率为：97.99599198396794\n",
      "Saving model......\n",
      "--------第72轮训练开始---------\n"
     ]
    },
    {
     "name": "stderr",
     "output_type": "stream",
     "text": [
      "100%|██████████| 63/63 [00:29<00:00,  2.15it/s]\n",
      "  0%|          | 0/16 [00:00<?, ?it/s]"
     ]
    },
    {
     "name": "stdout",
     "output_type": "stream",
     "text": [
      "训练集正确率为:97.54570770263672\n",
      "开始测试!\n"
     ]
    },
    {
     "name": "stderr",
     "output_type": "stream",
     "text": [
      "100%|██████████| 16/16 [00:07<00:00,  2.24it/s]\n",
      "  0%|          | 0/63 [00:00<?, ?it/s]"
     ]
    },
    {
     "name": "stdout",
     "output_type": "stream",
     "text": [
      "测试集上的loss：1.2540294155478477\n",
      "测试分类准确率为：97.09418837675351\n",
      "Saving model......\n",
      "--------第73轮训练开始---------\n"
     ]
    },
    {
     "name": "stderr",
     "output_type": "stream",
     "text": [
      "100%|██████████| 63/63 [00:29<00:00,  2.10it/s]\n",
      "  0%|          | 0/16 [00:00<?, ?it/s]"
     ]
    },
    {
     "name": "stdout",
     "output_type": "stream",
     "text": [
      "训练集正确率为:97.42048645019531\n",
      "开始测试!\n"
     ]
    },
    {
     "name": "stderr",
     "output_type": "stream",
     "text": [
      "100%|██████████| 16/16 [00:07<00:00,  2.19it/s]\n",
      "  0%|          | 0/63 [00:00<?, ?it/s]"
     ]
    },
    {
     "name": "stdout",
     "output_type": "stream",
     "text": [
      "测试集上的loss：0.9602707363665104\n",
      "测试分类准确率为：97.89579158316633\n",
      "Saving model......\n",
      "--------第74轮训练开始---------\n"
     ]
    },
    {
     "name": "stderr",
     "output_type": "stream",
     "text": [
      "100%|██████████| 63/63 [00:29<00:00,  2.16it/s]\n",
      "  0%|          | 0/16 [00:00<?, ?it/s]"
     ]
    },
    {
     "name": "stdout",
     "output_type": "stream",
     "text": [
      "训练集正确率为:97.1950912475586\n",
      "开始测试!\n"
     ]
    },
    {
     "name": "stderr",
     "output_type": "stream",
     "text": [
      "100%|██████████| 16/16 [00:07<00:00,  2.26it/s]\n",
      "  0%|          | 0/63 [00:00<?, ?it/s]"
     ]
    },
    {
     "name": "stdout",
     "output_type": "stream",
     "text": [
      "测试集上的loss：0.9606240037828684\n",
      "测试分类准确率为：98.59719438877755\n",
      "Saving model......\n",
      "--------第75轮训练开始---------\n"
     ]
    },
    {
     "name": "stderr",
     "output_type": "stream",
     "text": [
      "100%|██████████| 63/63 [00:29<00:00,  2.16it/s]\n",
      "  0%|          | 0/16 [00:00<?, ?it/s]"
     ]
    },
    {
     "name": "stdout",
     "output_type": "stream",
     "text": [
      "训练集正确率为:97.42048645019531\n",
      "开始测试!\n"
     ]
    },
    {
     "name": "stderr",
     "output_type": "stream",
     "text": [
      "100%|██████████| 16/16 [00:07<00:00,  2.23it/s]\n",
      "  0%|          | 0/63 [00:00<?, ?it/s]"
     ]
    },
    {
     "name": "stdout",
     "output_type": "stream",
     "text": [
      "测试集上的loss：0.9671592963859439\n",
      "测试分类准确率为：97.69539078156312\n",
      "Saving model......\n",
      "--------第76轮训练开始---------\n"
     ]
    },
    {
     "name": "stderr",
     "output_type": "stream",
     "text": [
      "100%|██████████| 63/63 [00:29<00:00,  2.14it/s]\n",
      "  0%|          | 0/16 [00:00<?, ?it/s]"
     ]
    },
    {
     "name": "stdout",
     "output_type": "stream",
     "text": [
      "训练集正确率为:97.94640350341797\n",
      "开始测试!\n"
     ]
    },
    {
     "name": "stderr",
     "output_type": "stream",
     "text": [
      "100%|██████████| 16/16 [00:07<00:00,  2.18it/s]\n",
      "  0%|          | 0/63 [00:00<?, ?it/s]"
     ]
    },
    {
     "name": "stdout",
     "output_type": "stream",
     "text": [
      "测试集上的loss：0.6318452404811978\n",
      "测试分类准确率为：98.59719438877755\n",
      "Saving model......\n",
      "--------第77轮训练开始---------\n"
     ]
    },
    {
     "name": "stderr",
     "output_type": "stream",
     "text": [
      "100%|██████████| 63/63 [00:29<00:00,  2.12it/s]\n",
      "  0%|          | 0/16 [00:00<?, ?it/s]"
     ]
    },
    {
     "name": "stdout",
     "output_type": "stream",
     "text": [
      "训练集正确率为:97.84622955322266\n",
      "开始测试!\n"
     ]
    },
    {
     "name": "stderr",
     "output_type": "stream",
     "text": [
      "100%|██████████| 16/16 [00:07<00:00,  2.17it/s]\n",
      "  0%|          | 0/63 [00:00<?, ?it/s]"
     ]
    },
    {
     "name": "stdout",
     "output_type": "stream",
     "text": [
      "测试集上的loss：1.1360934926196933\n",
      "测试分类准确率为：97.79559118236473\n",
      "Saving model......\n",
      "--------第78轮训练开始---------\n"
     ]
    },
    {
     "name": "stderr",
     "output_type": "stream",
     "text": [
      "100%|██████████| 63/63 [00:29<00:00,  2.15it/s]\n",
      "  0%|          | 0/16 [00:00<?, ?it/s]"
     ]
    },
    {
     "name": "stdout",
     "output_type": "stream",
     "text": [
      "训练集正确率为:97.64588165283203\n",
      "开始测试!\n"
     ]
    },
    {
     "name": "stderr",
     "output_type": "stream",
     "text": [
      "100%|██████████| 16/16 [00:07<00:00,  2.24it/s]\n",
      "  0%|          | 0/63 [00:00<?, ?it/s]"
     ]
    },
    {
     "name": "stdout",
     "output_type": "stream",
     "text": [
      "测试集上的loss：0.8768303543329239\n",
      "测试分类准确率为：97.89579158316633\n",
      "Saving model......\n",
      "--------第79轮训练开始---------\n"
     ]
    },
    {
     "name": "stderr",
     "output_type": "stream",
     "text": [
      "100%|██████████| 63/63 [00:29<00:00,  2.14it/s]\n",
      "  0%|          | 0/16 [00:00<?, ?it/s]"
     ]
    },
    {
     "name": "stdout",
     "output_type": "stream",
     "text": [
      "训练集正确率为:97.74605560302734\n",
      "开始测试!\n"
     ]
    },
    {
     "name": "stderr",
     "output_type": "stream",
     "text": [
      "100%|██████████| 16/16 [00:07<00:00,  2.18it/s]\n",
      "  0%|          | 0/63 [00:00<?, ?it/s]"
     ]
    },
    {
     "name": "stdout",
     "output_type": "stream",
     "text": [
      "测试集上的loss：0.5740648917853832\n",
      "测试分类准确率为：98.89779559118236\n",
      "Saving model......\n",
      "--------第80轮训练开始---------\n"
     ]
    },
    {
     "name": "stderr",
     "output_type": "stream",
     "text": [
      "100%|██████████| 63/63 [00:29<00:00,  2.16it/s]\n",
      "  0%|          | 0/16 [00:00<?, ?it/s]"
     ]
    },
    {
     "name": "stdout",
     "output_type": "stream",
     "text": [
      "训练集正确率为:97.59579467773438\n",
      "开始测试!\n"
     ]
    },
    {
     "name": "stderr",
     "output_type": "stream",
     "text": [
      "100%|██████████| 16/16 [00:07<00:00,  2.19it/s]\n",
      "  0%|          | 0/63 [00:00<?, ?it/s]"
     ]
    },
    {
     "name": "stdout",
     "output_type": "stream",
     "text": [
      "测试集上的loss：0.8915768275037408\n",
      "测试分类准确率为：97.79559118236473\n",
      "Saving model......\n",
      "训练结束!\n",
      "--------第61轮训练开始---------\n"
     ]
    },
    {
     "name": "stderr",
     "output_type": "stream",
     "text": [
      "100%|██████████| 63/63 [00:29<00:00,  2.15it/s]\n",
      "  0%|          | 0/16 [00:00<?, ?it/s]"
     ]
    },
    {
     "name": "stdout",
     "output_type": "stream",
     "text": [
      "训练集正确率为:97.796142578125\n",
      "开始测试!\n"
     ]
    },
    {
     "name": "stderr",
     "output_type": "stream",
     "text": [
      "100%|██████████| 16/16 [00:07<00:00,  2.24it/s]\n",
      "  0%|          | 0/63 [00:00<?, ?it/s]"
     ]
    },
    {
     "name": "stdout",
     "output_type": "stream",
     "text": [
      "测试集上的loss：0.38790592830628157\n",
      "测试分类准确率为：99.49899799599199\n",
      "Saving model......\n",
      "--------第62轮训练开始---------\n"
     ]
    },
    {
     "name": "stderr",
     "output_type": "stream",
     "text": [
      "100%|██████████| 63/63 [00:29<00:00,  2.12it/s]\n",
      "  0%|          | 0/16 [00:00<?, ?it/s]"
     ]
    },
    {
     "name": "stdout",
     "output_type": "stream",
     "text": [
      "训练集正确率为:97.27022552490234\n",
      "开始测试!\n"
     ]
    },
    {
     "name": "stderr",
     "output_type": "stream",
     "text": [
      "100%|██████████| 16/16 [00:06<00:00,  2.30it/s]\n",
      "  0%|          | 0/63 [00:00<?, ?it/s]"
     ]
    },
    {
     "name": "stdout",
     "output_type": "stream",
     "text": [
      "测试集上的loss：0.45692119654268026\n",
      "测试分类准确率为：99.49899799599199\n",
      "Saving model......\n",
      "--------第63轮训练开始---------\n"
     ]
    },
    {
     "name": "stderr",
     "output_type": "stream",
     "text": [
      "100%|██████████| 63/63 [00:29<00:00,  2.14it/s]\n",
      "  0%|          | 0/16 [00:00<?, ?it/s]"
     ]
    },
    {
     "name": "stdout",
     "output_type": "stream",
     "text": [
      "训练集正确率为:97.72100830078125\n",
      "开始测试!\n"
     ]
    },
    {
     "name": "stderr",
     "output_type": "stream",
     "text": [
      "100%|██████████| 16/16 [00:07<00:00,  2.25it/s]\n",
      "  0%|          | 0/63 [00:00<?, ?it/s]"
     ]
    },
    {
     "name": "stdout",
     "output_type": "stream",
     "text": [
      "测试集上的loss：0.46448219008743763\n",
      "测试分类准确率为：99.19839679358718\n",
      "Saving model......\n",
      "--------第64轮训练开始---------\n"
     ]
    },
    {
     "name": "stderr",
     "output_type": "stream",
     "text": [
      "100%|██████████| 63/63 [00:29<00:00,  2.14it/s]\n",
      "  0%|          | 0/16 [00:00<?, ?it/s]"
     ]
    },
    {
     "name": "stdout",
     "output_type": "stream",
     "text": [
      "训练集正确率为:98.07162475585938\n",
      "开始测试!\n"
     ]
    },
    {
     "name": "stderr",
     "output_type": "stream",
     "text": [
      "100%|██████████| 16/16 [00:06<00:00,  2.33it/s]\n",
      "  0%|          | 0/63 [00:00<?, ?it/s]"
     ]
    },
    {
     "name": "stdout",
     "output_type": "stream",
     "text": [
      "测试集上的loss：0.4746684543788433\n",
      "测试分类准确率为：99.39879759519039\n",
      "Saving model......\n",
      "--------第65轮训练开始---------\n"
     ]
    },
    {
     "name": "stderr",
     "output_type": "stream",
     "text": [
      "100%|██████████| 63/63 [00:29<00:00,  2.13it/s]\n",
      "  0%|          | 0/16 [00:00<?, ?it/s]"
     ]
    },
    {
     "name": "stdout",
     "output_type": "stream",
     "text": [
      "训练集正确率为:97.69596862792969\n",
      "开始测试!\n"
     ]
    },
    {
     "name": "stderr",
     "output_type": "stream",
     "text": [
      "100%|██████████| 16/16 [00:07<00:00,  2.23it/s]\n",
      "  0%|          | 0/63 [00:00<?, ?it/s]"
     ]
    },
    {
     "name": "stdout",
     "output_type": "stream",
     "text": [
      "测试集上的loss：0.9810647550038993\n",
      "测试分类准确率为：97.79559118236473\n",
      "Saving model......\n",
      "--------第66轮训练开始---------\n"
     ]
    },
    {
     "name": "stderr",
     "output_type": "stream",
     "text": [
      "100%|██████████| 63/63 [00:29<00:00,  2.14it/s]\n",
      "  0%|          | 0/16 [00:00<?, ?it/s]"
     ]
    },
    {
     "name": "stdout",
     "output_type": "stream",
     "text": [
      "训练集正确率为:97.6709213256836\n",
      "开始测试!\n"
     ]
    },
    {
     "name": "stderr",
     "output_type": "stream",
     "text": [
      "100%|██████████| 16/16 [00:07<00:00,  2.24it/s]\n",
      "  0%|          | 0/63 [00:00<?, ?it/s]"
     ]
    },
    {
     "name": "stdout",
     "output_type": "stream",
     "text": [
      "测试集上的loss：0.7496508108451962\n",
      "测试分类准确率为：98.69739478957916\n",
      "Saving model......\n",
      "--------第67轮训练开始---------\n"
     ]
    },
    {
     "name": "stderr",
     "output_type": "stream",
     "text": [
      "100%|██████████| 63/63 [00:29<00:00,  2.14it/s]\n",
      "  0%|          | 0/16 [00:00<?, ?it/s]"
     ]
    },
    {
     "name": "stdout",
     "output_type": "stream",
     "text": [
      "训练集正确率为:98.04658508300781\n",
      "开始测试!\n"
     ]
    },
    {
     "name": "stderr",
     "output_type": "stream",
     "text": [
      "100%|██████████| 16/16 [00:07<00:00,  2.25it/s]\n",
      "  0%|          | 0/63 [00:00<?, ?it/s]"
     ]
    },
    {
     "name": "stdout",
     "output_type": "stream",
     "text": [
      "测试集上的loss：0.7167025785893202\n",
      "测试分类准确率为：98.39679358717434\n",
      "Saving model......\n",
      "--------第68轮训练开始---------\n"
     ]
    },
    {
     "name": "stderr",
     "output_type": "stream",
     "text": [
      "100%|██████████| 63/63 [00:29<00:00,  2.15it/s]\n",
      "  0%|          | 0/16 [00:00<?, ?it/s]"
     ]
    },
    {
     "name": "stdout",
     "output_type": "stream",
     "text": [
      "训练集正确率为:97.99649047851562\n",
      "开始测试!\n"
     ]
    },
    {
     "name": "stderr",
     "output_type": "stream",
     "text": [
      "100%|██████████| 16/16 [00:07<00:00,  2.22it/s]\n",
      "  0%|          | 0/63 [00:00<?, ?it/s]"
     ]
    },
    {
     "name": "stdout",
     "output_type": "stream",
     "text": [
      "测试集上的loss：0.6013714782893658\n",
      "测试分类准确率为：98.99799599198397\n",
      "Saving model......\n",
      "--------第69轮训练开始---------\n"
     ]
    },
    {
     "name": "stderr",
     "output_type": "stream",
     "text": [
      "100%|██████████| 63/63 [00:29<00:00,  2.16it/s]\n",
      "  0%|          | 0/16 [00:00<?, ?it/s]"
     ]
    },
    {
     "name": "stdout",
     "output_type": "stream",
     "text": [
      "训练集正确率为:98.09667205810547\n",
      "开始测试!\n"
     ]
    },
    {
     "name": "stderr",
     "output_type": "stream",
     "text": [
      "100%|██████████| 16/16 [00:07<00:00,  2.24it/s]\n",
      "  0%|          | 0/63 [00:00<?, ?it/s]"
     ]
    },
    {
     "name": "stdout",
     "output_type": "stream",
     "text": [
      "测试集上的loss：0.4133854005485773\n",
      "测试分类准确率为：99.19839679358718\n",
      "Saving model......\n",
      "--------第70轮训练开始---------\n"
     ]
    },
    {
     "name": "stderr",
     "output_type": "stream",
     "text": [
      "100%|██████████| 63/63 [00:29<00:00,  2.14it/s]\n",
      "  0%|          | 0/16 [00:00<?, ?it/s]"
     ]
    },
    {
     "name": "stdout",
     "output_type": "stream",
     "text": [
      "训练集正确率为:97.11995697021484\n",
      "开始测试!\n"
     ]
    },
    {
     "name": "stderr",
     "output_type": "stream",
     "text": [
      "100%|██████████| 16/16 [00:07<00:00,  2.24it/s]\n",
      "  0%|          | 0/63 [00:00<?, ?it/s]"
     ]
    },
    {
     "name": "stdout",
     "output_type": "stream",
     "text": [
      "测试集上的loss：1.2164405211806297\n",
      "测试分类准确率为：97.29458917835672\n",
      "Saving model......\n",
      "--------第71轮训练开始---------\n"
     ]
    },
    {
     "name": "stderr",
     "output_type": "stream",
     "text": [
      "100%|██████████| 63/63 [00:29<00:00,  2.16it/s]\n",
      "  0%|          | 0/16 [00:00<?, ?it/s]"
     ]
    },
    {
     "name": "stdout",
     "output_type": "stream",
     "text": [
      "训练集正确率为:97.47057342529297\n",
      "开始测试!\n"
     ]
    },
    {
     "name": "stderr",
     "output_type": "stream",
     "text": [
      "100%|██████████| 16/16 [00:06<00:00,  2.32it/s]\n",
      "  0%|          | 0/63 [00:00<?, ?it/s]"
     ]
    },
    {
     "name": "stdout",
     "output_type": "stream",
     "text": [
      "测试集上的loss：0.5152850886806846\n",
      "测试分类准确率为：98.99799599198397\n",
      "Saving model......\n",
      "--------第72轮训练开始---------\n"
     ]
    },
    {
     "name": "stderr",
     "output_type": "stream",
     "text": [
      "100%|██████████| 63/63 [00:29<00:00,  2.13it/s]\n",
      "  0%|          | 0/16 [00:00<?, ?it/s]"
     ]
    },
    {
     "name": "stdout",
     "output_type": "stream",
     "text": [
      "训练集正确率为:97.1950912475586\n",
      "开始测试!\n"
     ]
    },
    {
     "name": "stderr",
     "output_type": "stream",
     "text": [
      "100%|██████████| 16/16 [00:07<00:00,  2.25it/s]\n",
      "  0%|          | 0/63 [00:00<?, ?it/s]"
     ]
    },
    {
     "name": "stdout",
     "output_type": "stream",
     "text": [
      "测试集上的loss：0.5959055717103183\n",
      "测试分类准确率为：98.79759519038076\n",
      "Saving model......\n",
      "--------第73轮训练开始---------\n"
     ]
    },
    {
     "name": "stderr",
     "output_type": "stream",
     "text": [
      "100%|██████████| 63/63 [00:29<00:00,  2.13it/s]\n",
      "  0%|          | 0/16 [00:00<?, ?it/s]"
     ]
    },
    {
     "name": "stdout",
     "output_type": "stream",
     "text": [
      "训练集正确率为:97.99649047851562\n",
      "开始测试!\n"
     ]
    },
    {
     "name": "stderr",
     "output_type": "stream",
     "text": [
      "100%|██████████| 16/16 [00:07<00:00,  2.25it/s]\n",
      "  0%|          | 0/63 [00:00<?, ?it/s]"
     ]
    },
    {
     "name": "stdout",
     "output_type": "stream",
     "text": [
      "测试集上的loss：1.3292671106755733\n",
      "测试分类准确率为：96.7935871743487\n",
      "Saving model......\n",
      "--------第74轮训练开始---------\n"
     ]
    },
    {
     "name": "stderr",
     "output_type": "stream",
     "text": [
      "100%|██████████| 63/63 [00:29<00:00,  2.11it/s]\n",
      "  0%|          | 0/16 [00:00<?, ?it/s]"
     ]
    },
    {
     "name": "stdout",
     "output_type": "stream",
     "text": [
      "训练集正确率为:97.49562072753906\n",
      "开始测试!\n"
     ]
    },
    {
     "name": "stderr",
     "output_type": "stream",
     "text": [
      "100%|██████████| 16/16 [00:07<00:00,  2.24it/s]\n",
      "  0%|          | 0/63 [00:00<?, ?it/s]"
     ]
    },
    {
     "name": "stdout",
     "output_type": "stream",
     "text": [
      "测试集上的loss：0.6247811373323202\n",
      "测试分类准确率为：98.89779559118236\n",
      "Saving model......\n",
      "--------第75轮训练开始---------\n"
     ]
    },
    {
     "name": "stderr",
     "output_type": "stream",
     "text": [
      "100%|██████████| 63/63 [00:29<00:00,  2.13it/s]\n",
      "  0%|          | 0/16 [00:00<?, ?it/s]"
     ]
    },
    {
     "name": "stdout",
     "output_type": "stream",
     "text": [
      "训练集正确率为:97.89631652832031\n",
      "开始测试!\n"
     ]
    },
    {
     "name": "stderr",
     "output_type": "stream",
     "text": [
      "100%|██████████| 16/16 [00:07<00:00,  2.28it/s]\n",
      "  0%|          | 0/63 [00:00<?, ?it/s]"
     ]
    },
    {
     "name": "stdout",
     "output_type": "stream",
     "text": [
      "测试集上的loss：0.9223179863765836\n",
      "测试分类准确率为：98.09619238476954\n",
      "Saving model......\n",
      "--------第76轮训练开始---------\n"
     ]
    },
    {
     "name": "stderr",
     "output_type": "stream",
     "text": [
      "100%|██████████| 63/63 [00:29<00:00,  2.17it/s]\n",
      "  0%|          | 0/16 [00:00<?, ?it/s]"
     ]
    },
    {
     "name": "stdout",
     "output_type": "stream",
     "text": [
      "训练集正确率为:97.87127685546875\n",
      "开始测试!\n"
     ]
    },
    {
     "name": "stderr",
     "output_type": "stream",
     "text": [
      "100%|██████████| 16/16 [00:07<00:00,  2.22it/s]\n",
      "  0%|          | 0/63 [00:00<?, ?it/s]"
     ]
    },
    {
     "name": "stdout",
     "output_type": "stream",
     "text": [
      "测试集上的loss：0.6633861474692822\n",
      "测试分类准确率为：98.49699398797596\n",
      "Saving model......\n",
      "--------第77轮训练开始---------\n"
     ]
    },
    {
     "name": "stderr",
     "output_type": "stream",
     "text": [
      "100%|██████████| 63/63 [00:29<00:00,  2.14it/s]\n",
      "  0%|          | 0/16 [00:00<?, ?it/s]"
     ]
    },
    {
     "name": "stdout",
     "output_type": "stream",
     "text": [
      "训练集正确率为:98.49736785888672\n",
      "开始测试!\n"
     ]
    },
    {
     "name": "stderr",
     "output_type": "stream",
     "text": [
      "100%|██████████| 16/16 [00:07<00:00,  2.23it/s]\n",
      "  0%|          | 0/63 [00:00<?, ?it/s]"
     ]
    },
    {
     "name": "stdout",
     "output_type": "stream",
     "text": [
      "测试集上的loss：0.48948270734399557\n",
      "测试分类准确率为：99.49899799599199\n",
      "Saving model......\n",
      "--------第78轮训练开始---------\n"
     ]
    },
    {
     "name": "stderr",
     "output_type": "stream",
     "text": [
      "100%|██████████| 63/63 [00:29<00:00,  2.13it/s]\n",
      "  0%|          | 0/16 [00:00<?, ?it/s]"
     ]
    },
    {
     "name": "stdout",
     "output_type": "stream",
     "text": [
      "训练集正确率为:98.04658508300781\n",
      "开始测试!\n"
     ]
    },
    {
     "name": "stderr",
     "output_type": "stream",
     "text": [
      "100%|██████████| 16/16 [00:07<00:00,  2.26it/s]\n",
      "  0%|          | 0/63 [00:00<?, ?it/s]"
     ]
    },
    {
     "name": "stdout",
     "output_type": "stream",
     "text": [
      "测试集上的loss：1.5707771182060242\n",
      "测试分类准确率为：95.89178356713427\n",
      "Saving model......\n",
      "--------第79轮训练开始---------\n"
     ]
    },
    {
     "name": "stderr",
     "output_type": "stream",
     "text": [
      "100%|██████████| 63/63 [00:29<00:00,  2.13it/s]\n",
      "  0%|          | 0/16 [00:00<?, ?it/s]"
     ]
    },
    {
     "name": "stdout",
     "output_type": "stream",
     "text": [
      "训练集正确率为:98.12171173095703\n",
      "开始测试!\n"
     ]
    },
    {
     "name": "stderr",
     "output_type": "stream",
     "text": [
      "100%|██████████| 16/16 [00:07<00:00,  2.21it/s]\n",
      "  0%|          | 0/63 [00:00<?, ?it/s]"
     ]
    },
    {
     "name": "stdout",
     "output_type": "stream",
     "text": [
      "测试集上的loss：0.7578546833246946\n",
      "测试分类准确率为：98.19639278557115\n",
      "Saving model......\n",
      "--------第80轮训练开始---------\n"
     ]
    },
    {
     "name": "stderr",
     "output_type": "stream",
     "text": [
      "100%|██████████| 63/63 [00:29<00:00,  2.12it/s]\n",
      "  0%|          | 0/16 [00:00<?, ?it/s]"
     ]
    },
    {
     "name": "stdout",
     "output_type": "stream",
     "text": [
      "训练集正确率为:98.04658508300781\n",
      "开始测试!\n"
     ]
    },
    {
     "name": "stderr",
     "output_type": "stream",
     "text": [
      "100%|██████████| 16/16 [00:07<00:00,  2.26it/s]\n",
      "  0%|          | 0/63 [00:00<?, ?it/s]"
     ]
    },
    {
     "name": "stdout",
     "output_type": "stream",
     "text": [
      "测试集上的loss：0.7174066817387938\n",
      "测试分类准确率为：98.99799599198397\n",
      "Saving model......\n",
      "训练结束!\n",
      "--------第61轮训练开始---------\n"
     ]
    },
    {
     "name": "stderr",
     "output_type": "stream",
     "text": [
      "100%|██████████| 63/63 [00:29<00:00,  2.12it/s]\n",
      "  0%|          | 0/16 [00:00<?, ?it/s]"
     ]
    },
    {
     "name": "stdout",
     "output_type": "stream",
     "text": [
      "训练集正确率为:97.62083435058594\n",
      "开始测试!\n"
     ]
    },
    {
     "name": "stderr",
     "output_type": "stream",
     "text": [
      "100%|██████████| 16/16 [00:07<00:00,  2.21it/s]\n",
      "  0%|          | 0/63 [00:00<?, ?it/s]"
     ]
    },
    {
     "name": "stdout",
     "output_type": "stream",
     "text": [
      "测试集上的loss：1.0288818087428808\n",
      "测试分类准确率为：97.89579158316633\n",
      "Saving model......\n",
      "--------第62轮训练开始---------\n"
     ]
    },
    {
     "name": "stderr",
     "output_type": "stream",
     "text": [
      "100%|██████████| 63/63 [00:29<00:00,  2.16it/s]\n",
      "  0%|          | 0/16 [00:00<?, ?it/s]"
     ]
    },
    {
     "name": "stdout",
     "output_type": "stream",
     "text": [
      "训练集正确率为:97.84622955322266\n",
      "开始测试!\n"
     ]
    },
    {
     "name": "stderr",
     "output_type": "stream",
     "text": [
      "100%|██████████| 16/16 [00:07<00:00,  2.20it/s]\n",
      "  0%|          | 0/63 [00:00<?, ?it/s]"
     ]
    },
    {
     "name": "stdout",
     "output_type": "stream",
     "text": [
      "测试集上的loss：0.37967733293771744\n",
      "测试分类准确率为：99.6993987975952\n",
      "Saving model......\n",
      "--------第63轮训练开始---------\n"
     ]
    },
    {
     "name": "stderr",
     "output_type": "stream",
     "text": [
      "100%|██████████| 63/63 [00:28<00:00,  2.18it/s]\n",
      "  0%|          | 0/16 [00:00<?, ?it/s]"
     ]
    },
    {
     "name": "stdout",
     "output_type": "stream",
     "text": [
      "训练集正确率为:98.04658508300781\n",
      "开始测试!\n"
     ]
    },
    {
     "name": "stderr",
     "output_type": "stream",
     "text": [
      "100%|██████████| 16/16 [00:07<00:00,  2.22it/s]\n",
      "  0%|          | 0/63 [00:00<?, ?it/s]"
     ]
    },
    {
     "name": "stdout",
     "output_type": "stream",
     "text": [
      "测试集上的loss：0.750094648450613\n",
      "测试分类准确率为：98.89779559118236\n",
      "Saving model......\n",
      "--------第64轮训练开始---------\n"
     ]
    },
    {
     "name": "stderr",
     "output_type": "stream",
     "text": [
      "100%|██████████| 63/63 [00:29<00:00,  2.14it/s]\n",
      "  0%|          | 0/16 [00:00<?, ?it/s]"
     ]
    },
    {
     "name": "stdout",
     "output_type": "stream",
     "text": [
      "训练集正确率为:97.8211898803711\n",
      "开始测试!\n"
     ]
    },
    {
     "name": "stderr",
     "output_type": "stream",
     "text": [
      "100%|██████████| 16/16 [00:07<00:00,  2.24it/s]\n",
      "  0%|          | 0/63 [00:00<?, ?it/s]"
     ]
    },
    {
     "name": "stdout",
     "output_type": "stream",
     "text": [
      "测试集上的loss：0.5385763342492282\n",
      "测试分类准确率为：98.69739478957916\n",
      "Saving model......\n",
      "--------第65轮训练开始---------\n"
     ]
    },
    {
     "name": "stderr",
     "output_type": "stream",
     "text": [
      "100%|██████████| 63/63 [02:49<00:00,  2.69s/it]\n",
      "  0%|          | 0/16 [00:00<?, ?it/s]"
     ]
    },
    {
     "name": "stdout",
     "output_type": "stream",
     "text": [
      "训练集正确率为:98.04658508300781\n",
      "开始测试!\n"
     ]
    },
    {
     "name": "stderr",
     "output_type": "stream",
     "text": [
      "100%|██████████| 16/16 [00:07<00:00,  2.20it/s]\n",
      "  0%|          | 0/63 [00:00<?, ?it/s]"
     ]
    },
    {
     "name": "stdout",
     "output_type": "stream",
     "text": [
      "测试集上的loss：0.6087857289239764\n",
      "测试分类准确率为：98.89779559118236\n",
      "Saving model......\n",
      "--------第66轮训练开始---------\n"
     ]
    },
    {
     "name": "stderr",
     "output_type": "stream",
     "text": [
      "100%|██████████| 63/63 [00:29<00:00,  2.16it/s]\n",
      "  0%|          | 0/16 [00:00<?, ?it/s]"
     ]
    },
    {
     "name": "stdout",
     "output_type": "stream",
     "text": [
      "训练集正确率为:98.04658508300781\n",
      "开始测试!\n"
     ]
    },
    {
     "name": "stderr",
     "output_type": "stream",
     "text": [
      "100%|██████████| 16/16 [00:07<00:00,  2.21it/s]\n",
      "  0%|          | 0/63 [00:00<?, ?it/s]"
     ]
    },
    {
     "name": "stdout",
     "output_type": "stream",
     "text": [
      "测试集上的loss：0.48463549837470055\n",
      "测试分类准确率为：98.89779559118236\n",
      "Saving model......\n",
      "--------第67轮训练开始---------\n"
     ]
    },
    {
     "name": "stderr",
     "output_type": "stream",
     "text": [
      "100%|██████████| 63/63 [00:29<00:00,  2.15it/s]\n",
      "  0%|          | 0/16 [00:00<?, ?it/s]"
     ]
    },
    {
     "name": "stdout",
     "output_type": "stream",
     "text": [
      "训练集正确率为:98.09667205810547\n",
      "开始测试!\n"
     ]
    },
    {
     "name": "stderr",
     "output_type": "stream",
     "text": [
      "100%|██████████| 16/16 [00:06<00:00,  2.30it/s]\n",
      "  0%|          | 0/63 [00:00<?, ?it/s]"
     ]
    },
    {
     "name": "stdout",
     "output_type": "stream",
     "text": [
      "测试集上的loss：0.44328187219798565\n",
      "测试分类准确率为：99.19839679358718\n",
      "Saving model......\n",
      "--------第68轮训练开始---------\n"
     ]
    },
    {
     "name": "stderr",
     "output_type": "stream",
     "text": [
      "100%|██████████| 63/63 [00:29<00:00,  2.14it/s]\n",
      "  0%|          | 0/16 [00:00<?, ?it/s]"
     ]
    },
    {
     "name": "stdout",
     "output_type": "stream",
     "text": [
      "训练集正确率为:98.22188568115234\n",
      "开始测试!\n"
     ]
    },
    {
     "name": "stderr",
     "output_type": "stream",
     "text": [
      "100%|██████████| 16/16 [00:07<00:00,  2.25it/s]\n",
      "  0%|          | 0/63 [00:00<?, ?it/s]"
     ]
    },
    {
     "name": "stdout",
     "output_type": "stream",
     "text": [
      "测试集上的loss：0.5198170249350369\n",
      "测试分类准确率为：98.89779559118236\n",
      "Saving model......\n",
      "--------第69轮训练开始---------\n"
     ]
    },
    {
     "name": "stderr",
     "output_type": "stream",
     "text": [
      "100%|██████████| 63/63 [00:29<00:00,  2.13it/s]\n",
      "  0%|          | 0/16 [00:00<?, ?it/s]"
     ]
    },
    {
     "name": "stdout",
     "output_type": "stream",
     "text": [
      "训练集正确率为:98.3971939086914\n",
      "开始测试!\n"
     ]
    },
    {
     "name": "stderr",
     "output_type": "stream",
     "text": [
      "100%|██████████| 16/16 [00:07<00:00,  2.21it/s]\n",
      "  0%|          | 0/63 [00:00<?, ?it/s]"
     ]
    },
    {
     "name": "stdout",
     "output_type": "stream",
     "text": [
      "测试集上的loss：0.6210337188094854\n",
      "测试分类准确率为：99.09819639278557\n",
      "Saving model......\n",
      "--------第70轮训练开始---------\n"
     ]
    },
    {
     "name": "stderr",
     "output_type": "stream",
     "text": [
      "100%|██████████| 63/63 [00:29<00:00,  2.17it/s]\n",
      "  0%|          | 0/16 [00:00<?, ?it/s]"
     ]
    },
    {
     "name": "stdout",
     "output_type": "stream",
     "text": [
      "训练集正确率为:97.99649047851562\n",
      "开始测试!\n"
     ]
    },
    {
     "name": "stderr",
     "output_type": "stream",
     "text": [
      "100%|██████████| 16/16 [00:06<00:00,  2.30it/s]\n",
      "  0%|          | 0/63 [00:00<?, ?it/s]"
     ]
    },
    {
     "name": "stdout",
     "output_type": "stream",
     "text": [
      "测试集上的loss：0.6597847761586308\n",
      "测试分类准确率为：98.49699398797596\n",
      "Saving model......\n",
      "--------第71轮训练开始---------\n"
     ]
    },
    {
     "name": "stderr",
     "output_type": "stream",
     "text": [
      "100%|██████████| 63/63 [00:29<00:00,  2.12it/s]\n",
      "  0%|          | 0/16 [00:00<?, ?it/s]"
     ]
    },
    {
     "name": "stdout",
     "output_type": "stream",
     "text": [
      "训练集正确率为:97.8211898803711\n",
      "开始测试!\n"
     ]
    },
    {
     "name": "stderr",
     "output_type": "stream",
     "text": [
      "100%|██████████| 16/16 [00:07<00:00,  2.21it/s]\n",
      "  0%|          | 0/63 [00:00<?, ?it/s]"
     ]
    },
    {
     "name": "stdout",
     "output_type": "stream",
     "text": [
      "测试集上的loss：0.689301441423595\n",
      "测试分类准确率为：98.59719438877755\n",
      "Saving model......\n",
      "--------第72轮训练开始---------\n"
     ]
    },
    {
     "name": "stderr",
     "output_type": "stream",
     "text": [
      "100%|██████████| 63/63 [00:28<00:00,  2.19it/s]\n",
      "  0%|          | 0/16 [00:00<?, ?it/s]"
     ]
    },
    {
     "name": "stdout",
     "output_type": "stream",
     "text": [
      "训练集正确率为:97.99649047851562\n",
      "开始测试!\n"
     ]
    },
    {
     "name": "stderr",
     "output_type": "stream",
     "text": [
      "100%|██████████| 16/16 [00:07<00:00,  2.27it/s]\n",
      "  0%|          | 0/63 [00:00<?, ?it/s]"
     ]
    },
    {
     "name": "stdout",
     "output_type": "stream",
     "text": [
      "测试集上的loss：0.363500764593482\n",
      "测试分类准确率为：99.39879759519039\n",
      "Saving model......\n",
      "--------第73轮训练开始---------\n"
     ]
    },
    {
     "name": "stderr",
     "output_type": "stream",
     "text": [
      "100%|██████████| 63/63 [00:29<00:00,  2.16it/s]\n",
      "  0%|          | 0/16 [00:00<?, ?it/s]"
     ]
    },
    {
     "name": "stdout",
     "output_type": "stream",
     "text": [
      "训练集正确率为:98.17179870605469\n",
      "开始测试!\n"
     ]
    },
    {
     "name": "stderr",
     "output_type": "stream",
     "text": [
      "100%|██████████| 16/16 [00:07<00:00,  2.25it/s]\n",
      "  0%|          | 0/63 [00:00<?, ?it/s]"
     ]
    },
    {
     "name": "stdout",
     "output_type": "stream",
     "text": [
      "测试集上的loss：1.1977314427495003\n",
      "测试分类准确率为：97.09418837675351\n",
      "Saving model......\n",
      "--------第74轮训练开始---------\n"
     ]
    },
    {
     "name": "stderr",
     "output_type": "stream",
     "text": [
      "100%|██████████| 63/63 [00:29<00:00,  2.13it/s]\n",
      "  0%|          | 0/16 [00:00<?, ?it/s]"
     ]
    },
    {
     "name": "stdout",
     "output_type": "stream",
     "text": [
      "训练集正确率为:98.02153778076172\n",
      "开始测试!\n"
     ]
    },
    {
     "name": "stderr",
     "output_type": "stream",
     "text": [
      "100%|██████████| 16/16 [00:07<00:00,  2.23it/s]\n",
      "  0%|          | 0/63 [00:00<?, ?it/s]"
     ]
    },
    {
     "name": "stdout",
     "output_type": "stream",
     "text": [
      "测试集上的loss：0.447361184284091\n",
      "测试分类准确率为：99.39879759519039\n",
      "Saving model......\n",
      "--------第75轮训练开始---------\n"
     ]
    },
    {
     "name": "stderr",
     "output_type": "stream",
     "text": [
      "100%|██████████| 63/63 [00:29<00:00,  2.14it/s]\n",
      "  0%|          | 0/16 [00:00<?, ?it/s]"
     ]
    },
    {
     "name": "stdout",
     "output_type": "stream",
     "text": [
      "训练集正确率为:98.62258911132812\n",
      "开始测试!\n"
     ]
    },
    {
     "name": "stderr",
     "output_type": "stream",
     "text": [
      "100%|██████████| 16/16 [00:07<00:00,  2.28it/s]\n",
      "  0%|          | 0/63 [00:00<?, ?it/s]"
     ]
    },
    {
     "name": "stdout",
     "output_type": "stream",
     "text": [
      "测试集上的loss：0.5301001914776862\n",
      "测试分类准确率为：98.79759519038076\n",
      "Saving model......\n",
      "--------第76轮训练开始---------\n"
     ]
    },
    {
     "name": "stderr",
     "output_type": "stream",
     "text": [
      "100%|██████████| 63/63 [00:29<00:00,  2.16it/s]\n",
      "  0%|          | 0/16 [00:00<?, ?it/s]"
     ]
    },
    {
     "name": "stdout",
     "output_type": "stream",
     "text": [
      "训练集正确率为:98.27197265625\n",
      "开始测试!\n"
     ]
    },
    {
     "name": "stderr",
     "output_type": "stream",
     "text": [
      "100%|██████████| 16/16 [00:07<00:00,  2.28it/s]\n",
      "  0%|          | 0/63 [00:00<?, ?it/s]"
     ]
    },
    {
     "name": "stdout",
     "output_type": "stream",
     "text": [
      "测试集上的loss：0.7610852490179241\n",
      "测试分类准确率为：98.59719438877755\n",
      "Saving model......\n",
      "--------第77轮训练开始---------\n"
     ]
    },
    {
     "name": "stderr",
     "output_type": "stream",
     "text": [
      "100%|██████████| 63/63 [00:29<00:00,  2.12it/s]\n",
      "  0%|          | 0/16 [00:00<?, ?it/s]"
     ]
    },
    {
     "name": "stdout",
     "output_type": "stream",
     "text": [
      "训练集正确率为:98.09667205810547\n",
      "开始测试!\n"
     ]
    },
    {
     "name": "stderr",
     "output_type": "stream",
     "text": [
      "100%|██████████| 16/16 [00:07<00:00,  2.26it/s]\n",
      "  0%|          | 0/63 [00:00<?, ?it/s]"
     ]
    },
    {
     "name": "stdout",
     "output_type": "stream",
     "text": [
      "测试集上的loss：0.7806063015013933\n",
      "测试分类准确率为：98.29659318637275\n",
      "Saving model......\n",
      "--------第78轮训练开始---------\n"
     ]
    },
    {
     "name": "stderr",
     "output_type": "stream",
     "text": [
      "100%|██████████| 63/63 [00:29<00:00,  2.13it/s]\n",
      "  0%|          | 0/16 [00:00<?, ?it/s]"
     ]
    },
    {
     "name": "stdout",
     "output_type": "stream",
     "text": [
      "训练集正确率为:98.07162475585938\n",
      "开始测试!\n"
     ]
    },
    {
     "name": "stderr",
     "output_type": "stream",
     "text": [
      "100%|██████████| 16/16 [00:07<00:00,  2.23it/s]\n",
      "  0%|          | 0/63 [00:00<?, ?it/s]"
     ]
    },
    {
     "name": "stdout",
     "output_type": "stream",
     "text": [
      "测试集上的loss：0.8434985419735312\n",
      "测试分类准确率为：98.39679358717434\n",
      "Saving model......\n",
      "--------第79轮训练开始---------\n"
     ]
    },
    {
     "name": "stderr",
     "output_type": "stream",
     "text": [
      "100%|██████████| 63/63 [00:29<00:00,  2.14it/s]\n",
      "  0%|          | 0/16 [00:00<?, ?it/s]"
     ]
    },
    {
     "name": "stdout",
     "output_type": "stream",
     "text": [
      "训练集正确率为:98.49736785888672\n",
      "开始测试!\n"
     ]
    },
    {
     "name": "stderr",
     "output_type": "stream",
     "text": [
      "100%|██████████| 16/16 [00:07<00:00,  2.26it/s]\n",
      "  0%|          | 0/63 [00:00<?, ?it/s]"
     ]
    },
    {
     "name": "stdout",
     "output_type": "stream",
     "text": [
      "测试集上的loss：0.4860128196887672\n",
      "测试分类准确率为：98.99799599198397\n",
      "Saving model......\n",
      "--------第80轮训练开始---------\n"
     ]
    },
    {
     "name": "stderr",
     "output_type": "stream",
     "text": [
      "100%|██████████| 63/63 [00:29<00:00,  2.15it/s]\n",
      "  0%|          | 0/16 [00:00<?, ?it/s]"
     ]
    },
    {
     "name": "stdout",
     "output_type": "stream",
     "text": [
      "训练集正确率为:97.89631652832031\n",
      "开始测试!\n"
     ]
    },
    {
     "name": "stderr",
     "output_type": "stream",
     "text": [
      "100%|██████████| 16/16 [00:07<00:00,  2.28it/s]"
     ]
    },
    {
     "name": "stdout",
     "output_type": "stream",
     "text": [
      "测试集上的loss：0.9343642140738666\n",
      "测试分类准确率为：97.79559118236473\n",
      "Saving model......\n",
      "训练结束!\n",
      "Average Validation Accuracy: 99.4732\n"
     ]
    },
    {
     "name": "stderr",
     "output_type": "stream",
     "text": [
      "\n"
     ]
    }
   ],
   "source": [
    "import torch\n",
    "import torch.nn as nn\n",
    "import torch.optim as optim\n",
    "import torchvision\n",
    "import torchvision.transforms as transforms\n",
    "import argparse\n",
    "from tqdm import tqdm\n",
    "from torchvision.datasets import ImageFolder\n",
    "\n",
    "from torch.utils.tensorboard import SummaryWriter\n",
    "from torch.utils.data import DataLoader, dataloader, Subset\n",
    "from torch.utils.data import random_split\n",
    "from sklearn.model_selection import KFold\n",
    "#import os\n",
    "#os.environ[\"PYTORCH_CUDA_ALLOC_CONF\"] = \"max_split_size_mb:128\"\n",
    "\n",
    "\n",
    "\n",
    "# 定义是否使用GPU\n",
    "device = torch.device(\"cuda\" if torch.cuda.is_available() else \"cpu\")\n",
    "print(device)\n",
    "\n",
    "# 参数设置,使得我行差们能够手动输入命令行参数，就是让风格变得和Linux命令不多\n",
    "# parser = argparse.ArgumentParser(description='PyTorch CIFAR10 Training')\n",
    "# parser.add_argument('--outf', default='./model/', help='folder to output images and model checkpoints')  # 输出结果保存路径\n",
    "# parser.add_argument('--net', default='./model/Resnet18.pth', help=\"path to net (to continue training)\")  # 恢复训练时的模型路径\n",
    "# args = parser.parse_args()\n",
    "\n",
    "# 超参数设置\n",
    "EPOCH = 30  # 遍历数据集次数\n",
    "pre_epoch = 0  # 定义已经遍历数据集的次数\n",
    "BATCH_SIZE = 64  # 批处理尺寸(batch_size)\n",
    "LR = 0.001  # 学习率\n",
    "\n",
    "# print(\"开始加载CIFAR10数据集!\")\n",
    "# 准备数据集并预处理\n",
    "transform_train = transforms.Compose([\n",
    "   transforms.Resize(size=(128,128)),\n",
    "    #transforms.CenterCrop(128),\n",
    "    transforms.RandomHorizontalFlip(),  # 图像一半的概率翻转，一半的概率不翻转\n",
    "    #transforms.RandomVerticalFlip(),\n",
    "    #transforms.RandomRotation(15),\n",
    "    #transforms.ColorJitter(contrast=10),\n",
    "    transforms.ToTensor(),\n",
    "    transforms.Normalize((0.485, 0.456, 0.406), (0.229, 0.224, 0.225)),  # R,G,B每层的归一化用到的均值和方差\n",
    "])\n",
    "\n",
    "transform_valid = transforms.Compose([\n",
    "    transforms.Resize(size=(128,128)),\n",
    "    transforms.ToTensor(),\n",
    "    transforms.Normalize((0.485, 0.456, 0.406), (0.229, 0.224, 0.225)),\n",
    "])\n",
    "\n",
    "# 训练数据集\n",
    "train_dataset = ImageFolder(root='../input/newdata3/train/', transform=transform_train)  \n",
    "#validset = ImageFolder(root='../input/corn/train/', train=False, transform=transform_valid )\n",
    "\n",
    "num_train = int(len(train_dataset))\n",
    "#num_val = len(fullset)-num_train\n",
    "\n",
    "#train_dataset, val_dataset = random_split(fullset, [num_train,num_val])\n",
    "\n",
    "# 定义K-fold对象\n",
    "Kf_train = KFold(n_splits=5, shuffle=True, random_state=42)\n",
    "\n",
    "# 训练数据集\n",
    "#trainset = ImageFolder(root='../input/newdata3/train', transform=transform_train)  \n",
    " # 生成一个个batch进行批训练，组成batch的时候顺序打乱取，\n",
    "#trainloader = torch.utils.data.DataLoader(trainset, batch_size=BATCH_SIZE, shuffle=True,num_workers=0) \n",
    "\n",
    "# 测试训练集\n",
    "#validset = ImageFolder(root='../input/newdata/val/', transform=transform_valid )\n",
    "#validloader = torch.utils.data.DataLoader(validset, batch_size=BATCH_SIZE, shuffle=True, num_workers=0)\n",
    "\n",
    "print(\"数据集加载完毕!\")\n",
    "\n",
    "print(\"开始vgg网络模型初始化!\")\n",
    "# 模型定义-ResNet\n",
    "model = MobileNet_v2().to(device)\n",
    "\n",
    "# 定义损失函数和优化方式\n",
    "loss_fn = nn.CrossEntropyLoss()  # 损失函数为交叉熵，多用于多分类问题\n",
    "loss_fn = loss_fn.to(device)\n",
    "# 优化方式为mini-batch momentum-SGD，并采用L2正则化（权重衰减）\n",
    "optimizer = optim.SGD(model.parameters(),lr=LR, momentum=0.9, weight_decay=5e-4)  \n",
    "\n",
    "# 记录训练的次数\n",
    "total_train_step = 0\n",
    "# 记录测试的次数\n",
    "total_test_step = 0\n",
    "# 记录训练集和测试集的正确率，形成列表\n",
    "total_test_acc_list = []\n",
    "total_train_acc_list = []\n",
    "val_accuracies = []\n",
    "\n",
    "# 添加tensorboard画图可视化\n",
    "writer = SummaryWriter(\"../mobilenetv2/logs_train\")\n",
    "\n",
    "print(\"mobilenetv2网络模型初始化完毕!\")\n",
    "# 训练\n",
    "if __name__ == \"__main__\":\n",
    "    best_acc = 80  # 2 初始化best test accuracy\n",
    "    best_epoch = 0\n",
    "    # 有需要可以打开，接着上次训练好的权重训练\n",
    "    #print(\"加载模型...\")\n",
    "    #with open(\"../mobilenetv2/epoch/mobilenetv2_fold_60.pth\",'rb') as f:\n",
    "    #     model.load_state_dict(torch.load(f))\n",
    "    #print(\"加载完毕!\")\n",
    "    #print(\"开始训练! mobilenetv2! 冲!\")  # 定义遍历数据集的次数\n",
    "    for train_index, val_index in Kf_train.split(range(num_train)):\n",
    "        train_kfold_subset = Subset(train_dataset, train_index)\n",
    "        val_kfold_subset =Subset(train_dataset, val_index)\n",
    "\n",
    "        trainloader = DataLoader(train_kfold_subset, batch_size=BATCH_SIZE, shuffle=True, num_workers=0)\n",
    "        validloader = DataLoader(val_kfold_subset, batch_size=BATCH_SIZE, shuffle=True, num_workers=0)\n",
    "\n",
    "        for epoch in range(pre_epoch, EPOCH):\n",
    "           model.train()\n",
    "           print(f'--------第{epoch + 1}轮训练开始---------')\n",
    "           total_train_loss = 0.0\n",
    "           correct = 0.0\n",
    "           total = 0.0\n",
    "           for data in tqdm(trainloader):\n",
    "            # print(\"-------\",i)\n",
    "            # 准备数据\n",
    "               inputs, labels = data\n",
    "               inputs, labels = inputs.to(device), labels.to(device)\n",
    "            #梯度清零\n",
    "               optimizer.zero_grad()\n",
    "\n",
    "            # forward + backward\n",
    "            # 前向传播获取网络输出信息，做损失函数的输出计算，后向传播获取梯度信息，根据学习策略优化学习\n",
    "               outputs = model(inputs)\n",
    "               loss = loss_fn(outputs, labels)\n",
    "               loss.backward()\n",
    "               optimizer.step()\n",
    "\n",
    "            # 每训练100个batch打印一次loss和准确率\n",
    "               total_train_loss += loss.item()\n",
    "               _, predicted = torch.max(outputs.data, 1)\n",
    "               total += labels.size(0)\n",
    "               total_train_step += 1\n",
    "               correct += predicted.eq(labels.data).cpu().sum()\n",
    "    \n",
    "               writer.add_scalar(\"train_loss\", loss.item(), total_train_step)\n",
    "           train_accurary = 100 * correct / total\n",
    "           print(f'训练集正确率为:{train_accurary}')\n",
    "           total_train_acc_list.append(train_accurary)\n",
    "\n",
    "\n",
    "        # 每训练完一个epoch测试一下准确率\n",
    "           print(\"开始测试!\")\n",
    "           model.eval()\n",
    "           with torch.no_grad():\n",
    "               correct = 0\n",
    "               total = 0\n",
    "               total_test_loss=0\n",
    "               for data in tqdm(validloader):\n",
    "                \n",
    "                   images, labels = data\n",
    "                   images, labels = images.to(device), labels.to(device)\n",
    "                   outputs = model(images)\n",
    "                   loss = loss_fn(outputs, labels)\n",
    "                   total_test_loss += loss.item()\n",
    "                # 取得分最高的那个类 (outputs.data的索引号)\n",
    "                   _, predicted = torch.max(outputs.data, 1)\n",
    "                # labels是一个尺寸为 的张量[N, 1]，其中N等于批次中的样本数。\n",
    "                   total += labels.size(0)\n",
    "                   correct += (predicted == labels).sum().item()\n",
    "                # result = torch.floor_divide(correct, total)\n",
    "            # print('测试分类准确率为：%.3f%%' % (100 * result))\n",
    "               acc = 100 * correct / total\n",
    "               print(f\"测试集上的loss：{total_test_loss}\")\n",
    "               print(f'测试分类准确率为：{acc}')\n",
    "           \n",
    "            # 将每次测试结果实时写入acc.txt文件中\n",
    "               print('Saving model......')\n",
    "               torch.save(model.state_dict(), f'../mobilenetv2/epoch/mobilenetv2_fold_{epoch + 1}.pth')\n",
    "               writer.add_scalar(\"test_loss\", total_test_loss, total_test_step)\n",
    "               total_test_step = total_test_step + 1\n",
    "               total_test_acc_list.append(acc)\n",
    "            # 记录最佳测试分类准确率并写入best_acc.txt文件中\n",
    "               if acc > best_acc:\n",
    "                   f3 = open(\"../mobilenetv2/best_acc_fold.txt\", \"w\")\n",
    "                   f3.write(f\"训练轮次为{epoch + 1}时,准确率最高!准确率为{acc}\")\n",
    "                   f3.close()\n",
    "                   best_acc = acc\n",
    "           val_accuracies.append(best_acc)\n",
    "        print(\"训练结束!\")\n",
    "average_val_accuracy = sum(val_accuracies) / len(val_accuracies)\n",
    "\n",
    "print(f\"Average Validation Accuracy: {average_val_accuracy:.4f}\")\n",
    "\n",
    "for i in range(len(total_test_acc_list)):\n",
    "    with open('../mobilenetv2/mobilenetv2_acc_fold.txt', 'a') as f:\n",
    "        f.write('%d %.3f %.3f\\n' % (i+1,total_train_acc_list[i],total_test_acc_list[i]))\n",
    "#     with open('skip18_train_accura/te_records_k.txt', 'a') as f:\n",
    "#         f.write('%d %.3f\\n' % (i+1,total_train_accuracy_list[i]))\n",
    "torch.save(model.state_dict(),\"../mobilenetv2/mobilenetv2_acc_fold.pkl\")\n",
    "\n"
   ]
  },
  {
   "cell_type": "code",
   "execution_count": 3,
   "metadata": {},
   "outputs": [
    {
     "name": "stdout",
     "output_type": "stream",
     "text": [
      "Average Validation Accuracy: 88.7265\n"
     ]
    }
   ],
   "source": [
    "print(f\"Average Validation Accuracy: {average_val_accuracy:.4f}\")"
   ]
  },
  {
   "cell_type": "code",
   "execution_count": 16,
   "metadata": {},
   "outputs": [
    {
     "name": "stderr",
     "output_type": "stream",
     "text": [
      "  0%|          | 0/5 [00:00<?, ?it/s]"
     ]
    },
    {
     "name": "stdout",
     "output_type": "stream",
     "text": [
      "cuda\n"
     ]
    },
    {
     "name": "stderr",
     "output_type": "stream",
     "text": [
      "100%|██████████| 5/5 [00:03<00:00,  1.38it/s]\n"
     ]
    },
    {
     "name": "stdout",
     "output_type": "stream",
     "text": [
      "score_array: (548, 12)\n",
      "label_onehot: (548, 12)\n",
      "(549,) (549,) 0.40331716387932026\n",
      "(549,) (549,) 0.9747104767622526\n",
      "(549,) (549,) 0.9262576320253124\n",
      "(549,) (549,) 0.9493006934274116\n",
      "(549,) (549,) 0.8807566237255358\n",
      "(549,) (549,) 0.9467521972993503\n",
      "(549,) (549,) 0.8544912728407741\n",
      "(549,) (549,) 0.9696793372455448\n",
      "(549,) (549,) 0.9845974668575314\n",
      "(549,) (549,) 0.9672901151636781\n",
      "(549,) (549,) 0.9663828173838103\n",
      "(549,) (549,) 0.958615156615134\n",
      "Average precision score, micro-averaged over all classes: 0.9094\n",
      "Accuracy of Black-grass : 43.333 %\n",
      "Accuracy of Charlock : 93.333 %\n",
      "Accuracy of Cleavers : 84.848 %\n",
      "Accuracy of Common Chickweed : 92.958 %\n",
      "Accuracy of Common wheat : 80.000 %\n",
      "Accuracy of Fat Hen : 94.340 %\n",
      "Accuracy of Loose Silky-bent : 94.737 %\n",
      "Accuracy of Maize : 88.000 %\n",
      "Accuracy of Scentless Mayweed : 96.667 %\n",
      "Accuracy of Shepherd Purse : 96.296 %\n",
      "Accuracy of Small-flowered Cranesbill : 92.982 %\n",
      "Accuracy of Sugar beet : 97.826 %\n",
      "[[13  0  0  0  2  0 15  0  0  0  0  0]\n",
      " [ 0 42  1  0  0  0  0  0  1  1  0  0]\n",
      " [ 0  1 28  1  0  1  0  0  1  0  0  1]\n",
      " [ 0  0  0 66  1  0  1  1  1  1  0  0]\n",
      " [ 2  1  0  0 20  0  1  1  0  0  0  0]\n",
      " [ 0  0  0  0  0 50  1  1  0  0  1  0]\n",
      " [ 1  0  0  0  0  3 72  0  0  0  0  0]\n",
      " [ 0  0  0  0  0  0  0 22  0  0  1  2]\n",
      " [ 0  0  0  0  0  0  2  0 58  0  0  0]\n",
      " [ 0  0  0  0  0  0  0  0  1 26  0  0]\n",
      " [ 0  0  2  0  0  1  1  0  0  0 53  0]\n",
      " [ 0  0  0  0  0  1  0  0  0  0  0 45]]\n"
     ]
    },
    {
     "data": {
      "text/plain": [
       "<Figure size 640x480 with 0 Axes>"
      ]
     },
     "metadata": {},
     "output_type": "display_data"
    },
    {
     "data": {
      "image/png": "[encoded data removed]",
      "text/plain": [
       "<Figure size 640x480 with 1 Axes>"
      ]
     },
     "metadata": {},
     "output_type": "display_data"
    },
    {
     "data": {
      "image/png": "[encoded data removed]",
      "text/plain": [
       "<Figure size 1200x1200 with 2 Axes>"
      ]
     },
     "metadata": {},
     "output_type": "display_data"
    }
   ],
   "source": [
    "# 使用cifar10数据集，跳跃网络\n",
    "\n",
    "from numpy import log2\n",
    "import torch\n",
    "import torch.nn.functional as F\n",
    "from torch.nn.modules import flatten\n",
    "from torch.nn.modules.flatten import Flatten\n",
    "from torch.nn.modules.pooling import MaxPool2d\n",
    "import torchvision\n",
    "from torch.utils.data import DataLoader, dataloader\n",
    "import torch.nn as nn\n",
    "from torch.utils.tensorboard import SummaryWriter\n",
    "import time\n",
    "import numpy as np\n",
    "from torchvision import transforms\n",
    "from matplotlib import pyplot as plt\n",
    "from sklearn.metrics import confusion_matrix\n",
    "import os\n",
    "from sklearn.metrics import roc_curve, auc, f1_score,precision_recall_curve,average_precision_score\n",
    "# import seaborn as sns\n",
    "# from resnet_skip import ResNet_Skip\n",
    "\n",
    "# torch.manual_seed(1)\n",
    "#transform_train = transforms.Compose([\n",
    "#    transforms.Resize(size=(128,128)),\n",
    " #   #transforms.RandomCrop(32, padding=4),  # 先四周填充0，在吧图像随机裁剪成32*32\n",
    " #   transforms.RandomHorizontalFlip(),  # 图像一半的概率翻转，一半的概率不翻转\n",
    " #   transforms.ToTensor(),\n",
    " #   transforms.Normalize((0.485, 0.456, 0.406), (0.229, 0.224, 0.225)),  # R,G,B每层的归一化用到的均值和方差\n",
    "#])\n",
    "\n",
    "transform_test = transforms.Compose([\n",
    "    transforms.Resize(size=(128,128)),\n",
    "    transforms.ToTensor(),\n",
    "    transforms.Normalize((0.485, 0.456, 0.406), (0.229, 0.224, 0.225)),\n",
    "])\n",
    "\n",
    "# 训练数据集\n",
    "#trainset = ImageFolder(root='../input/newdata/train', transform=transform_train)  \n",
    " # 生成一个个batch进行批训练，组成batch的时候顺序打乱取，\n",
    "#trainloader = torch.utils.data.DataLoader(trainset, batch_size=128, shuffle=True,num_workers=0) \n",
    "\n",
    "# 测试训练集\n",
    "testset = ImageFolder(root='../input/newdata3/test/', transform=transform_test )\n",
    "testloader = torch.utils.data.DataLoader(testset, batch_size=128, shuffle=True, num_workers=0)\n",
    "\n",
    "#train_dataset = torchvision.datasets.CIFAR10(root=\"/home/featurize/work/data\",train=True,transform=transform_train,download=True)\n",
    "#test_dataset = torchvision.datasets.CIFAR10(root=\"/home/featurize/work/data\",train=False,transform=transform_test,download=True)\n",
    "\n",
    "\n",
    "#数据集长度\n",
    "#train_data_size = len(trainset)\n",
    "test_data_size = len(testset)\n",
    "#print(\"cifar10训练集长度：{}\".format(train_data_size))\n",
    "#print(\"cifar10测试集长度：{}\".format(test_data_size))\n",
    "\n",
    "\n",
    "device = torch.device(\"cuda\" if torch.cuda.is_available() else \"cpu\")\n",
    "print(device)\n",
    "\n",
    "#创建网络模型\n",
    "# test_net = skip_net_mnist()\n",
    "# test_net = SkipNetC2()\n",
    "test_net = MobileNet_v2()\n",
    "# if torch.cuda.device_count() > 1:\n",
    "#   print(\"Let's use\", torch.cuda.device_count(), \"GPUs!\")\n",
    "#   test_net = nn.DataParallel(test_net)\n",
    "\n",
    "# ../input/skipnetmodel/skip_net_CIFAR10_164 (3)\n",
    "#test_net.load_state_dict(torch.load(\"/home/featurize/work/(1)—3k_nopre_mish_Skipnet18_0_50_128_0.01.pkl\"))\n",
    "test_net.load_state_dict(torch.load(\"../mobilenetv2/mobilenetv2_acc_fold.pkl\"))\n",
    "\n",
    "test_net.to(device)\n",
    "#创建损失函数\n",
    "loss_fn = torch.nn.CrossEntropyLoss()\n",
    "loss_fn.to(device)\n",
    "#创建优化器\n",
    "learning_rata = 0.001\n",
    "#learning_rata = 0.01#或者使用1e-2代替0.01\n",
    "optimizer = optim.SGD(model.parameters(),lr=LR, momentum=0.9, weight_decay=5e-4)\n",
    "num_classes = 12\n",
    "# 存储预测得分\n",
    "score_list = []\n",
    "# 存储真实标签\n",
    "label_list = []\n",
    "\n",
    "plt.figure()\n",
    "\n",
    "#训练的次数\n",
    "total_train_step = 0\n",
    "#测试次数\n",
    "total_test_step = 0\n",
    "total_train_accuracy = 0\n",
    "# Decey_x = 0.5\n",
    "total_train_accuracy_list = []\n",
    "total_test_accuracy_list = []\n",
    "\n",
    "total_accuracy = 0\n",
    "#测试步骤\n",
    "test_net.eval()\n",
    "total_test_loss = 0\n",
    "total_test_step = 0\n",
    "# 测试模型\n",
    "correct = [0] * 12\n",
    "total = [0] * 12\n",
    "y_pred = []\n",
    "y_true = []\n",
    "with torch.no_grad():\n",
    "    for data in tqdm(testloader):\n",
    "        images, labels = data\n",
    "        images = images.to(device)\n",
    "        # images = images.view(-1,3,32,32)\n",
    "        labels = labels.to(device)\n",
    "\n",
    "        outputs = test_net(images)\n",
    "        score_temp = outputs\n",
    "        score_list.extend(score_temp.detach().cpu().numpy())\n",
    "        label_list.extend(labels.cpu().numpy())\n",
    "\n",
    "        _, predicted = torch.max(outputs.data, 1)\n",
    "        y_pred.extend(predicted.tolist())\n",
    "        y_true.extend(labels.tolist())\n",
    "        for i in range(len(labels)):\n",
    "            label = labels[i]\n",
    "            total[label] += 1\n",
    "            if predicted[i] == label:\n",
    "                correct[label] += 1\n",
    "\n",
    "    score_array = np.array(score_list)\n",
    "    # 将label转换为onehot形式\n",
    "    label_tensor = torch.tensor(label_list)\n",
    "    label_tensor = label_tensor.reshape((label_tensor.shape[0],1))\n",
    "    label_onehot = torch.zeros(label_tensor.shape[0], num_classes)\n",
    "    label_onehot.scatter_(dim=1, index=label_tensor, value=1)\n",
    "    label_onehot = np.array(label_onehot)\n",
    "    print(\"score_array:\", score_array.shape)\n",
    "    print(\"label_onehot:\", label_onehot.shape)\n",
    "\n",
    "    #调用sklearn库，计算每个类别对应的precision和recall\n",
    "    precision_dict = dict()\n",
    "    recall_dict = dict()\n",
    "    average_precision_dict = dict()\n",
    "    for i in range(num_classes):\n",
    "        precision_dict[i], recall_dict[i], _ = precision_recall_curve(label_onehot[:, i], score_array[:, i])\n",
    "        average_precision_dict[i] = average_precision_score(label_onehot[:, i], score_array[:, i])\n",
    "        print(precision_dict[i].shape, recall_dict[i].shape, average_precision_dict[i])\n",
    "\n",
    "    # micro\n",
    "    precision_dict[\"micro\"], recall_dict[\"micro\"], _ = precision_recall_curve(label_onehot.ravel(),\n",
    "                                                                              score_array.ravel())\n",
    "    average_precision_dict[\"micro\"] = average_precision_score(label_onehot, score_array, average=\"micro\")\n",
    "    print('Average precision score, micro-averaged over all classes: {0:0.4f}'.format(average_precision_dict[\"micro\"]))\n",
    " \n",
    "    # 绘制所有类别平均的pr曲线\n",
    "    plt.figure()\n",
    "    plt.step(recall_dict['micro'], precision_dict['micro'], where='post')\n",
    " \n",
    "    plt.xlabel('Recall',fontsize='xx-large')\n",
    "    plt.ylabel('Precision',fontsize='xx-large')\n",
    "    plt.ylim([0.0, 1.05])\n",
    "    plt.xlim([0.0, 1.0])\n",
    "    plt.title(\n",
    "        'AP={0:0.4f}'\n",
    "        .format(average_precision_dict[\"micro\"]),fontsize='xx-large')\n",
    "    plt.savefig(\"../mobilenetv2/set12_pr_curve.jpg\")\n",
    "\n",
    "# 输出每个类别的准确率\n",
    "for i in range(12):\n",
    "    print('Accuracy of %5s : %.3f %%' % (\n",
    "        testset.classes[i], 100 * correct[i] / total[i]))\n",
    "\n",
    "\n",
    "# 将预测结果转换为标签\n",
    "y_pred_labels = np.array(y_pred)\n",
    "\n",
    "# 计算混淆矩阵\n",
    "cm = confusion_matrix(y_true, y_pred_labels)\n",
    "\n",
    "print(cm)\n",
    "\n",
    "\n",
    "# 绘制混淆矩阵\n",
    "# plt.figure(figsize=(10, 8))\n",
    "# sns.set(font_scale=1.4)\n",
    "# sns.heatmap(cm, annot=True, fmt='g', cmap='Blues')\n",
    "# plt.xlabel('Predicted Labels')\n",
    "# plt.ylabel('True Labels')\n",
    "# plt.show()\n",
    "# 绘制混淆矩阵\n",
    "plt.figure(figsize=(12,12))\n",
    "plt.imshow(cm, interpolation='nearest', cmap=plt.cm.Blues)\n",
    "# 添加数值\n",
    "for i in range(12):\n",
    "    for j in range(12):\n",
    "        plt.annotate(str(cm[i][j]), xy=(j, i), horizontalalignment='center', verticalalignment='center')\n",
    "\n",
    "plt.colorbar()\n",
    "tick_marks = np.arange(12)\n",
    "plt.xticks(tick_marks, ['black-grass', 'charlock', 'cleavers', 'common chickweed','common wheat','fat hen', 'loose silky-bent', 'maize', 'scentless mayweed', 'shephere purse', 'small-flowered cranesbill','sugar beet'], rotation=45)\n",
    "plt.yticks(tick_marks, ['black-grass', 'charlock', 'cleavers', 'common chickweed','common wheat','fat hen', 'loose silky-bent', 'maize', 'scentless mayweed', 'shephere purse', 'small-flowered cranesbill','sugar beet'])\n",
    "plt.xlabel('Predicted Labels')\n",
    "plt.ylabel('True Labels')\n",
    "# plt.show()\n",
    "plt.savefig('../mobilenetv2/confusion_matrixA.png')\n",
    "        \n"
   ]
  },
  {
   "cell_type": "code",
   "execution_count": 18,
   "metadata": {},
   "outputs": [
    {
     "name": "stdout",
     "output_type": "stream",
     "text": [
      "                           precision    recall  f1-score   support\n",
      "\n",
      "              black-grass    0.81250   0.43333   0.56522        30\n",
      "                 charlock    0.95455   0.93333   0.94382        45\n",
      "                 cleavers    0.90323   0.84848   0.87500        33\n",
      "         common chickweed    0.98507   0.92958   0.95652        71\n",
      "             common wheat    0.86957   0.80000   0.83333        25\n",
      "                  fat hen    0.89286   0.94340   0.91743        53\n",
      "         loose silky-bent    0.77419   0.94737   0.85207        76\n",
      "                    maize    0.88000   0.88000   0.88000        25\n",
      "        scentless mayweed    0.93548   0.96667   0.95082        60\n",
      "           shephere purse    0.92857   0.96296   0.94545        27\n",
      "small-flowered cranesbill    0.96364   0.92982   0.94643        57\n",
      "               sugar beet    0.93750   0.97826   0.95745        46\n",
      "\n",
      "                 accuracy                        0.90328       548\n",
      "                macro avg    0.90310   0.87943   0.88530       548\n",
      "             weighted avg    0.90553   0.90328   0.89963       548\n",
      "\n"
     ]
    }
   ],
   "source": [
    "from sklearn.metrics import classification_report\n",
    "\n",
    "# 计算准确率、召回率、精确率和 F1 值\n",
    "target_names = ['black-grass', 'charlock', 'cleavers', 'common chickweed','common wheat','fat hen', 'loose silky-bent', 'maize', 'scentless mayweed', 'shephere purse', 'small-flowered cranesbill','sugar beet']\n",
    "print(classification_report(y_true, y_pred_labels, target_names=target_names,digits=5))"
   ]
  }
 ],
 "metadata": {
  "kernelspec": {
   "display_name": "pytorch3_10",
   "language": "python",
   "name": "python3"
  },
  "language_info": {
   "codemirror_mode": {
    "name": "ipython",
    "version": 3
   },
   "file_extension": ".py",
   "mimetype": "text/x-python",
   "name": "python",
   "nbconvert_exporter": "python",
   "pygments_lexer": "ipython3",
   "version": "3.10.14"
  },
  "orig_nbformat": 4
 },
 "nbformat": 4,
 "nbformat_minor": 2
}
