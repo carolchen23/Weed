{
 "cells": [
  {
   "cell_type": "code",
   "execution_count": 3,
   "metadata": {},
   "outputs": [],
   "source": [
    "\n",
    "import torch\n",
    "import torch.nn as nn\n",
    "import torch.nn.functional as F\n",
    "from torchsummary import summary\n",
    "\n",
    "\n",
    "class PreInputBlock(nn.Module):\n",
    "\n",
    "    def __init__(self, outchannel, stride=1):\n",
    "        super(PreInputBlock, self).__init__()\n",
    "        self.pre = nn.ModuleList([\n",
    "         nn.Sequential(nn.Conv2d(3, outchannel, 1, stride, bias=False), nn.BatchNorm2d(outchannel))])\n",
    "\n",
    "    def forward(self, x):\n",
    "        out = x\n",
    "        for model in self.pre:\n",
    "            out = model(out)\n",
    "        else:\n",
    "            return out\n",
    "\n",
    "\n",
    "class skipresnet18_2(nn.Module):\n",
    "    \n",
    "    def __init__(self, num_classes=12):\n",
    "        super(skipresnet18_2, self).__init__()\n",
    "        self.k = 1\n",
    "        self.conv1 = nn.Conv2d(3, 64, 3, stride=2, padding=1, bias=False)\n",
    "        self.bn1 = nn.BatchNorm2d(64)\n",
    "        self.relu = nn.ReLU(inplace=True)\n",
    "        self.maxpool = nn.MaxPool2d(kernel_size=3, stride=2, padding=1)\n",
    "        self.mish = nn.Mish()\n",
    "\n",
    "        \n",
    "        self.layer1 = nn.Sequential(nn.Conv2d(64, 64, 3, stride=1, padding=1, bias=False), nn.BatchNorm2d(64),nn.ReLU(inplace=True))\n",
    "        self.layer2 = nn.Sequential(nn.Conv2d(64, 64, 3, stride=1, padding=1, bias=False), nn.BatchNorm2d(64))\n",
    "        self.layer3 = nn.Sequential(nn.Conv2d(64, 64, 3, stride=1, padding=1, bias=False), nn.BatchNorm2d(64),nn.ReLU(inplace=True))\n",
    "        self.layer4 = nn.Sequential(nn.Conv2d(64, 64, 3, stride=1, padding=1, bias=False), nn.BatchNorm2d(64))\n",
    "        \n",
    "        self.layer5 = nn.Sequential(nn.Conv2d(64, 128, 3, stride=2, padding=1, bias=False), nn.BatchNorm2d(128),nn.ReLU(inplace=True))\n",
    "        self.layer6 = nn.Sequential(nn.Conv2d(128, 128, 3, stride=1, padding=1, bias=False), nn.BatchNorm2d(128))\n",
    "        self.layer7 = nn.Sequential(nn.Conv2d(128, 128, 3, stride=1, padding=1, bias=False), nn.BatchNorm2d(128),nn.ReLU(inplace=True))\n",
    "        self.layer8 = nn.Sequential(nn.Conv2d(128, 128, 3, stride=1, padding=1, bias=False), nn.BatchNorm2d(128))\n",
    "        \n",
    "\n",
    "        self.layer9 = nn.Sequential(nn.Conv2d(128, 256, 3, stride=2, padding=1, bias=False), nn.BatchNorm2d(256),nn.ReLU(inplace=True))\n",
    "        self.layer10 = nn.Sequential(nn.Conv2d(256, 256, 3, stride=1, padding=1, bias=False), nn.BatchNorm2d(256))\n",
    "        self.layer11 = nn.Sequential(nn.Conv2d(256, 256, 3, stride=1, padding=1, bias=False), nn.BatchNorm2d(256),nn.ReLU(inplace=True))\n",
    "        self.layer12 = nn.Sequential(nn.Conv2d(256, 256, 3, stride=1, padding=1, bias=False), nn.BatchNorm2d(256))\n",
    "\n",
    "        self.layer13 = nn.Sequential(nn.Conv2d(256, 512, 3, stride=2, padding=1, bias=False), nn.BatchNorm2d(512),nn.ReLU(inplace=True))\n",
    "        self.layer14 = nn.Sequential(nn.Conv2d(512, 512, 3, stride=1, padding=1, bias=False), nn.BatchNorm2d(512))\n",
    "        self.layer15 = nn.Sequential(nn.Conv2d(512, 512, 3, stride=1, padding=1, bias=False), nn.BatchNorm2d(512),nn.ReLU(inplace=True))\n",
    "        self.layer16 = nn.Sequential(nn.Conv2d(512, 512, 3, stride=1, padding=1, bias=False), nn.BatchNorm2d(512))\n",
    "\n",
    "        self.downsample1 = nn.Sequential(nn.Conv2d(64, 128, kernel_size=1, stride=2, bias=False), nn.BatchNorm2d(128))\n",
    "        self.downsample2 = nn.Sequential(nn.Conv2d(128, 256, kernel_size=1, stride=2, bias=False), nn.BatchNorm2d(256))\n",
    "        self.downsample3 = nn.Sequential(nn.Conv2d(256, 512, kernel_size=1, stride=2, bias=False), nn.BatchNorm2d(512))\n",
    "\n",
    "        self.pre1 = nn.Sequential(nn.Conv2d(3, 64, 1, stride=4, bias=False), nn.BatchNorm2d(64))\n",
    "        self.pre2 = nn.Sequential(nn.Conv2d(3, 64, 1, stride=4, bias=False), nn.BatchNorm2d(64))\n",
    "        \n",
    "        self.pre3 = nn.Sequential(nn.Conv2d(3, 128, 1, stride=8, bias=False), nn.BatchNorm2d(128))      \n",
    "        self.pre4 = nn.Sequential(nn.Conv2d(3, 128, 1, stride=8, bias=False), nn.BatchNorm2d(128))\n",
    "\n",
    "        self.pre5 = nn.Sequential(nn.Conv2d(3, 256, 1, stride=16, bias=False), nn.BatchNorm2d(256))   \n",
    "        self.pre6 = nn.Sequential(nn.Conv2d(3, 256, 1, stride=16, bias=False), nn.BatchNorm2d(256))\n",
    "\n",
    "        self.pre7 = nn.Sequential(nn.Conv2d(3, 512, 1, stride=32, bias=False), nn.BatchNorm2d(512))  \n",
    "        self.pre8 = nn.Sequential(nn.Conv2d(3, 512, 1, stride=32, bias=False), nn.BatchNorm2d(512))\n",
    "\n",
    "        self.avg = nn.AvgPool2d(4, stride=1)\n",
    "\n",
    "        self.fc = nn.Linear(512, num_classes)\n",
    "\n",
    "    def forward(self, x0):\n",
    "        x1 = self.conv1(x0)\n",
    "        x1 = self.bn1(x1)\n",
    "        x1 = self.relu(x1)\n",
    "        x1 = self.maxpool(x1)\n",
    "            \n",
    "        x2 = self.layer1(x1)\n",
    "        x3 = self.layer2(x2)\n",
    "        if self.k == 2:\n",
    "            pre_x1 = self.pre1(x0)\n",
    "            x3 = pre_x1 + x3 \n",
    "        else:\n",
    "            x3 = x1 + x3\n",
    "        x3 = self.relu(x3)\n",
    "            \n",
    "        x4 = self.layer3(x3)\n",
    "        x5 = self.layer4(x4)\n",
    "        if self.k == 3:\n",
    "            pre_x2 = self.pre2(x0)\n",
    "            x5 = pre_x2 + x5\n",
    "        else:\n",
    "            x5 = x3 + x5\n",
    "        x5 = self.relu(x5)\n",
    "            \n",
    "        x50 = self.downsample1(x5)\n",
    "        x6 = self.layer5(x5)\n",
    "        x7 = self.layer6(x6)\n",
    "        if self.k == 4:\n",
    "            pre_x3 = self.pre3(x0)\n",
    "            x7 = pre_x3 + x7 \n",
    "        else:\n",
    "            x7 = x50 + x7\n",
    "        x7 = self.relu(x7)\n",
    "            \n",
    "        x8 = self.layer7(x7)\n",
    "        x9 = self.layer8(x8)\n",
    "        if self.k == 5:\n",
    "            pre_x4 = self.pre4(x0)\n",
    "            x9 = pre_x4 + x9 \n",
    "        else:\n",
    "            x9 = x7 + x9\n",
    "        x9 = self.relu(x9)\n",
    "            \n",
    "        x90 = self.downsample2(x9)\n",
    "        x10 = self.layer9(x9)\n",
    "        x11 = self.layer10(x10)\n",
    "        if self.k == 6:\n",
    "            pre_x5 = self.pre5(x0)\n",
    "            x11 = pre_x5 + x11 \n",
    "        else:\n",
    "            x11 = x90 + x11\n",
    "        x11 = self.relu(x11)\n",
    "            \n",
    "        x12 = self.layer11(x11)\n",
    "        x13 = self.layer12(x12)\n",
    "        if self.k == 7:\n",
    "            pre_x6 = self.pre6(x0)\n",
    "            x13 = pre_x6 + x13 \n",
    "        else:\n",
    "            x13 = x11 + x13\n",
    "        x13 = self.relu(x13)\n",
    "            \n",
    "        x130 = self.downsample3(x13)\n",
    "        x14 = self.layer13(x13)\n",
    "        x15 = self.layer14(x14)\n",
    "        if self.k == 8:\n",
    "            pre_x7 = self.pre7(x0)\n",
    "            x15 = pre_x7 + x15\n",
    "        else:\n",
    "            x15 = x130 + x15\n",
    "        x15 = self.relu(x15)\n",
    "            \n",
    "        x16 = self.layer15(x15)\n",
    "        x17 = self.layer16(x16)\n",
    "        if self.k == 9:\n",
    "            pre_x8 = self.pre8(x0)\n",
    "            x17 = pre_x8 + x17 \n",
    "        else:\n",
    "            x17 = x15 + x17\n",
    "        x17 = self.relu(x17)\n",
    "\n",
    "        out = self.avg(x17)\n",
    "        out = out.view(out.size(0),-1)\n",
    "        out = self.fc(out)\n",
    "        return out \n",
    "\n",
    "\n",
    "    def GetK(self, k):\n",
    "        self.k = k\n",
    "\n",
    "\n",
    "#if __name__ == '__main__':\n",
    "#model = skipresnet18_2()\n",
    "#print(model)\n",
    "#model = model.to('cuda')\n",
    "#summary(model, input_size=(3, 128, 128), batch_size=-1, device='cuda')\n",
    "    #print(model)\n",
    "    #print(len(model.total_pre_layers))\n",
    "    #print(len(model.total_layers))\n",
    "#print(f\"Total number of parameters: {sum(p.numel() for p in model.parameters())}\")#"
   ]
  },
  {
   "cell_type": "code",
   "execution_count": 2,
   "metadata": {},
   "outputs": [
    {
     "name": "stderr",
     "output_type": "stream",
     "text": [
      "  0%|          | 0/63 [00:00<?, ?it/s]"
     ]
    },
    {
     "name": "stdout",
     "output_type": "stream",
     "text": [
      "cuda\n",
      "第1轮训练开始\n"
     ]
    },
    {
     "name": "stderr",
     "output_type": "stream",
     "text": [
      "100%|██████████| 63/63 [01:04<00:00,  1.02s/it]\n",
      "  0%|          | 0/16 [00:00<?, ?it/s]"
     ]
    },
    {
     "name": "stdout",
     "output_type": "stream",
     "text": [
      "在训练集上的正确率（使用计数k）：0.34068137407302856\n",
      "开始测试。。。\n"
     ]
    },
    {
     "name": "stderr",
     "output_type": "stream",
     "text": [
      "100%|██████████| 16/16 [00:08<00:00,  1.80it/s]\n",
      "  0%|          | 0/63 [00:00<?, ?it/s]"
     ]
    },
    {
     "name": "stdout",
     "output_type": "stream",
     "text": [
      "在测试集上的正确率：0.5805805921554565\n",
      "Saving model......\n",
      "第2轮训练开始\n"
     ]
    },
    {
     "name": "stderr",
     "output_type": "stream",
     "text": [
      "100%|██████████| 63/63 [00:57<00:00,  1.10it/s]\n",
      "  0%|          | 0/16 [00:00<?, ?it/s]"
     ]
    },
    {
     "name": "stdout",
     "output_type": "stream",
     "text": [
      "在训练集上的正确率（使用计数k）：0.6452906131744385\n",
      "开始测试。。。\n"
     ]
    },
    {
     "name": "stderr",
     "output_type": "stream",
     "text": [
      "100%|██████████| 16/16 [00:08<00:00,  1.92it/s]\n",
      "  0%|          | 0/63 [00:00<?, ?it/s]"
     ]
    },
    {
     "name": "stdout",
     "output_type": "stream",
     "text": [
      "在测试集上的正确率：0.7077077031135559\n",
      "Saving model......\n",
      "第3轮训练开始\n"
     ]
    },
    {
     "name": "stderr",
     "output_type": "stream",
     "text": [
      "100%|██████████| 63/63 [00:57<00:00,  1.09it/s]\n",
      "  0%|          | 0/16 [00:00<?, ?it/s]"
     ]
    },
    {
     "name": "stdout",
     "output_type": "stream",
     "text": [
      "在训练集上的正确率（使用计数k）：0.7404809594154358\n",
      "开始测试。。。\n"
     ]
    },
    {
     "name": "stderr",
     "output_type": "stream",
     "text": [
      "100%|██████████| 16/16 [00:08<00:00,  1.88it/s]\n",
      "  0%|          | 0/63 [00:00<?, ?it/s]"
     ]
    },
    {
     "name": "stdout",
     "output_type": "stream",
     "text": [
      "在测试集上的正确率：0.739739716053009\n",
      "Saving model......\n",
      "第4轮训练开始\n"
     ]
    },
    {
     "name": "stderr",
     "output_type": "stream",
     "text": [
      "100%|██████████| 63/63 [00:58<00:00,  1.08it/s]\n",
      "  0%|          | 0/16 [00:00<?, ?it/s]"
     ]
    },
    {
     "name": "stdout",
     "output_type": "stream",
     "text": [
      "在训练集上的正确率（使用计数k）：0.7923346757888794\n",
      "开始测试。。。\n"
     ]
    },
    {
     "name": "stderr",
     "output_type": "stream",
     "text": [
      "100%|██████████| 16/16 [00:08<00:00,  1.89it/s]\n",
      "  0%|          | 0/63 [00:00<?, ?it/s]"
     ]
    },
    {
     "name": "stdout",
     "output_type": "stream",
     "text": [
      "在测试集上的正确率：0.7857857942581177\n",
      "Saving model......\n",
      "第5轮训练开始\n"
     ]
    },
    {
     "name": "stderr",
     "output_type": "stream",
     "text": [
      "100%|██████████| 63/63 [00:58<00:00,  1.08it/s]\n",
      "  0%|          | 0/16 [00:00<?, ?it/s]"
     ]
    },
    {
     "name": "stdout",
     "output_type": "stream",
     "text": [
      "在训练集上的正确率（使用计数k）：0.82890784740448\n",
      "开始测试。。。\n"
     ]
    },
    {
     "name": "stderr",
     "output_type": "stream",
     "text": [
      "100%|██████████| 16/16 [00:08<00:00,  1.90it/s]\n",
      "  0%|          | 0/63 [00:00<?, ?it/s]"
     ]
    },
    {
     "name": "stdout",
     "output_type": "stream",
     "text": [
      "在测试集上的正确率：0.8248248100280762\n",
      "Saving model......\n",
      "第6轮训练开始\n"
     ]
    },
    {
     "name": "stderr",
     "output_type": "stream",
     "text": [
      "100%|██████████| 63/63 [00:58<00:00,  1.08it/s]\n",
      "  0%|          | 0/16 [00:00<?, ?it/s]"
     ]
    },
    {
     "name": "stdout",
     "output_type": "stream",
     "text": [
      "在训练集上的正确率（使用计数k）：0.8491984009742737\n",
      "开始测试。。。\n"
     ]
    },
    {
     "name": "stderr",
     "output_type": "stream",
     "text": [
      "100%|██████████| 16/16 [00:08<00:00,  1.89it/s]\n",
      "  0%|          | 0/63 [00:00<?, ?it/s]"
     ]
    },
    {
     "name": "stdout",
     "output_type": "stream",
     "text": [
      "在测试集上的正确率：0.8068068027496338\n",
      "Saving model......\n",
      "第7轮训练开始\n"
     ]
    },
    {
     "name": "stderr",
     "output_type": "stream",
     "text": [
      "100%|██████████| 63/63 [00:58<00:00,  1.08it/s]\n",
      "  0%|          | 0/16 [00:00<?, ?it/s]"
     ]
    },
    {
     "name": "stdout",
     "output_type": "stream",
     "text": [
      "在训练集上的正确率（使用计数k）：0.859468936920166\n",
      "开始测试。。。\n"
     ]
    },
    {
     "name": "stderr",
     "output_type": "stream",
     "text": [
      "100%|██████████| 16/16 [00:08<00:00,  1.86it/s]\n",
      "  0%|          | 0/63 [00:00<?, ?it/s]"
     ]
    },
    {
     "name": "stdout",
     "output_type": "stream",
     "text": [
      "在测试集上的正确率：0.8548548221588135\n",
      "Saving model......\n",
      "第8轮训练开始\n"
     ]
    },
    {
     "name": "stderr",
     "output_type": "stream",
     "text": [
      "100%|██████████| 63/63 [00:58<00:00,  1.07it/s]\n",
      "  0%|          | 0/16 [00:00<?, ?it/s]"
     ]
    },
    {
     "name": "stdout",
     "output_type": "stream",
     "text": [
      "在训练集上的正确率（使用计数k）：0.8880260586738586\n",
      "开始测试。。。\n"
     ]
    },
    {
     "name": "stderr",
     "output_type": "stream",
     "text": [
      "100%|██████████| 16/16 [00:08<00:00,  1.88it/s]\n",
      "  0%|          | 0/63 [00:00<?, ?it/s]"
     ]
    },
    {
     "name": "stdout",
     "output_type": "stream",
     "text": [
      "在测试集上的正确率：0.8428428173065186\n",
      "Saving model......\n",
      "第9轮训练开始\n"
     ]
    },
    {
     "name": "stderr",
     "output_type": "stream",
     "text": [
      "100%|██████████| 63/63 [00:58<00:00,  1.07it/s]\n",
      "  0%|          | 0/16 [00:00<?, ?it/s]"
     ]
    },
    {
     "name": "stdout",
     "output_type": "stream",
     "text": [
      "在训练集上的正确率（使用计数k）：0.905811607837677\n",
      "开始测试。。。\n"
     ]
    },
    {
     "name": "stderr",
     "output_type": "stream",
     "text": [
      "100%|██████████| 16/16 [00:08<00:00,  1.86it/s]\n",
      "  0%|          | 0/63 [00:00<?, ?it/s]"
     ]
    },
    {
     "name": "stdout",
     "output_type": "stream",
     "text": [
      "在测试集上的正确率：0.8448448181152344\n",
      "Saving model......\n",
      "第10轮训练开始\n"
     ]
    },
    {
     "name": "stderr",
     "output_type": "stream",
     "text": [
      "100%|██████████| 63/63 [00:58<00:00,  1.07it/s]\n",
      "  0%|          | 0/16 [00:00<?, ?it/s]"
     ]
    },
    {
     "name": "stdout",
     "output_type": "stream",
     "text": [
      "在训练集上的正确率（使用计数k）：0.9025551080703735\n",
      "开始测试。。。\n"
     ]
    },
    {
     "name": "stderr",
     "output_type": "stream",
     "text": [
      "100%|██████████| 16/16 [00:08<00:00,  1.87it/s]\n",
      "  0%|          | 0/63 [00:00<?, ?it/s]"
     ]
    },
    {
     "name": "stdout",
     "output_type": "stream",
     "text": [
      "在测试集上的正确率：0.8678678274154663\n",
      "Saving model......\n",
      "第11轮训练开始\n"
     ]
    },
    {
     "name": "stderr",
     "output_type": "stream",
     "text": [
      "100%|██████████| 63/63 [00:59<00:00,  1.07it/s]\n",
      "  0%|          | 0/16 [00:00<?, ?it/s]"
     ]
    },
    {
     "name": "stdout",
     "output_type": "stream",
     "text": [
      "在训练集上的正确率（使用计数k）：0.915080189704895\n",
      "开始测试。。。\n"
     ]
    },
    {
     "name": "stderr",
     "output_type": "stream",
     "text": [
      "100%|██████████| 16/16 [00:08<00:00,  1.85it/s]\n",
      "  0%|          | 0/63 [00:00<?, ?it/s]"
     ]
    },
    {
     "name": "stdout",
     "output_type": "stream",
     "text": [
      "在测试集上的正确率：0.8458458185195923\n",
      "Saving model......\n",
      "第12轮训练开始\n"
     ]
    },
    {
     "name": "stderr",
     "output_type": "stream",
     "text": [
      "100%|██████████| 63/63 [01:02<00:00,  1.02it/s]\n",
      "  0%|          | 0/16 [00:00<?, ?it/s]"
     ]
    },
    {
     "name": "stdout",
     "output_type": "stream",
     "text": [
      "在训练集上的正确率（使用计数k）：0.9200901985168457\n",
      "开始测试。。。\n"
     ]
    },
    {
     "name": "stderr",
     "output_type": "stream",
     "text": [
      "100%|██████████| 16/16 [00:11<00:00,  1.36it/s]\n",
      "  0%|          | 0/63 [00:00<?, ?it/s]"
     ]
    },
    {
     "name": "stdout",
     "output_type": "stream",
     "text": [
      "在测试集上的正确率：0.8878878951072693\n",
      "Saving model......\n",
      "第13轮训练开始\n"
     ]
    },
    {
     "name": "stderr",
     "output_type": "stream",
     "text": [
      " 48%|████▊     | 30/63 [00:34<00:37,  1.14s/it]\n"
     ]
    },
    {
     "ename": "KeyboardInterrupt",
     "evalue": "",
     "output_type": "error",
     "traceback": [
      "\u001b[1;31m---------------------------------------------------------------------------\u001b[0m",
      "\u001b[1;31mKeyboardInterrupt\u001b[0m                         Traceback (most recent call last)",
      "Cell \u001b[1;32mIn[2], line 213\u001b[0m\n\u001b[0;32m    210\u001b[0m total_accuracy3 \u001b[39m=\u001b[39m \u001b[39m0\u001b[39m\n\u001b[0;32m    212\u001b[0m model\u001b[39m.\u001b[39mtrain()\n\u001b[1;32m--> 213\u001b[0m \u001b[39mfor\u001b[39;00m data \u001b[39min\u001b[39;00m tqdm(trainloader):\n\u001b[0;32m    215\u001b[0m     imgs, labels \u001b[39m=\u001b[39m data\n\u001b[0;32m    216\u001b[0m     imgs \u001b[39m=\u001b[39m imgs\u001b[39m.\u001b[39mto(device)\n",
      "File \u001b[1;32md:\\Anaconda\\Anaconda3\\envs\\pytorch3_10\\lib\\site-packages\\tqdm\\std.py:1178\u001b[0m, in \u001b[0;36mtqdm.__iter__\u001b[1;34m(self)\u001b[0m\n\u001b[0;32m   1175\u001b[0m time \u001b[39m=\u001b[39m \u001b[39mself\u001b[39m\u001b[39m.\u001b[39m_time\n\u001b[0;32m   1177\u001b[0m \u001b[39mtry\u001b[39;00m:\n\u001b[1;32m-> 1178\u001b[0m     \u001b[39mfor\u001b[39;00m obj \u001b[39min\u001b[39;00m iterable:\n\u001b[0;32m   1179\u001b[0m         \u001b[39myield\u001b[39;00m obj\n\u001b[0;32m   1180\u001b[0m         \u001b[39m# Update and possibly print the progressbar.\u001b[39;00m\n\u001b[0;32m   1181\u001b[0m         \u001b[39m# Note: does not call self.update(1) for speed optimisation.\u001b[39;00m\n",
      "File \u001b[1;32md:\\Anaconda\\Anaconda3\\envs\\pytorch3_10\\lib\\site-packages\\torch\\utils\\data\\dataloader.py:628\u001b[0m, in \u001b[0;36m_BaseDataLoaderIter.__next__\u001b[1;34m(self)\u001b[0m\n\u001b[0;32m    625\u001b[0m \u001b[39mif\u001b[39;00m \u001b[39mself\u001b[39m\u001b[39m.\u001b[39m_sampler_iter \u001b[39mis\u001b[39;00m \u001b[39mNone\u001b[39;00m:\n\u001b[0;32m    626\u001b[0m     \u001b[39m# TODO(https://github.com/pytorch/pytorch/issues/76750)\u001b[39;00m\n\u001b[0;32m    627\u001b[0m     \u001b[39mself\u001b[39m\u001b[39m.\u001b[39m_reset()  \u001b[39m# type: ignore[call-arg]\u001b[39;00m\n\u001b[1;32m--> 628\u001b[0m data \u001b[39m=\u001b[39m \u001b[39mself\u001b[39;49m\u001b[39m.\u001b[39;49m_next_data()\n\u001b[0;32m    629\u001b[0m \u001b[39mself\u001b[39m\u001b[39m.\u001b[39m_num_yielded \u001b[39m+\u001b[39m\u001b[39m=\u001b[39m \u001b[39m1\u001b[39m\n\u001b[0;32m    630\u001b[0m \u001b[39mif\u001b[39;00m \u001b[39mself\u001b[39m\u001b[39m.\u001b[39m_dataset_kind \u001b[39m==\u001b[39m _DatasetKind\u001b[39m.\u001b[39mIterable \u001b[39mand\u001b[39;00m \\\n\u001b[0;32m    631\u001b[0m         \u001b[39mself\u001b[39m\u001b[39m.\u001b[39m_IterableDataset_len_called \u001b[39mis\u001b[39;00m \u001b[39mnot\u001b[39;00m \u001b[39mNone\u001b[39;00m \u001b[39mand\u001b[39;00m \\\n\u001b[0;32m    632\u001b[0m         \u001b[39mself\u001b[39m\u001b[39m.\u001b[39m_num_yielded \u001b[39m>\u001b[39m \u001b[39mself\u001b[39m\u001b[39m.\u001b[39m_IterableDataset_len_called:\n",
      "File \u001b[1;32md:\\Anaconda\\Anaconda3\\envs\\pytorch3_10\\lib\\site-packages\\torch\\utils\\data\\dataloader.py:671\u001b[0m, in \u001b[0;36m_SingleProcessDataLoaderIter._next_data\u001b[1;34m(self)\u001b[0m\n\u001b[0;32m    669\u001b[0m \u001b[39mdef\u001b[39;00m \u001b[39m_next_data\u001b[39m(\u001b[39mself\u001b[39m):\n\u001b[0;32m    670\u001b[0m     index \u001b[39m=\u001b[39m \u001b[39mself\u001b[39m\u001b[39m.\u001b[39m_next_index()  \u001b[39m# may raise StopIteration\u001b[39;00m\n\u001b[1;32m--> 671\u001b[0m     data \u001b[39m=\u001b[39m \u001b[39mself\u001b[39;49m\u001b[39m.\u001b[39;49m_dataset_fetcher\u001b[39m.\u001b[39;49mfetch(index)  \u001b[39m# may raise StopIteration\u001b[39;00m\n\u001b[0;32m    672\u001b[0m     \u001b[39mif\u001b[39;00m \u001b[39mself\u001b[39m\u001b[39m.\u001b[39m_pin_memory:\n\u001b[0;32m    673\u001b[0m         data \u001b[39m=\u001b[39m _utils\u001b[39m.\u001b[39mpin_memory\u001b[39m.\u001b[39mpin_memory(data, \u001b[39mself\u001b[39m\u001b[39m.\u001b[39m_pin_memory_device)\n",
      "File \u001b[1;32md:\\Anaconda\\Anaconda3\\envs\\pytorch3_10\\lib\\site-packages\\torch\\utils\\data\\_utils\\fetch.py:58\u001b[0m, in \u001b[0;36m_MapDatasetFetcher.fetch\u001b[1;34m(self, possibly_batched_index)\u001b[0m\n\u001b[0;32m     56\u001b[0m         data \u001b[39m=\u001b[39m \u001b[39mself\u001b[39m\u001b[39m.\u001b[39mdataset\u001b[39m.\u001b[39m__getitems__(possibly_batched_index)\n\u001b[0;32m     57\u001b[0m     \u001b[39melse\u001b[39;00m:\n\u001b[1;32m---> 58\u001b[0m         data \u001b[39m=\u001b[39m [\u001b[39mself\u001b[39m\u001b[39m.\u001b[39mdataset[idx] \u001b[39mfor\u001b[39;00m idx \u001b[39min\u001b[39;00m possibly_batched_index]\n\u001b[0;32m     59\u001b[0m \u001b[39melse\u001b[39;00m:\n\u001b[0;32m     60\u001b[0m     data \u001b[39m=\u001b[39m \u001b[39mself\u001b[39m\u001b[39m.\u001b[39mdataset[possibly_batched_index]\n",
      "File \u001b[1;32md:\\Anaconda\\Anaconda3\\envs\\pytorch3_10\\lib\\site-packages\\torch\\utils\\data\\_utils\\fetch.py:58\u001b[0m, in \u001b[0;36m<listcomp>\u001b[1;34m(.0)\u001b[0m\n\u001b[0;32m     56\u001b[0m         data \u001b[39m=\u001b[39m \u001b[39mself\u001b[39m\u001b[39m.\u001b[39mdataset\u001b[39m.\u001b[39m__getitems__(possibly_batched_index)\n\u001b[0;32m     57\u001b[0m     \u001b[39melse\u001b[39;00m:\n\u001b[1;32m---> 58\u001b[0m         data \u001b[39m=\u001b[39m [\u001b[39mself\u001b[39;49m\u001b[39m.\u001b[39;49mdataset[idx] \u001b[39mfor\u001b[39;00m idx \u001b[39min\u001b[39;00m possibly_batched_index]\n\u001b[0;32m     59\u001b[0m \u001b[39melse\u001b[39;00m:\n\u001b[0;32m     60\u001b[0m     data \u001b[39m=\u001b[39m \u001b[39mself\u001b[39m\u001b[39m.\u001b[39mdataset[possibly_batched_index]\n",
      "File \u001b[1;32md:\\Anaconda\\Anaconda3\\envs\\pytorch3_10\\lib\\site-packages\\torch\\utils\\data\\dataset.py:295\u001b[0m, in \u001b[0;36mSubset.__getitem__\u001b[1;34m(self, idx)\u001b[0m\n\u001b[0;32m    293\u001b[0m \u001b[39mif\u001b[39;00m \u001b[39misinstance\u001b[39m(idx, \u001b[39mlist\u001b[39m):\n\u001b[0;32m    294\u001b[0m     \u001b[39mreturn\u001b[39;00m \u001b[39mself\u001b[39m\u001b[39m.\u001b[39mdataset[[\u001b[39mself\u001b[39m\u001b[39m.\u001b[39mindices[i] \u001b[39mfor\u001b[39;00m i \u001b[39min\u001b[39;00m idx]]\n\u001b[1;32m--> 295\u001b[0m \u001b[39mreturn\u001b[39;00m \u001b[39mself\u001b[39;49m\u001b[39m.\u001b[39;49mdataset[\u001b[39mself\u001b[39;49m\u001b[39m.\u001b[39;49mindices[idx]]\n",
      "File \u001b[1;32md:\\Anaconda\\Anaconda3\\envs\\pytorch3_10\\lib\\site-packages\\torchvision\\datasets\\folder.py:229\u001b[0m, in \u001b[0;36mDatasetFolder.__getitem__\u001b[1;34m(self, index)\u001b[0m\n\u001b[0;32m    221\u001b[0m \u001b[39m\u001b[39m\u001b[39m\"\"\"\u001b[39;00m\n\u001b[0;32m    222\u001b[0m \u001b[39mArgs:\u001b[39;00m\n\u001b[0;32m    223\u001b[0m \u001b[39m    index (int): Index\u001b[39;00m\n\u001b[1;32m   (...)\u001b[0m\n\u001b[0;32m    226\u001b[0m \u001b[39m    tuple: (sample, target) where target is class_index of the target class.\u001b[39;00m\n\u001b[0;32m    227\u001b[0m \u001b[39m\"\"\"\u001b[39;00m\n\u001b[0;32m    228\u001b[0m path, target \u001b[39m=\u001b[39m \u001b[39mself\u001b[39m\u001b[39m.\u001b[39msamples[index]\n\u001b[1;32m--> 229\u001b[0m sample \u001b[39m=\u001b[39m \u001b[39mself\u001b[39;49m\u001b[39m.\u001b[39;49mloader(path)\n\u001b[0;32m    230\u001b[0m \u001b[39mif\u001b[39;00m \u001b[39mself\u001b[39m\u001b[39m.\u001b[39mtransform \u001b[39mis\u001b[39;00m \u001b[39mnot\u001b[39;00m \u001b[39mNone\u001b[39;00m:\n\u001b[0;32m    231\u001b[0m     sample \u001b[39m=\u001b[39m \u001b[39mself\u001b[39m\u001b[39m.\u001b[39mtransform(sample)\n",
      "File \u001b[1;32md:\\Anaconda\\Anaconda3\\envs\\pytorch3_10\\lib\\site-packages\\torchvision\\datasets\\folder.py:268\u001b[0m, in \u001b[0;36mdefault_loader\u001b[1;34m(path)\u001b[0m\n\u001b[0;32m    266\u001b[0m     \u001b[39mreturn\u001b[39;00m accimage_loader(path)\n\u001b[0;32m    267\u001b[0m \u001b[39melse\u001b[39;00m:\n\u001b[1;32m--> 268\u001b[0m     \u001b[39mreturn\u001b[39;00m pil_loader(path)\n",
      "File \u001b[1;32md:\\Anaconda\\Anaconda3\\envs\\pytorch3_10\\lib\\site-packages\\torchvision\\datasets\\folder.py:248\u001b[0m, in \u001b[0;36mpil_loader\u001b[1;34m(path)\u001b[0m\n\u001b[0;32m    246\u001b[0m \u001b[39mwith\u001b[39;00m \u001b[39mopen\u001b[39m(path, \u001b[39m\"\u001b[39m\u001b[39mrb\u001b[39m\u001b[39m\"\u001b[39m) \u001b[39mas\u001b[39;00m f:\n\u001b[0;32m    247\u001b[0m     img \u001b[39m=\u001b[39m Image\u001b[39m.\u001b[39mopen(f)\n\u001b[1;32m--> 248\u001b[0m     \u001b[39mreturn\u001b[39;00m img\u001b[39m.\u001b[39;49mconvert(\u001b[39m\"\u001b[39;49m\u001b[39mRGB\u001b[39;49m\u001b[39m\"\u001b[39;49m)\n",
      "File \u001b[1;32md:\\Anaconda\\Anaconda3\\envs\\pytorch3_10\\lib\\site-packages\\PIL\\Image.py:941\u001b[0m, in \u001b[0;36mImage.convert\u001b[1;34m(self, mode, matrix, dither, palette, colors)\u001b[0m\n\u001b[0;32m    889\u001b[0m \u001b[39mdef\u001b[39;00m \u001b[39mconvert\u001b[39m(\n\u001b[0;32m    890\u001b[0m     \u001b[39mself\u001b[39m,\n\u001b[0;32m    891\u001b[0m     mode: \u001b[39mstr\u001b[39m \u001b[39m|\u001b[39m \u001b[39mNone\u001b[39;00m \u001b[39m=\u001b[39m \u001b[39mNone\u001b[39;00m,\n\u001b[1;32m   (...)\u001b[0m\n\u001b[0;32m    895\u001b[0m     colors: \u001b[39mint\u001b[39m \u001b[39m=\u001b[39m \u001b[39m256\u001b[39m,\n\u001b[0;32m    896\u001b[0m ) \u001b[39m-\u001b[39m\u001b[39m>\u001b[39m Image:\n\u001b[0;32m    897\u001b[0m \u001b[39m    \u001b[39m\u001b[39m\"\"\"\u001b[39;00m\n\u001b[0;32m    898\u001b[0m \u001b[39m    Returns a converted copy of this image. For the \"P\" mode, this\u001b[39;00m\n\u001b[0;32m    899\u001b[0m \u001b[39m    method translates pixels through the palette.  If mode is\u001b[39;00m\n\u001b[1;32m   (...)\u001b[0m\n\u001b[0;32m    938\u001b[0m \u001b[39m    :returns: An :py:class:`~PIL.Image.Image` object.\u001b[39;00m\n\u001b[0;32m    939\u001b[0m \u001b[39m    \"\"\"\u001b[39;00m\n\u001b[1;32m--> 941\u001b[0m     \u001b[39mself\u001b[39;49m\u001b[39m.\u001b[39;49mload()\n\u001b[0;32m    943\u001b[0m     has_transparency \u001b[39m=\u001b[39m \u001b[39m\"\u001b[39m\u001b[39mtransparency\u001b[39m\u001b[39m\"\u001b[39m \u001b[39min\u001b[39;00m \u001b[39mself\u001b[39m\u001b[39m.\u001b[39minfo\n\u001b[0;32m    944\u001b[0m     \u001b[39mif\u001b[39;00m \u001b[39mnot\u001b[39;00m mode \u001b[39mand\u001b[39;00m \u001b[39mself\u001b[39m\u001b[39m.\u001b[39mmode \u001b[39m==\u001b[39m \u001b[39m\"\u001b[39m\u001b[39mP\u001b[39m\u001b[39m\"\u001b[39m:\n\u001b[0;32m    945\u001b[0m         \u001b[39m# determine default mode\u001b[39;00m\n",
      "File \u001b[1;32md:\\Anaconda\\Anaconda3\\envs\\pytorch3_10\\lib\\site-packages\\PIL\\ImageFile.py:291\u001b[0m, in \u001b[0;36mImageFile.load\u001b[1;34m(self)\u001b[0m\n\u001b[0;32m    288\u001b[0m         \u001b[39mraise\u001b[39;00m \u001b[39mOSError\u001b[39;00m(msg)\n\u001b[0;32m    290\u001b[0m b \u001b[39m=\u001b[39m b \u001b[39m+\u001b[39m s\n\u001b[1;32m--> 291\u001b[0m n, err_code \u001b[39m=\u001b[39m decoder\u001b[39m.\u001b[39;49mdecode(b)\n\u001b[0;32m    292\u001b[0m \u001b[39mif\u001b[39;00m n \u001b[39m<\u001b[39m \u001b[39m0\u001b[39m:\n\u001b[0;32m    293\u001b[0m     \u001b[39mbreak\u001b[39;00m\n",
      "\u001b[1;31mKeyboardInterrupt\u001b[0m: "
     ]
    },
    {
     "data": {
      "text/plain": [
       "<Figure size 640x480 with 0 Axes>"
      ]
     },
     "metadata": {},
     "output_type": "display_data"
    }
   ],
   "source": [
    "\n",
    "\n",
    "from numpy import log2\n",
    "import torch\n",
    "import torch.nn.functional as F\n",
    "from torch.nn.modules import flatten\n",
    "from torch.nn.modules.flatten import Flatten\n",
    "from torch.nn.modules.pooling import MaxPool2d\n",
    "import torchvision\n",
    "from torch.utils.data import DataLoader, dataloader, Subset\n",
    "import torch.nn as nn\n",
    "from torch.utils.tensorboard import SummaryWriter\n",
    "import time\n",
    "import numpy as np\n",
    "from torchvision import transforms\n",
    "from matplotlib import pyplot as plt\n",
    "from tqdm import tqdm\n",
    "from torchvision.datasets import ImageFolder\n",
    "from torch.utils.data import random_split\n",
    "from sklearn.model_selection import KFold\n",
    "#import torch.optim.lr_scheduler as lr_scheduler\n",
    "import os\n",
    "os.environ[\"KMP_DUPLICATE_LIB_OK\"]=\"TRUE\"\n",
    "\n",
    "\n",
    "\n",
    "\n",
    "\n",
    "\n",
    "# from resnet_skip import ResNet_Skip\n",
    "\n",
    "# torch.manual_seed(1)\n",
    "\n",
    "# 图像预处理\n",
    "transform_train = transforms.Compose([\n",
    "    transforms.Resize(size=(128,128)),\n",
    "    transforms.CenterCrop(128),\n",
    "    transforms.RandomHorizontalFlip(),  # 图像一半的概率翻转，一半的概率不翻转\n",
    "    #transforms.RandomVerticalFlip(),\n",
    "    transforms.RandomRotation(15),\n",
    "    #transforms.ColorJitter(contrast=10),\n",
    "    transforms.ToTensor(),\n",
    "    transforms.Normalize((0.485, 0.456, 0.406), (0.229, 0.224, 0.225)),  # R,G,B每层的归一化用到的均值和方差\n",
    "])\n",
    "\n",
    "transform_valid = transforms.Compose([\n",
    "    transforms.Resize(size=(128,128)),\n",
    "    transforms.ToTensor(),\n",
    "    transforms.Normalize((0.485, 0.456, 0.406), (0.229, 0.224, 0.225)),\n",
    "])\n",
    "\n",
    "BATCH_SIZE = 64\n",
    "\n",
    "\n",
    "\n",
    "# 训练数据集\n",
    "train_dataset = ImageFolder(root='../input/newdata3/train/', transform=transform_train)  \n",
    "#validset = ImageFolder(root='../input/corn/train/', train=False, transform=transform_valid )\n",
    "\n",
    "num_train = int(len(train_dataset))\n",
    "#num_val = len(fullset)-num_train\n",
    "\n",
    "#train_dataset, val_dataset = random_split(fullset, [num_train,num_val])\n",
    "\n",
    "# 定义K-fold对象\n",
    "Kf_train = KFold(n_splits=5, shuffle=True, random_state=42)\n",
    "\n",
    " # 生成一个个batch进行批训练，组成batch的时候顺序打乱取，\n",
    "#trainloader = torch.utils.data.DataLoader(trainset, batch_size=BATCH_SIZE, shuffle=True,num_workers=0) \n",
    "\n",
    "# 测试训练集\n",
    "\n",
    "#validloader = torch.utils.data.DataLoader(validset, batch_size=BATCH_SIZE, shuffle=True, num_workers=0)\n",
    "\n",
    "#train_dataset = torchvision.datasets.MNIST(root=\"/home/featurize/work/data\",train=True,transform=transform_train,download=True)\n",
    "#test_dataset = torchvision.datasets.MNIST(root=\"/home/featurize/work/data\",train=False,transform=transform_test,download=True)\n",
    "\n",
    "# 添加tensorboard画图可视化\n",
    "writer = SummaryWriter(\"../skipresnet18/logs_train_kfold\")\n",
    "\n",
    "#数据集长度\n",
    "#train_data_size = num_train\n",
    "#valid_data_size = num_val\n",
    "#print(\"训练集长度：{}\".format(train_data_size))\n",
    "#print(\"测试集长度：{}\".format(valid_data_size))\n",
    "\n",
    "\n",
    "\n",
    "device = torch.device(\"cuda\" if torch.cuda.is_available() else \"cpu\")\n",
    "print(device)\n",
    "\n",
    "#创建网络模型\n",
    "# test_net = skip_net_mnist()\n",
    "# test_net = SkipNetC2()\n",
    "model = skipresnet18_2().to(device)\n",
    "# if torch.cuda.device_count() > 1:\n",
    "#   print(\"Let's use\", torch.cuda.device_count(), \"GPUs!\")\n",
    "#   test_net = nn.DataParallel(test_net)\n",
    "\n",
    "# ../input/skipnetmodel/skip_net_CIFAR10_164 (3)\n",
    "# test_net.load_state_dict(torch.load(\"(1)—3k_nopre_mish_Skipnet18_0_50_128_0.01.pkl\"))\n",
    "\n",
    "\n",
    "#创建损失函数（交叉熵损失函数）\n",
    "loss_fn = torch.nn.CrossEntropyLoss()\n",
    "loss_fn.to(device)\n",
    "#创建优化器\n",
    "#learning_rata = 0.001\n",
    "LR = 0.001#或者使用1e-2代替0.01\n",
    "optimizer = torch.optim.SGD(model.parameters(),lr=LR, momentum=0.9, weight_decay=5e-4)\n",
    "# 定义学习率调度器\n",
    "#scheduler = lr_scheduler.ReduceLROnPlateau(optimizer, mode='min', factor=0.1, patience=10)\n",
    "\n",
    "# 获取网络参数\n",
    "def GetParametaer(net):\n",
    "    # Get parameters of the net\n",
    "    list = []\n",
    "    for __, parameter in net.named_parameters():\n",
    "        list.append(parameter)\n",
    "    \n",
    "    return list\n",
    "  \n",
    "def GetNum(NumOfLayers,x):\n",
    "\n",
    "    model.GetK(NumOfLayers)\n",
    "    x = model(x)\n",
    "    return x\n",
    "#bitch_size    \n",
    "# 从不同路径进入后可以得到每一层的输出\n",
    "def Get_layers_OutNums(x):\n",
    "    list_3 = []\n",
    "    for i in range(1,10):\n",
    "        temp = x\n",
    "        temp = GetNum(i,temp)\n",
    "        temp = F.softmax(temp,dim=1)\n",
    "        list_3.append(temp)\n",
    "    return list_3\n",
    "\n",
    "\n",
    "\n",
    "# 获得损失值最小的那条路径\n",
    "def LossOfEveryLayers(x, y,LossFunc):\n",
    "    #Get the loss ofc every linaer layer\n",
    "    loss_of_layer = []\n",
    "    for i in range(9):\n",
    "        # LossFunc：交叉熵，x是图片的预测输出，y是标签值\n",
    "        loss_of_layer.append(LossFunc(x[i],y))\n",
    "\n",
    "\n",
    "    return loss_of_layer.index(min(loss_of_layer))+1\n",
    "\n",
    "    \n",
    "\n",
    "\n",
    "def OutPut(layers_out):\n",
    "    layers_out_ = torch.stack(layers_out,0).to(device)\n",
    "\n",
    "    temp2 = torch.max(layers_out_,2)[0].argmax(0)\n",
    "\n",
    "    temp3 = torch.arange(0,len(temp2))\n",
    "    \n",
    "    output_  = layers_out_[temp2,temp3].to(device)\n",
    "    \n",
    "    return output_\n",
    "\n",
    "def returnk(layers_out):\n",
    "    # a=[[1,2,3],[11,22,33]](2*3)   b=[[4,5,6],[44,55,66]](2*3)\n",
    "    # dim=0,stack(a,b)--->(0....)=1  2  3\n",
    "    #                             11 22 33\n",
    "    #                     (1....)=4  5  6\n",
    "    #                             44 55 66\n",
    "    layers_out_ = torch.stack(layers_out,0).to(device)\n",
    "    temp = torch.max(layers_out_,2)[0].argmax(0)\n",
    "    temp2 = temp.tolist()\n",
    "    k = max(temp2,key=temp2.count)+1\n",
    "    return k\n",
    "\n",
    "\n",
    "plt.figure()\n",
    "\n",
    "#训练的次数\n",
    "total_train_step = 0\n",
    "#测试次数\n",
    "total_test_step = 0\n",
    "total_train_accuracy = 0\n",
    "# Decey_x = 0.5\n",
    "total_train_accuracy_list = []\n",
    "total_train_loss_list = []\n",
    "total_test_accuracy_list = []\n",
    "total_test_loss_list = []\n",
    "val_accuracies = []\n",
    "change_k = 0\n",
    "best_acc = 0\n",
    "#print(\"加载模型...\")\n",
    "#with open(\"../skipresnet18/epoch_corn/skipresnet18(relu)_50.pth\",'rb') as f:\n",
    "#    model.load_state_dict(torch.load(f))\n",
    "#print(\"加载完毕!\")\n",
    "\n",
    "for train_index, val_index in Kf_train.split(range(num_train)):\n",
    "    train_kfold_subset = Subset(train_dataset, train_index)\n",
    "    val_kfold_subset =Subset(train_dataset, val_index)\n",
    "\n",
    "    trainloader = DataLoader(train_kfold_subset, batch_size=BATCH_SIZE, shuffle=True, num_workers=0)\n",
    "    validloader = DataLoader(val_kfold_subset, batch_size=BATCH_SIZE, shuffle=True, num_workers=0)\n",
    "   \n",
    "    for i in range(0, 30):\n",
    "    \n",
    "        print(\"第{}轮训练开始\".format(i+1))\n",
    "        total_train_loss = 0\n",
    "        total_accuracy1 = 0\n",
    "        total_accuracy2 = 0\n",
    "        total_accuracy3 = 0\n",
    "\n",
    "        model.train()\n",
    "        for data in tqdm(trainloader):\n",
    "\n",
    "            imgs, labels = data\n",
    "            imgs = imgs.to(device)\n",
    "        #imgs = imgs.view(-1,1,28,28)\n",
    "            imgs = imgs.view(-1,3,128,128)\n",
    "        # imgs = imgs.view(-1,3,32,32)                                  \n",
    "            labels = labels.to(device)\n",
    "#         layers_out = Get_layers_OutNums(imgs)\n",
    "        \n",
    "            if i<change_k:\n",
    "                k = 1\n",
    "                optimizer.zero_grad()\n",
    "                model.GetK(k)\n",
    "                output = model(imgs)\n",
    "                loss = loss_fn(output, labels)\n",
    "                loss.backward()\n",
    "                optimizer.step()\n",
    "            #scheduler.step(loss)\n",
    "                total_train_loss += loss.item()\n",
    "                total_train_step = total_train_step + 1\n",
    "                accuracy1 = (output.argmax(1)==labels).sum()\n",
    "                total_accuracy1 += accuracy1\n",
    "            \n",
    "            else:\n",
    "                layers_out = Get_layers_OutNums(imgs)\n",
    "                optimizer.zero_grad()\n",
    "    \n",
    "      \n",
    "            # 1.最小损失值路径选择算法\n",
    "                k_1 = LossOfEveryLayers(layers_out,labels,loss_fn)\n",
    "    #         print(\"训练\",k_1)\n",
    "            # 选择损失值最小的输入路径\n",
    "                model.GetK(k_1)\n",
    "    #         print(test_net.k)\n",
    "                outputs1 = model(imgs)\n",
    "                loss1 = loss_fn(outputs1,labels)\n",
    "\n",
    "\n",
    "           # 3.最优路径统计算法 \n",
    "                k3 = returnk(layers_out) \n",
    "    #         print(\"训练\",k3)\n",
    "                model.GetK(k3)\n",
    "                outputs3 = model(imgs)\n",
    "    #         print(test_net.k)\n",
    "                loss3 = loss_fn(outputs3,labels)                                                                                                                                                                                                                                      \n",
    "    #         loss = loss3\n",
    "\n",
    "             #2.个体最优路径选择算法\n",
    "                outputs2 = OutPut(layers_out)\n",
    "                loss2 = loss_fn(outputs2,labels)\n",
    "            \n",
    "                loss = loss1+loss2+loss3\n",
    "    #         loss = loss2+loss3\n",
    "\n",
    "            \n",
    "                loss.backward()\n",
    "                optimizer.step()\n",
    "            #scheduler.step(loss)\n",
    "\n",
    "                total_train_loss += loss.item()\n",
    "                total_train_step = total_train_step + 1\n",
    "    \n",
    "    #             print(\"训练次数:{}，loss3: {}\".format(total_train_step,loss3.item()))\n",
    "    #             print(\"训练次数:{}，loss2: {}，loss3: {}\".format(total_train_step,loss2.item(),loss3.item()))\n",
    "    #             print(\"训练次数:{}，loss1: {}，loss2: {}\".format(total_train_step,loss1.item(),loss2.item()))\n",
    "    \n",
    "                accuracy1 = (outputs1.argmax(1)==labels).sum()\n",
    "                accuracy2 = (outputs2.argmax(1)==labels).sum()\n",
    "                accuracy3 = (outputs3.argmax(1)==labels).sum()\n",
    "                total_accuracy1 += accuracy1\n",
    "                total_accuracy2 += accuracy2\n",
    "                total_accuracy3 += accuracy3\n",
    "        #print(\"训练次数:{}，loss1: {}，loss2: {}，loss3: {}\".format(total_train_step,loss1.item(),loss2.item(),loss3.item()))\n",
    "        if i<change_k:\n",
    "            train_accurary1 = total_accuracy1/len(train_index)\n",
    "            print(total_train_loss)\n",
    "            print(\"66666在训练集上的正确率：{}\".format(train_accurary1))\n",
    "        else: \n",
    "            train_accurary1 = total_accuracy1/len(train_index) \n",
    "            train_accurary2 = total_accuracy2/len(train_index)\n",
    "            train_accurary3 = total_accuracy3/len(train_index)       \n",
    "            #print(\"在训练集上的loss：{}\".format(total_train_loss))\n",
    "            #print(\"在训练集上的正确率：{}\".format(train_accurary1))\n",
    "            #print(\"在训练集上的正确率（不用k）：{}\".format(train_accurary2))\n",
    "            print(\"在训练集上的正确率（使用计数k）：{}\".format(train_accurary3))\n",
    "        total_train_accuracy_list.append(train_accurary1)\n",
    "        total_train_loss_list.append(total_train_loss)\n",
    "\n",
    "        print(\"开始测试。。。\")\n",
    "        total_accuracy = 0\n",
    "    #测试步骤\n",
    "    #test_net.eval()\n",
    "        total_test_loss = 0\n",
    "        total_test_step = 0\n",
    "\n",
    "    #model.eval()\n",
    "        with torch.no_grad():\n",
    "        #test_net.eval()\n",
    "            for data in tqdm(validloader):\n",
    "            #test_net.eval()\n",
    "                imgs, labels = data\n",
    "                imgs = imgs.to(device)\n",
    "            #imgs = imgs.view(-1,1,28,28)                              \n",
    "                imgs = imgs.view(-1,3,128,128)\n",
    "\n",
    "                labels = labels.to(device)\n",
    "                if i<change_k:\n",
    "                    k=1\n",
    "                    model.GetK(k)\n",
    "                    output_s = model(imgs)\n",
    "                else:\n",
    "                    layers_out2 = Get_layers_OutNums(imgs)\n",
    "            \n",
    "                    k = returnk(layers_out2)\n",
    "                    model.GetK(k)\n",
    "                    output_s = model(imgs)\n",
    "\n",
    "                loss = loss_fn(output_s,labels)\n",
    "                total_test_loss = total_test_loss + loss.item()\n",
    "                total_test_step = total_test_step + 1\n",
    "            #if total_test_step%40 == 0:\n",
    "            #   print(\"训练次数{}，loss{}\".format(total_test_step,loss.item()))\n",
    "                accuracy = (output_s.argmax(1)==labels).sum()\n",
    "                total_accuracy += accuracy \n",
    "            test_accurary = total_accuracy/len(val_index)\n",
    "            print(\"在测试集上的正确率：{}\".format(test_accurary))\n",
    "            #print(\"在测试集上的loss：{}\".format(total_test_loss)) \n",
    "        # 将每次测试结果实时写入acc.txt文件中\n",
    "            print('Saving model......')\n",
    "            torch.save(model.state_dict(), f'../skipresnet18/epoch_kfold/skipresnet18_10{i + 1}.pth')\n",
    "            writer.add_scalar(\"test_loss\", total_test_loss, total_test_step) \n",
    "            total_test_accuracy_list.append(test_accurary)\n",
    "            total_test_loss_list.append(total_test_loss)\n",
    "#     time_end=time.time()\n",
    "#     print('totally cost',time_end-time_start)\n",
    "            if test_accurary > best_acc:\n",
    "                f3 = open(\"../skipresnet18/acc(5fold).txt\", \"w\")\n",
    "                f3.write(f\"训练轮次为{i + 1}时,准确率最高!准确率为{test_accurary}\")\n",
    "                f3.close()\n",
    "                best_acc = test_accurary\n",
    "\n",
    "        val_accuracies.append(best_acc)\n",
    "    print(\"训练结束。。。\")\n",
    "\n",
    "average_val_accuracy = sum(val_accuracies) / len(val_accuracies)\n",
    "\n",
    "print(f\"Average Validation Accuracy: {average_val_accuracy:.4f}\")\n",
    "\n",
    "\n",
    "\n",
    "\n",
    "for i in range(len(total_test_accuracy_list)):\n",
    "    with open('../skipresnet18/skipresnet18_acc(5fold).txt', 'a') as f:\n",
    "        f.write('%d %.5f %.5f %.5f %.5f\\n' % (i+1,total_train_accuracy_list[i],total_train_loss_list[i],total_test_accuracy_list[i],total_test_loss_list[i]))\n",
    "#     with open('skip18_train_accura/te_records_k.txt', 'a') as f:\n",
    "#         f.write('%d %.3f\\n' % (i+1,total_train_accuracy_list[i]))\n",
    "torch.save(model.state_dict(),\"../skipresnet18/skipresnet18(5kfold).pkl\")\n",
    "\n",
    "\n",
    "        \n"
   ]
  },
  {
   "cell_type": "code",
   "execution_count": 59,
   "metadata": {},
   "outputs": [
    {
     "name": "stdout",
     "output_type": "stream",
     "text": [
      "Average Validation Accuracy: 0.9705\n"
     ]
    }
   ],
   "source": [
    "print(f\"Average Validation Accuracy: {average_val_accuracy:.4f}\")"
   ]
  },
  {
   "cell_type": "code",
   "execution_count": 4,
   "metadata": {},
   "outputs": [
    {
     "name": "stdout",
     "output_type": "stream",
     "text": [
      "seed is 121\n",
      "测试集长度：548\n",
      "cuda\n"
     ]
    },
    {
     "name": "stderr",
     "output_type": "stream",
     "text": [
      "100%|██████████| 5/5 [00:09<00:00,  1.90s/it]\n"
     ]
    },
    {
     "name": "stdout",
     "output_type": "stream",
     "text": [
      "score_array: (548, 12)\n",
      "label_onehot: (548, 12)\n",
      "(549,) (549,) 0.7622647901631819\n",
      "(549,) (549,) 0.9967675013267719\n",
      "(549,) (549,) 0.9557742493520723\n",
      "(549,) (549,) 0.9755033365837791\n",
      "(549,) (549,) 0.9121512195750587\n",
      "(549,) (549,) 0.9982250910705668\n",
      "(549,) (549,) 0.9484122547407512\n",
      "(549,) (549,) 1.0000000000000002\n",
      "(549,) (549,) 0.9970361910923037\n",
      "(549,) (549,) 0.9949245541838132\n",
      "(549,) (549,) 0.9866661205070791\n",
      "(549,) (549,) 0.9852458547757746\n",
      "Average precision score, micro-averaged over all classes: 0.9750\n",
      "Accuracy of Black-grass : 66.667 %\n",
      "Accuracy of Charlock : 97.778 %\n",
      "Accuracy of Cleavers : 93.939 %\n",
      "Accuracy of Common Chickweed : 97.183 %\n",
      "Accuracy of Common wheat : 96.000 %\n",
      "Accuracy of Fat Hen : 100.000 %\n",
      "Accuracy of Loose Silky-bent : 92.105 %\n",
      "Accuracy of Maize : 100.000 %\n",
      "Accuracy of Scentless Mayweed : 100.000 %\n",
      "Accuracy of Shepherd Purse : 96.296 %\n",
      "Accuracy of Small-flowered Cranesbill : 96.491 %\n",
      "Accuracy of Sugar beet : 95.652 %\n",
      "[[20  0  0  0  2  0  8  0  0  0  0  0]\n",
      " [ 0 44  0  0  0  0  0  0  0  1  0  0]\n",
      " [ 0  1 31  1  0  0  0  0  0  0  0  0]\n",
      " [ 1  0  0 69  0  0  0  0  1  0  0  0]\n",
      " [ 1  0  0  0 24  0  0  0  0  0  0  0]\n",
      " [ 0  0  0  0  0 53  0  0  0  0  0  0]\n",
      " [ 6  0  0  0  0  0 70  0  0  0  0  0]\n",
      " [ 0  0  0  0  0  0  0 25  0  0  0  0]\n",
      " [ 0  0  0  0  0  0  0  0 60  0  0  0]\n",
      " [ 0  0  0  0  0  0  0  0  1 26  0  0]\n",
      " [ 0  0  1  0  0  0  1  0  0  0 55  0]\n",
      " [ 0  0  0  0  0  1  0  1  0  0  0 44]]\n"
     ]
    },
    {
     "data": {
      "text/plain": [
       "<Figure size 640x480 with 0 Axes>"
      ]
     },
     "metadata": {},
     "output_type": "display_data"
    },
    {
     "data": {
      "image/png": "[encoded data removed]",
      "text/plain": [
       "<Figure size 640x480 with 1 Axes>"
      ]
     },
     "metadata": {},
     "output_type": "display_data"
    },
    {
     "data": {
      "image/png": "[encoded data removed]",
      "text/plain": [
       "<Figure size 1200x1200 with 2 Axes>"
      ]
     },
     "metadata": {},
     "output_type": "display_data"
    }
   ],
   "source": [
    "# 使用cifar10数据集，跳跃网络\n",
    "\n",
    "from numpy import log2\n",
    "import torch\n",
    "import torch.nn.functional as F\n",
    "from torch.nn.modules import flatten\n",
    "from torch.nn.modules.flatten import Flatten\n",
    "from torch.nn.modules.pooling import MaxPool2d\n",
    "import torchvision\n",
    "from torch.utils.data import DataLoader, dataloader\n",
    "import torch.nn as nn\n",
    "from torch.utils.tensorboard import SummaryWriter\n",
    "import time\n",
    "import numpy as np\n",
    "from torchvision import transforms\n",
    "from torchvision.datasets import ImageFolder\n",
    "from matplotlib import pyplot as plt\n",
    "from sklearn.metrics import confusion_matrix\n",
    "from tqdm import tqdm\n",
    "import os\n",
    "import random\n",
    "from sklearn.metrics import roc_curve, auc, f1_score,precision_recall_curve,average_precision_score\n",
    "# import seaborn as sns\n",
    "# from resnet_skip import ResNet_Skip\n",
    "\n",
    "# torch.manual_seed(1)\n",
    "#transform_train = transforms.Compose([\n",
    " #   transforms.Resize(size=(128,128)),\n",
    "    #transforms.RandomCrop(32, padding=4),  # 先四周填充0，在吧图像随机裁剪成32*32\n",
    "    #transforms.RandomHorizontalFlip(),  # 图像一半的概率翻转，一半的概率不翻转\n",
    "    \n",
    "#    transforms.ToTensor(),\n",
    "#    transforms.Normalize((0.485, 0.456, 0.406), (0.229, 0.224, 0.225)),  # R,G,B每层的归一化用到的均值和方差\n",
    "#])\n",
    "\n",
    "transform_test = transforms.Compose([\n",
    "    transforms.Resize(size=(128,128)),\n",
    "    transforms.ToTensor(),\n",
    "    transforms.Normalize((0.485, 0.456, 0.406), (0.229, 0.224, 0.225)),\n",
    "])\n",
    "\n",
    "# 训练数据集\n",
    "#trainset = ImageFolder(root='../input/corn/train', transform=transform_train)  \n",
    " # 生成一个个batch进行批训练，组成batch的时候顺序打乱取，\n",
    "#trainloader = torch.utils.data.DataLoader(trainset, batch_size=128, shuffle=True,num_workers=0) \n",
    "\n",
    "# 测试训练集\n",
    "testset = ImageFolder(root='../input/newdata3/test/', transform=transform_test )\n",
    "testloader = torch.utils.data.DataLoader(testset, batch_size=128, shuffle=True, num_workers=0)\n",
    "\n",
    "#train_dataset = torchvision.datasets.CIFAR10(root=\"/home/featurize/work/data\",train=True,transform=transform_train,download=True)\n",
    "#test_dataset = torchvision.datasets.CIFAR10(root=\"/home/featurize/work/data\",train=False,transform=transform_test,download=True)\n",
    "seed_n = 121\n",
    "print('seed is ' + str(seed_n))\n",
    "g = torch.Generator()\n",
    "g.manual_seed(seed_n)\n",
    "random.seed(seed_n)\n",
    "np.random.seed(seed_n)\n",
    "torch.manual_seed(seed_n)\n",
    "torch.cuda.manual_seed(seed_n)\n",
    "torch.cuda.manual_seed_all(seed_n)\n",
    "            # torch.backends.cudnn.deterministic=True\n",
    "            # torch.backends.cudnn.benchmark = False\n",
    "            # torch.backends.cudnn.enabled = False\n",
    "            # torch.use_deterministic_algorithms(True)\n",
    "            # os.environ['CUBLAS_WORKSPACE_CONFIG'] = ':16:8'\n",
    "os.environ['PYTHONHASHSEED'] = str(seed_n)  # 为了禁止hash随机化，使得实验可复现。\n",
    "\n",
    "\n",
    "#数据集长度\n",
    "#train_data_size = len(trainset)\n",
    "test_data_size = len(testset)\n",
    "#print(\"训练集长度：{}\".format(train_data_size))\n",
    "print(\"测试集长度：{}\".format(test_data_size))\n",
    "\n",
    "\n",
    "\n",
    "device = torch.device(\"cuda\" if torch.cuda.is_available() else \"cpu\")\n",
    "print(device)\n",
    "\n",
    "#创建网络模型\n",
    "# test_net = skip_net_mnist()\n",
    "# test_net = SkipNetC2()\n",
    "test_net = skipresnet18_2()\n",
    "# if torch.cuda.device_count() > 1:\n",
    "#   print(\"Let's use\", torch.cuda.device_count(), \"GPUs!\")\n",
    "#   test_net = nn.DataParallel(test_net)\n",
    "\n",
    "# ../input/skipnetmodel/skip_net_CIFAR10_164 (3)\n",
    "#test_net.load_state_dict(torch.load(\"/home/featurize/work/(1)—3k_nopre_mish_Skipnet18_0_50_128_0.01.pkl\"))\n",
    "test_net.load_state_dict(torch.load(\"../skipresnet18/skipresnet18(5kfold).pkl\"))\n",
    "#test_net.load_state_dict(torch.load(\"../skipresnet18/skipresnet18_2_accuracy_none.pkl\"))\n",
    "\n",
    "\n",
    "test_net.to(device)\n",
    "#创建损失函数\n",
    "loss_fn = torch.nn.CrossEntropyLoss()\n",
    "loss_fn.to(device)\n",
    "#创建优化器\n",
    "learning_rata = 0.001\n",
    "#learning_rata = 0.01#或者使用1e-2代替0.01\n",
    "optimizer = torch.optim.SGD(test_net.parameters(),lr=learning_rata,momentum=0.9, weight_decay=5e-4)\n",
    "num_classes = 12\n",
    "# 存储预测得分\n",
    "score_list = []\n",
    "# 存储真实标签\n",
    "label_list = []\n",
    "\n",
    "\n",
    "def GetParametaer(net):\n",
    "    # Get parameters of the net\n",
    "    list = []\n",
    "    for __, parameter in net.named_parameters():\n",
    "        list.append(parameter)\n",
    "    \n",
    "    return list\n",
    "  \n",
    "def GetNum(NumOfLayers,x):\n",
    "\n",
    "    test_net.GetK(NumOfLayers)\n",
    "    x = test_net(x)\n",
    "    return x\n",
    "#bitch_size    \n",
    "#可以得到每一层的输出\n",
    "def Get_layers_OutNums(x):\n",
    "    list_3 = []\n",
    "    for i in range(1,10):\n",
    "        temp = x\n",
    "        temp = GetNum(i,temp)\n",
    "        temp = F.softmax(temp,dim=1)\n",
    "        list_3.append(temp)\n",
    "    return list_3\n",
    "\n",
    "\n",
    "\n",
    "\n",
    "def LossOfEveryLayers(x, y,LossFunc):\n",
    "    #Get the loss ofc every linaer layer\n",
    "    loss_of_layer = []\n",
    "    for i in range(9):\n",
    "        loss_of_layer.append(LossFunc(x[i],y))\n",
    "\n",
    "\n",
    "    return loss_of_layer.index(min(loss_of_layer))+1\n",
    "\n",
    "    \n",
    "\n",
    "\n",
    "def OutPut(layers_out):\n",
    "    layers_out_ = torch.stack(layers_out,0).to(device)\n",
    "\n",
    "    temp2 = torch.max(layers_out_,2)[0].argmax(0)\n",
    "\n",
    "    temp3 = torch.arange(0,len(temp2))\n",
    "    \n",
    "    output_  = layers_out_[temp2,temp3].to(device)\n",
    "    \n",
    "    return output_\n",
    "\n",
    "def returnk(layers_out):\n",
    "    layers_out_ = torch.stack(layers_out,0).to(device)\n",
    "    temp = torch.max(layers_out_,2)[0].argmax(0)\n",
    "    temp2 = temp.tolist()\n",
    "    k = max(temp2,key=temp2.count)+1\n",
    "    return k\n",
    "\n",
    "\n",
    "plt.figure()\n",
    "\n",
    "#训练的次数\n",
    "total_train_step = 0\n",
    "#测试次数\n",
    "total_test_step = 0\n",
    "total_train_accuracy = 0\n",
    "# Decey_x = 0.5\n",
    "total_train_accuracy_list = []\n",
    "total_test_accuracy_list = []\n",
    "change_k = 0\n",
    "\n",
    "\n",
    "total_accuracy = 0\n",
    "    #测试步骤\n",
    "    # test_net.eval()\n",
    "total_test_loss = 0\n",
    "total_test_step = 0\n",
    "# 测试模型\n",
    "correct = [0] * 12\n",
    "total = [0] * 12\n",
    "y_pred = []\n",
    "y_true = []\n",
    "with torch.no_grad():\n",
    "    for data in tqdm(testloader):\n",
    "        images, labels = data\n",
    "        images = images.to(device)\n",
    "        # images = images.view(-1,3,32,32)\n",
    "        labels = labels.to(device)\n",
    "        layers_out2 = Get_layers_OutNums(images)\n",
    "            \n",
    "        k = returnk(layers_out2)\n",
    "        test_net.GetK(k)\n",
    "        outputs = test_net(images)\n",
    "        score_temp = outputs\n",
    "        score_list.extend(score_temp.detach().cpu().numpy())\n",
    "        label_list.extend(labels.cpu().numpy())\n",
    "\n",
    "\n",
    "        _, predicted = torch.max(outputs.data, 1)\n",
    "        y_pred.extend(predicted.tolist())\n",
    "        y_true.extend(labels.tolist())\n",
    "        for i in range(len(labels)):\n",
    "            label = labels[i]\n",
    "            total[label] += 1\n",
    "            if predicted[i] == label:\n",
    "                correct[label] += 1\n",
    "    score_array = np.array(score_list)\n",
    "    # 将label转换为onehot形式\n",
    "    label_tensor = torch.tensor(label_list)\n",
    "    label_tensor = label_tensor.reshape((label_tensor.shape[0],1))\n",
    "    label_onehot = torch.zeros(label_tensor.shape[0], num_classes)\n",
    "    label_onehot.scatter_(dim=1, index=label_tensor, value=1)\n",
    "    label_onehot = np.array(label_onehot)\n",
    "    print(\"score_array:\", score_array.shape)\n",
    "    print(\"label_onehot:\", label_onehot.shape)\n",
    "\n",
    "    #调用sklearn库，计算每个类别对应的precision和recall\n",
    "    precision_dict = dict()\n",
    "    recall_dict = dict()\n",
    "    average_precision_dict = dict()\n",
    "    for i in range(num_classes):\n",
    "        precision_dict[i], recall_dict[i], _ = precision_recall_curve(label_onehot[:, i], score_array[:, i])\n",
    "        average_precision_dict[i] = average_precision_score(label_onehot[:, i], score_array[:, i])\n",
    "        print(precision_dict[i].shape, recall_dict[i].shape, average_precision_dict[i])\n",
    "\n",
    "    # micro\n",
    "    precision_dict[\"micro\"], recall_dict[\"micro\"], _ = precision_recall_curve(label_onehot.ravel(),\n",
    "                                                                              score_array.ravel())\n",
    "    average_precision_dict[\"micro\"] = average_precision_score(label_onehot, score_array, average=\"micro\")\n",
    "    print('Average precision score, micro-averaged over all classes: {0:0.4f}'.format(average_precision_dict[\"micro\"]))\n",
    " \n",
    "    # 绘制所有类别平均的pr曲线\n",
    "    plt.figure()\n",
    "    plt.step(recall_dict['micro'], precision_dict['micro'], where='post')\n",
    " \n",
    "    plt.xlabel('Recall',fontsize='xx-large')\n",
    "    plt.ylabel('Precision',fontsize='xx-large')\n",
    "    plt.ylim([0.0, 1.05])\n",
    "    plt.xlim([0.0, 1.0])\n",
    "    plt.title(\n",
    "        'AP={0:0.4f}'\n",
    "        .format(average_precision_dict[\"micro\"]),fontsize='xx-large')\n",
    "    plt.savefig(\"../skipresnet18/set12_pr_curve1.jpg\")\n",
    "\n",
    "# 输出每个类别的准确率\n",
    "for i in range(12):\n",
    "    print('Accuracy of %5s : %.3f %%' % (\n",
    "        testset.classes[i], 100 * correct[i] / total[i]))\n",
    "\n",
    "\n",
    "# 将预测结果转换为标签\n",
    "y_pred_labels = np.array(y_pred)\n",
    "\n",
    "# 计算混淆矩阵\n",
    "cm = confusion_matrix(y_true, y_pred_labels)\n",
    "\n",
    "print(cm)\n",
    "\n",
    "\n",
    "# 绘制混淆矩阵\n",
    "# plt.figure(figsize=(10, 8))\n",
    "# sns.set(font_scale=1.4)\n",
    "# sns.heatmap(cm, annot=True, fmt='g', cmap='Blues')\n",
    "# plt.xlabel('Predicted Labels')\n",
    "# plt.ylabel('True Labels')\n",
    "# plt.show()\n",
    "# 绘制混淆矩阵\n",
    "plt.figure(figsize=(12, 12))\n",
    "plt.imshow(cm, interpolation='nearest', cmap=plt.cm.Blues)\n",
    "# 添加数值\n",
    "for i in range(12):\n",
    "    for j in range(12):\n",
    "        plt.annotate(str(cm[i][j]), xy=(j, i), horizontalalignment='center', verticalalignment='center')\n",
    "\n",
    "plt.colorbar()\n",
    "tick_marks = np.arange(12)\n",
    "plt.xticks(tick_marks, ['1', '2', '3', '4','5','6', '7', '8', '9','10', '11','12'], rotation=45)\n",
    "plt.yticks(tick_marks, ['1', '2', '3', '4','5','6', '7', '8', '9','10', '11','12'])\n",
    "plt.xlabel('Predicted Labels')\n",
    "plt.ylabel('True Labels')\n",
    "# plt.show()\n",
    "plt.savefig('../skipresnet18/confusion_matrixA_5kfold1.png')\n",
    "        \n"
   ]
  },
  {
   "cell_type": "code",
   "execution_count": 5,
   "metadata": {},
   "outputs": [
    {
     "name": "stdout",
     "output_type": "stream",
     "text": [
      "              precision    recall  f1-score   support\n",
      "\n",
      "           1    0.71429   0.66667   0.68966        30\n",
      "           2    0.97778   0.97778   0.97778        45\n",
      "           3    0.96875   0.93939   0.95385        33\n",
      "           4    0.98571   0.97183   0.97872        71\n",
      "           5    0.92308   0.96000   0.94118        25\n",
      "           6    0.98148   1.00000   0.99065        53\n",
      "           7    0.88608   0.92105   0.90323        76\n",
      "           8    0.96154   1.00000   0.98039        25\n",
      "           9    0.96774   1.00000   0.98361        60\n",
      "          10    0.96296   0.96296   0.96296        27\n",
      "          11    1.00000   0.96491   0.98214        57\n",
      "          12    1.00000   0.95652   0.97778        46\n",
      "\n",
      "    accuracy                        0.95073       548\n",
      "   macro avg    0.94412   0.94343   0.94350       548\n",
      "weighted avg    0.95059   0.95073   0.95040       548\n",
      "\n"
     ]
    }
   ],
   "source": [
    "from sklearn.metrics import classification_report\n",
    "\n",
    "# 计算准确率、召回率、精确率和 F1 值\n",
    "target_names = ['1', '2', '3', '4','5','6', '7', '8', '9','10', '11','12']\n",
    "print(classification_report(y_true, y_pred_labels, target_names=target_names,digits=5))"
   ]
  },
  {
   "cell_type": "code",
   "execution_count": 3,
   "metadata": {},
   "outputs": [
    {
     "name": "stderr",
     "output_type": "stream",
     "text": [
      "  0%|          | 0/53 [00:00<?, ?it/s]"
     ]
    },
    {
     "name": "stdout",
     "output_type": "stream",
     "text": [
      "训练集长度：3330\n",
      "测试集长度：1108\n",
      "cuda\n",
      "加载模型...\n",
      "加载完毕!\n",
      "第31轮训练开始\n"
     ]
    },
    {
     "name": "stderr",
     "output_type": "stream",
     "text": [
      "100%|██████████| 53/53 [02:34<00:00,  2.91s/it]\n",
      "  0%|          | 0/18 [00:00<?, ?it/s]"
     ]
    },
    {
     "name": "stdout",
     "output_type": "stream",
     "text": [
      "在训练集上的loss：101.29786348342896\n",
      "在训练集上的正确率：0.995195209980011\n",
      "在训练集上的正确率（不用k）：0.9168168306350708\n",
      "在训练集上的正确率（使用计数k）：0.995195209980011\n",
      "开始测试。。。\n"
     ]
    },
    {
     "name": "stderr",
     "output_type": "stream",
     "text": [
      "100%|██████████| 18/18 [00:15<00:00,  1.17it/s]\n",
      "  0%|          | 0/53 [00:00<?, ?it/s]"
     ]
    },
    {
     "name": "stdout",
     "output_type": "stream",
     "text": [
      "在测试集上的正确率：0.8763538002967834\n",
      "在测试集上的loss：8.052829250693321\n",
      "Saving model......\n",
      "第32轮训练开始\n"
     ]
    },
    {
     "name": "stderr",
     "output_type": "stream",
     "text": [
      "100%|██████████| 53/53 [02:34<00:00,  2.91s/it]\n",
      "  0%|          | 0/18 [00:00<?, ?it/s]"
     ]
    },
    {
     "name": "stdout",
     "output_type": "stream",
     "text": [
      "在训练集上的loss：96.89232742786407\n",
      "在训练集上的正确率：0.9957958459854126\n",
      "在训练集上的正确率（不用k）：0.9189189672470093\n",
      "在训练集上的正确率（使用计数k）：0.996096134185791\n",
      "开始测试。。。\n"
     ]
    },
    {
     "name": "stderr",
     "output_type": "stream",
     "text": [
      "100%|██████████| 18/18 [00:15<00:00,  1.19it/s]\n",
      "  0%|          | 0/53 [00:00<?, ?it/s]"
     ]
    },
    {
     "name": "stdout",
     "output_type": "stream",
     "text": [
      "在测试集上的正确率：0.8862816095352173\n",
      "在测试集上的loss：8.25131967663765\n",
      "Saving model......\n",
      "第33轮训练开始\n"
     ]
    },
    {
     "name": "stderr",
     "output_type": "stream",
     "text": [
      "100%|██████████| 53/53 [02:22<00:00,  2.68s/it]\n",
      "  0%|          | 0/18 [00:00<?, ?it/s]"
     ]
    },
    {
     "name": "stdout",
     "output_type": "stream",
     "text": [
      "在训练集上的loss：94.59537672996521\n",
      "在训练集上的正确率：0.9978979229927063\n",
      "在训练集上的正确率（不用k）：0.9291291236877441\n",
      "在训练集上的正确率（使用计数k）：0.9972973465919495\n",
      "开始测试。。。\n"
     ]
    },
    {
     "name": "stderr",
     "output_type": "stream",
     "text": [
      "100%|██████████| 18/18 [00:10<00:00,  1.78it/s]\n",
      "  0%|          | 0/53 [00:00<?, ?it/s]"
     ]
    },
    {
     "name": "stdout",
     "output_type": "stream",
     "text": [
      "在测试集上的正确率：0.8754512667655945\n",
      "在测试集上的loss：7.792100682854652\n",
      "Saving model......\n",
      "第34轮训练开始\n"
     ]
    },
    {
     "name": "stderr",
     "output_type": "stream",
     "text": [
      "100%|██████████| 53/53 [02:29<00:00,  2.82s/it]\n",
      "  0%|          | 0/18 [00:00<?, ?it/s]"
     ]
    },
    {
     "name": "stdout",
     "output_type": "stream",
     "text": [
      "在训练集上的loss：91.81702208518982\n",
      "在训练集上的正确率：0.9984984993934631\n",
      "在训练集上的正确率（不用k）：0.9198198318481445\n",
      "在训练集上的正确率（使用计数k）：0.9984984993934631\n",
      "开始测试。。。\n"
     ]
    },
    {
     "name": "stderr",
     "output_type": "stream",
     "text": [
      "100%|██████████| 18/18 [00:15<00:00,  1.13it/s]\n",
      "  0%|          | 0/53 [00:00<?, ?it/s]"
     ]
    },
    {
     "name": "stdout",
     "output_type": "stream",
     "text": [
      "在测试集上的正确率：0.8817689418792725\n",
      "在测试集上的loss：7.874986827373505\n",
      "Saving model......\n",
      "第35轮训练开始\n"
     ]
    },
    {
     "name": "stderr",
     "output_type": "stream",
     "text": [
      "100%|██████████| 53/53 [02:36<00:00,  2.95s/it]\n",
      "  0%|          | 0/18 [00:00<?, ?it/s]"
     ]
    },
    {
     "name": "stdout",
     "output_type": "stream",
     "text": [
      "在训练集上的loss：98.24675333499908\n",
      "在训练集上的正确率：0.9981982111930847\n",
      "在训练集上的正确率（不用k）：0.9276276230812073\n",
      "在训练集上的正确率（使用计数k）：0.9978979229927063\n",
      "开始测试。。。\n"
     ]
    },
    {
     "name": "stderr",
     "output_type": "stream",
     "text": [
      "100%|██████████| 18/18 [00:14<00:00,  1.27it/s]\n",
      "  0%|          | 0/53 [00:00<?, ?it/s]"
     ]
    },
    {
     "name": "stdout",
     "output_type": "stream",
     "text": [
      "在测试集上的正确率：0.8781588673591614\n",
      "在测试集上的loss：8.361896701157093\n",
      "Saving model......\n",
      "第36轮训练开始\n"
     ]
    },
    {
     "name": "stderr",
     "output_type": "stream",
     "text": [
      "100%|██████████| 53/53 [02:34<00:00,  2.91s/it]\n",
      "  0%|          | 0/18 [00:00<?, ?it/s]"
     ]
    },
    {
     "name": "stdout",
     "output_type": "stream",
     "text": [
      "在训练集上的loss：94.19551396369934\n",
      "在训练集上的正确率：0.9945946335792542\n",
      "在训练集上的正确率（不用k）：0.908108115196228\n",
      "在训练集上的正确率（使用计数k）：0.9945946335792542\n",
      "开始测试。。。\n"
     ]
    },
    {
     "name": "stderr",
     "output_type": "stream",
     "text": [
      "100%|██████████| 18/18 [00:15<00:00,  1.20it/s]\n",
      "  0%|          | 0/53 [00:00<?, ?it/s]"
     ]
    },
    {
     "name": "stdout",
     "output_type": "stream",
     "text": [
      "在测试集上的正确率：0.8682310581207275\n",
      "在测试集上的loss：8.613212168216705\n",
      "Saving model......\n",
      "第37轮训练开始\n"
     ]
    },
    {
     "name": "stderr",
     "output_type": "stream",
     "text": [
      "100%|██████████| 53/53 [02:34<00:00,  2.92s/it]\n",
      "  0%|          | 0/18 [00:00<?, ?it/s]"
     ]
    },
    {
     "name": "stdout",
     "output_type": "stream",
     "text": [
      "在训练集上的loss：92.28509902954102\n",
      "在训练集上的正确率：0.9975976347923279\n",
      "在训练集上的正确率（不用k）：0.9165165424346924\n",
      "在训练集上的正确率（使用计数k）：0.9975976347923279\n",
      "开始测试。。。\n"
     ]
    },
    {
     "name": "stderr",
     "output_type": "stream",
     "text": [
      "100%|██████████| 18/18 [00:14<00:00,  1.27it/s]\n",
      "  0%|          | 0/53 [00:00<?, ?it/s]"
     ]
    },
    {
     "name": "stdout",
     "output_type": "stream",
     "text": [
      "在测试集上的正确率：0.8871840834617615\n",
      "在测试集上的loss：7.474914953112602\n",
      "Saving model......\n",
      "第38轮训练开始\n"
     ]
    },
    {
     "name": "stderr",
     "output_type": "stream",
     "text": [
      "100%|██████████| 53/53 [02:34<00:00,  2.91s/it]\n",
      "  0%|          | 0/18 [00:00<?, ?it/s]"
     ]
    },
    {
     "name": "stdout",
     "output_type": "stream",
     "text": [
      "在训练集上的loss：91.05621433258057\n",
      "在训练集上的正确率：0.9990991353988647\n",
      "在训练集上的正确率（不用k）：0.9261261224746704\n",
      "在训练集上的正确率（使用计数k）：0.9990991353988647\n",
      "开始测试。。。\n"
     ]
    },
    {
     "name": "stderr",
     "output_type": "stream",
     "text": [
      "100%|██████████| 18/18 [00:10<00:00,  1.69it/s]\n",
      "  0%|          | 0/53 [00:00<?, ?it/s]"
     ]
    },
    {
     "name": "stdout",
     "output_type": "stream",
     "text": [
      "在测试集上的正确率：0.8808664083480835\n",
      "在测试集上的loss：8.085372805595398\n",
      "Saving model......\n",
      "第39轮训练开始\n"
     ]
    },
    {
     "name": "stderr",
     "output_type": "stream",
     "text": [
      "100%|██████████| 53/53 [02:35<00:00,  2.93s/it]\n",
      "  0%|          | 0/18 [00:00<?, ?it/s]"
     ]
    },
    {
     "name": "stdout",
     "output_type": "stream",
     "text": [
      "在训练集上的loss：94.15862488746643\n",
      "在训练集上的正确率：0.9996997117996216\n",
      "在训练集上的正确率（不用k）：0.9294294714927673\n",
      "在训练集上的正确率（使用计数k）：0.9993994235992432\n",
      "开始测试。。。\n"
     ]
    },
    {
     "name": "stderr",
     "output_type": "stream",
     "text": [
      "100%|██████████| 18/18 [00:15<00:00,  1.19it/s]\n",
      "  0%|          | 0/53 [00:00<?, ?it/s]"
     ]
    },
    {
     "name": "stdout",
     "output_type": "stream",
     "text": [
      "在测试集上的正确率：0.8763538002967834\n",
      "在测试集上的loss：7.984812393784523\n",
      "Saving model......\n",
      "第40轮训练开始\n"
     ]
    },
    {
     "name": "stderr",
     "output_type": "stream",
     "text": [
      "100%|██████████| 53/53 [02:35<00:00,  2.94s/it]\n",
      "  0%|          | 0/18 [00:00<?, ?it/s]"
     ]
    },
    {
     "name": "stdout",
     "output_type": "stream",
     "text": [
      "在训练集上的loss：91.30495607852936\n",
      "在训练集上的正确率：0.9975976347923279\n",
      "在训练集上的正确率（不用k）：0.9225225448608398\n",
      "在训练集上的正确率（使用计数k）：0.9975976347923279\n",
      "开始测试。。。\n"
     ]
    },
    {
     "name": "stderr",
     "output_type": "stream",
     "text": [
      "100%|██████████| 18/18 [00:14<00:00,  1.20it/s]\n",
      "  0%|          | 0/53 [00:00<?, ?it/s]"
     ]
    },
    {
     "name": "stdout",
     "output_type": "stream",
     "text": [
      "在测试集上的正确率：0.8709385991096497\n",
      "在测试集上的loss：10.211335748434067\n",
      "Saving model......\n",
      "第41轮训练开始\n"
     ]
    },
    {
     "name": "stderr",
     "output_type": "stream",
     "text": [
      "  4%|▍         | 2/53 [00:09<03:49,  4.50s/it]\n"
     ]
    },
    {
     "ename": "KeyboardInterrupt",
     "evalue": "",
     "output_type": "error",
     "traceback": [
      "\u001b[1;31m---------------------------------------------------------------------------\u001b[0m",
      "\u001b[1;31mKeyboardInterrupt\u001b[0m                         Traceback (most recent call last)",
      "Cell \u001b[1;32mIn[3], line 243\u001b[0m\n\u001b[0;32m    239\u001b[0m         loss \u001b[39m=\u001b[39m loss1\u001b[39m+\u001b[39mloss2\u001b[39m+\u001b[39mloss3\n\u001b[0;32m    240\u001b[0m \u001b[39m#         loss = loss2+loss3\u001b[39;00m\n\u001b[1;32m--> 243\u001b[0m         loss\u001b[39m.\u001b[39;49mbackward()\n\u001b[0;32m    244\u001b[0m         optimizer\u001b[39m.\u001b[39mstep()\n\u001b[0;32m    245\u001b[0m         \u001b[39m#scheduler.step(loss)\u001b[39;00m\n",
      "File \u001b[1;32md:\\Anaconda\\Anaconda3\\envs\\pytorch3_10\\lib\\site-packages\\torch\\_tensor.py:487\u001b[0m, in \u001b[0;36mTensor.backward\u001b[1;34m(self, gradient, retain_graph, create_graph, inputs)\u001b[0m\n\u001b[0;32m    477\u001b[0m \u001b[39mif\u001b[39;00m has_torch_function_unary(\u001b[39mself\u001b[39m):\n\u001b[0;32m    478\u001b[0m     \u001b[39mreturn\u001b[39;00m handle_torch_function(\n\u001b[0;32m    479\u001b[0m         Tensor\u001b[39m.\u001b[39mbackward,\n\u001b[0;32m    480\u001b[0m         (\u001b[39mself\u001b[39m,),\n\u001b[1;32m   (...)\u001b[0m\n\u001b[0;32m    485\u001b[0m         inputs\u001b[39m=\u001b[39minputs,\n\u001b[0;32m    486\u001b[0m     )\n\u001b[1;32m--> 487\u001b[0m torch\u001b[39m.\u001b[39;49mautograd\u001b[39m.\u001b[39;49mbackward(\n\u001b[0;32m    488\u001b[0m     \u001b[39mself\u001b[39;49m, gradient, retain_graph, create_graph, inputs\u001b[39m=\u001b[39;49minputs\n\u001b[0;32m    489\u001b[0m )\n",
      "File \u001b[1;32md:\\Anaconda\\Anaconda3\\envs\\pytorch3_10\\lib\\site-packages\\torch\\autograd\\__init__.py:197\u001b[0m, in \u001b[0;36mbackward\u001b[1;34m(tensors, grad_tensors, retain_graph, create_graph, grad_variables, inputs)\u001b[0m\n\u001b[0;32m    192\u001b[0m     retain_graph \u001b[39m=\u001b[39m create_graph\n\u001b[0;32m    194\u001b[0m \u001b[39m# The reason we repeat same the comment below is that\u001b[39;00m\n\u001b[0;32m    195\u001b[0m \u001b[39m# some Python versions print out the first line of a multi-line function\u001b[39;00m\n\u001b[0;32m    196\u001b[0m \u001b[39m# calls in the traceback and some print out the last line\u001b[39;00m\n\u001b[1;32m--> 197\u001b[0m Variable\u001b[39m.\u001b[39;49m_execution_engine\u001b[39m.\u001b[39;49mrun_backward(  \u001b[39m# Calls into the C++ engine to run the backward pass\u001b[39;49;00m\n\u001b[0;32m    198\u001b[0m     tensors, grad_tensors_, retain_graph, create_graph, inputs,\n\u001b[0;32m    199\u001b[0m     allow_unreachable\u001b[39m=\u001b[39;49m\u001b[39mTrue\u001b[39;49;00m, accumulate_grad\u001b[39m=\u001b[39;49m\u001b[39mTrue\u001b[39;49;00m)\n",
      "\u001b[1;31mKeyboardInterrupt\u001b[0m: "
     ]
    },
    {
     "data": {
      "text/plain": [
       "<Figure size 640x480 with 0 Axes>"
      ]
     },
     "metadata": {},
     "output_type": "display_data"
    }
   ],
   "source": [
    "\n",
    "from numpy import log2\n",
    "import torch\n",
    "import torch.nn.functional as F\n",
    "from torch.nn.modules import flatten\n",
    "from torch.nn.modules.flatten import Flatten\n",
    "from torch.nn.modules.pooling import MaxPool2d\n",
    "import torchvision\n",
    "from torch.utils.data import DataLoader, dataloader\n",
    "import torch.nn as nn\n",
    "from torch.utils.tensorboard import SummaryWriter\n",
    "import time\n",
    "import numpy as np\n",
    "from torchvision import transforms\n",
    "from matplotlib import pyplot as plt\n",
    "from tqdm import tqdm\n",
    "from torchvision.datasets import ImageFolder\n",
    "#import torch.optim.lr_scheduler as lr_scheduler\n",
    "import os\n",
    "os.environ[\"KMP_DUPLICATE_LIB_OK\"]=\"TRUE\"\n",
    "\n",
    "\n",
    "\n",
    "\n",
    "\n",
    "\n",
    "\n",
    "\n",
    "# from resnet_skip import ResNet_Skip\n",
    "\n",
    "# torch.manual_seed(1)\n",
    "\n",
    "# 图像预处理\n",
    "transform_train = transforms.Compose([\n",
    "    transforms.Resize(size=(128,128)),\n",
    "    #transforms.CenterCrop(128),\n",
    "    transforms.RandomHorizontalFlip(),  # 图像一半的概率翻转，一半的概率不翻转\n",
    "    #transforms.RandomVerticalFlip(),\n",
    "    #transforms.RandomRotation(15),\n",
    "    #transforms.ColorJitter(contrast=10),\n",
    "    transforms.ToTensor(),\n",
    "    transforms.Normalize((0.485, 0.456, 0.406), (0.229, 0.224, 0.225)),  # R,G,B每层的归一化用到的均值和方差\n",
    "])\n",
    "\n",
    "transform_valid = transforms.Compose([\n",
    "    transforms.Resize(size=(128,128)),\n",
    "    transforms.ToTensor(),\n",
    "    transforms.Normalize((0.485, 0.456, 0.406), (0.229, 0.224, 0.225)),\n",
    "])\n",
    "\n",
    "BATCH_SIZE = 64\n",
    "\n",
    "# 训练数据集\n",
    "trainset = ImageFolder(root='../input/newdata2/train', transform=transform_train)  \n",
    " # 生成一个个batch进行批训练，组成batch的时候顺序打乱取，\n",
    "trainloader = torch.utils.data.DataLoader(trainset, batch_size=BATCH_SIZE, shuffle=True,num_workers=0) \n",
    "\n",
    "# 测试训练集\n",
    "validset = ImageFolder(root='../input/newdata2/val/', transform=transform_valid )\n",
    "validloader = torch.utils.data.DataLoader(validset, batch_size=BATCH_SIZE, shuffle=True, num_workers=0)\n",
    "\n",
    "#train_dataset = torchvision.datasets.MNIST(root=\"/home/featurize/work/data\",train=True,transform=transform_train,download=True)\n",
    "#test_dataset = torchvision.datasets.MNIST(root=\"/home/featurize/work/data\",train=False,transform=transform_test,download=True)\n",
    "\n",
    "# 添加tensorboard画图可视化\n",
    "writer = SummaryWriter(\"../skipresnet18/logs_train_newdata2\")\n",
    "\n",
    "#数据集长度\n",
    "train_data_size = len(trainset)\n",
    "valid_data_size = len(validset)\n",
    "print(\"训练集长度：{}\".format(train_data_size))\n",
    "print(\"测试集长度：{}\".format(valid_data_size))\n",
    "\n",
    "\n",
    "\n",
    "device = torch.device(\"cuda\" if torch.cuda.is_available() else \"cpu\")\n",
    "print(device)\n",
    "\n",
    "#创建网络模型\n",
    "\n",
    "os.environ['CUDA_LAUNCH_BLOCKING'] = '1'\n",
    "model = skipresnet18_2().to(device)\n",
    "\n",
    "\n",
    "#创建损失函数（交叉熵损失函数）\n",
    "loss_fn = torch.nn.CrossEntropyLoss()\n",
    "loss_fn.to(device)\n",
    "#创建优化器\n",
    "#learning_rata = 0.001\n",
    "LR = 0.0001#或者使用1e-2代替0.01\n",
    "optimizer = torch.optim.SGD(model.parameters(),lr=LR, momentum=0.9, weight_decay=5e-4)\n",
    "# 定义学习率调度器\n",
    "#scheduler = lr_scheduler.ReduceLROnPlateau(optimizer, mode='min', factor=0.1, patience=10)\n",
    "\n",
    "# 获取网络参数\n",
    "def GetParametaer(net):\n",
    "    # Get parameters of the net\n",
    "    list = []\n",
    "    for __, parameter in net.named_parameters():\n",
    "        list.append(parameter)\n",
    "    \n",
    "    return list\n",
    "  \n",
    "def GetNum(NumOfLayers,x):\n",
    "\n",
    "    model.GetK(NumOfLayers)\n",
    "    x = model(x)\n",
    "    return x\n",
    "#bitch_size    \n",
    "# 从不同路径进入后可以得到每一层的输出\n",
    "def Get_layers_OutNums(x):\n",
    "    list_3 = []\n",
    "    for i in range(1,10):\n",
    "        temp = x\n",
    "        temp = GetNum(i,temp)\n",
    "        temp = F.softmax(temp,dim=1)\n",
    "        list_3.append(temp)\n",
    "    return list_3\n",
    "\n",
    "\n",
    "\n",
    "# 获得损失值最小的那条路径\n",
    "def LossOfEveryLayers(x, y,LossFunc):\n",
    "    #Get the loss ofc every linaer layer\n",
    "    loss_of_layer = []\n",
    "    for i in range(9):\n",
    "        # LossFunc：交叉熵，x是图片的预测输出，y是标签值\n",
    "        loss_of_layer.append(LossFunc(x[i],y))\n",
    "\n",
    "\n",
    "    return loss_of_layer.index(min(loss_of_layer))+1\n",
    "\n",
    "    \n",
    "\n",
    "\n",
    "def OutPut(layers_out):\n",
    "    layers_out_ = torch.stack(layers_out,0).to(device)\n",
    "\n",
    "    temp2 = torch.max(layers_out_,2)[0].argmax(0)\n",
    "\n",
    "    temp3 = torch.arange(0,len(temp2))\n",
    "    \n",
    "    output_  = layers_out_[temp2,temp3].to(device)\n",
    "    \n",
    "    return output_\n",
    "\n",
    "def returnk(layers_out):\n",
    "    # a=[[1,2,3],[11,22,33]](2*3)   b=[[4,5,6],[44,55,66]](2*3)\n",
    "    # dim=0,stack(a,b)--->(0....)=1  2  3\n",
    "    #                             11 22 33\n",
    "    #                     (1....)=4  5  6\n",
    "    #                             44 55 66\n",
    "    layers_out_ = torch.stack(layers_out,0).to(device)\n",
    "    temp = torch.max(layers_out_,2)[0].argmax(0)\n",
    "    temp2 = temp.tolist()\n",
    "    k = max(temp2,key=temp2.count)+1\n",
    "    return k\n",
    "\n",
    "\n",
    "plt.figure()\n",
    "\n",
    "#训练的次数\n",
    "total_train_step = 0\n",
    "#测试次数\n",
    "total_test_step = 0\n",
    "total_train_accuracy = 0\n",
    "# Decey_x = 0.5\n",
    "total_train_accuracy_list = []\n",
    "total_train_loss_list = []\n",
    "total_test_accuracy_list = []\n",
    "total_test_loss_list = []\n",
    "change_k = 0\n",
    "best_acc = 0\n",
    "print(\"加载模型...\")\n",
    "with open(\"../skipresnet18/newdata2_epoch/skipresnet18_30.pth\",'rb') as f:\n",
    "    model.load_state_dict(torch.load(f))\n",
    "print(\"加载完毕!\")\n",
    "\n",
    "for i in range(30, 50):\n",
    "    \n",
    "    print(\"第{}轮训练开始\".format(i+1))\n",
    "    total_train_loss = 0\n",
    "    total_accuracy1 = 0\n",
    "    total_accuracy2 = 0\n",
    "    total_accuracy3 = 0\n",
    "\n",
    "    model.train()\n",
    "    for data in tqdm(trainloader):\n",
    "\n",
    "        imgs, labels = data\n",
    "        imgs = imgs.to(device)\n",
    "        #imgs = imgs.view(-1,1,28,28)\n",
    "        imgs = imgs.view(-1,3,128,128)\n",
    "        # imgs = imgs.view(-1,3,32,32)                                  \n",
    "        labels = labels.to(device)\n",
    "#         layers_out = Get_layers_OutNums(imgs)\n",
    "        \n",
    "        if i<change_k:\n",
    "            k = 1\n",
    "            optimizer.zero_grad()\n",
    "            model.GetK(k)\n",
    "            output = model(imgs)\n",
    "            loss = loss_fn(output, labels)\n",
    "            loss.backward()\n",
    "            optimizer.step()\n",
    "            #scheduler.step(loss)\n",
    "            total_train_loss += loss.item()\n",
    "            total_train_step = total_train_step + 1\n",
    "            accuracy1 = (output.argmax(1)==labels).sum()\n",
    "            total_accuracy1 += accuracy1\n",
    "            \n",
    "        else:\n",
    "            layers_out = Get_layers_OutNums(imgs)\n",
    "            optimizer.zero_grad()\n",
    "    \n",
    "      \n",
    "            # 1.最小损失值路径选择算法\n",
    "            k_1 = LossOfEveryLayers(layers_out,labels,loss_fn)\n",
    "    #         print(\"训练\",k_1)\n",
    "            # 选择损失值最小的输入路径\n",
    "            model.GetK(k_1)\n",
    "    #         print(test_net.k)\n",
    "            outputs1 = model(imgs)\n",
    "            loss1 = loss_fn(outputs1,labels)\n",
    "\n",
    "\n",
    "           # 3.最优路径统计算法 \n",
    "            k3 = returnk(layers_out) \n",
    "    #         print(\"训练\",k3)\n",
    "            model.GetK(k3)\n",
    "            outputs3 = model(imgs)\n",
    "    #         print(test_net.k)\n",
    "            loss3 = loss_fn(outputs3,labels)                                                                                                                                                                                                                                      \n",
    "    #         loss = loss3\n",
    "\n",
    "             #2.个体最优路径选择算法\n",
    "            outputs2 = OutPut(layers_out)\n",
    "            loss2 = loss_fn(outputs2,labels)\n",
    "            \n",
    "            loss = loss1+loss2+loss3\n",
    "    #         loss = loss2+loss3\n",
    "\n",
    "            \n",
    "            loss.backward()\n",
    "            optimizer.step()\n",
    "            #scheduler.step(loss)\n",
    "\n",
    "            total_train_loss += loss.item()\n",
    "            total_train_step = total_train_step + 1\n",
    "    \n",
    "    #             print(\"训练次数:{}，loss3: {}\".format(total_train_step,loss3.item()))\n",
    "    #             print(\"训练次数:{}，loss2: {}，loss3: {}\".format(total_train_step,loss2.item(),loss3.item()))\n",
    "    #             print(\"训练次数:{}，loss1: {}，loss2: {}\".format(total_train_step,loss1.item(),loss2.item()))\n",
    "    \n",
    "            accuracy1 = (outputs1.argmax(1)==labels).sum()\n",
    "            accuracy2 = (outputs2.argmax(1)==labels).sum()\n",
    "            accuracy3 = (outputs3.argmax(1)==labels).sum()\n",
    "            total_accuracy1 += accuracy1\n",
    "            total_accuracy2 += accuracy2\n",
    "            total_accuracy3 += accuracy3\n",
    "        #print(\"训练次数:{}，loss1: {}，loss2: {}，loss3: {}\".format(total_train_step,loss1.item(),loss2.item(),loss3.item()))\n",
    "    if i<change_k:\n",
    "        train_accurary1 = total_accuracy1/train_data_size\n",
    "        print(total_train_loss)\n",
    "        print(\"66666在训练集上的正确率：{}\".format(train_accurary1))\n",
    "    else: \n",
    "        train_accurary1 = total_accuracy1/train_data_size  \n",
    "        train_accurary2 = total_accuracy2/train_data_size\n",
    "        train_accurary3 = total_accuracy3/train_data_size       \n",
    "        print(\"在训练集上的loss：{}\".format(total_train_loss))\n",
    "        print(\"在训练集上的正确率：{}\".format(train_accurary1))\n",
    "        print(\"在训练集上的正确率（不用k）：{}\".format(train_accurary2))\n",
    "        print(\"在训练集上的正确率（使用计数k）：{}\".format(train_accurary3))\n",
    "    total_train_accuracy_list.append(train_accurary1)\n",
    "    total_train_loss_list.append(total_train_loss)\n",
    "\n",
    "    print(\"开始测试。。。\")\n",
    "    total_accuracy = 0\n",
    "    #测试步骤\n",
    "    #test_net.eval()\n",
    "    total_test_loss = 0\n",
    "    total_test_step = 0\n",
    "\n",
    "    #model.eval()\n",
    "    with torch.no_grad():\n",
    "        #test_net.eval()\n",
    "        for data in tqdm(validloader):\n",
    "            #test_net.eval()\n",
    "            imgs, labels = data\n",
    "            imgs = imgs.to(device)\n",
    "            #imgs = imgs.view(-1,1,28,28)                              \n",
    "            imgs = imgs.view(-1,3,128,128)\n",
    "\n",
    "            labels = labels.to(device)\n",
    "            if i<change_k:\n",
    "                k=1\n",
    "                model.GetK(k)\n",
    "                output_s = model(imgs)\n",
    "            else:\n",
    "                layers_out2 = Get_layers_OutNums(imgs)\n",
    "            \n",
    "                k = returnk(layers_out2)\n",
    "                model.GetK(k)\n",
    "                output_s = model(imgs)\n",
    "\n",
    "            loss = loss_fn(output_s,labels)\n",
    "            total_test_loss = total_test_loss + loss.item()\n",
    "            total_test_step = total_test_step + 1\n",
    "            #if total_test_step%40 == 0:\n",
    "            #   print(\"训练次数{}，loss{}\".format(total_test_step,loss.item()))\n",
    "            accuracy = (output_s.argmax(1)==labels).sum()\n",
    "            total_accuracy += accuracy \n",
    "        test_accurary = total_accuracy/valid_data_size\n",
    "        print(\"在测试集上的正确率：{}\".format(test_accurary))\n",
    "        print(\"在测试集上的loss：{}\".format(total_test_loss)) \n",
    "        # 将每次测试结果实时写入acc.txt文件中\n",
    "        print('Saving model......')\n",
    "        torch.save(model.state_dict(), f'../skipresnet18/newdata2_epoch/skipresnet18_{i + 1}.pth')\n",
    "        writer.add_scalar(\"test_loss\", total_test_loss, total_test_step) \n",
    "        total_test_accuracy_list.append(test_accurary)\n",
    "        total_test_loss_list.append(total_test_loss)\n",
    "#     time_end=time.time()\n",
    "#     print('totally cost',time_end-time_start)\n",
    "        if test_accurary > best_acc:\n",
    "            f3 = open(\"../skipresnet18/newdata2_bestacc.txt\", \"w\")\n",
    "            f3.write(f\"训练轮次为{i + 1}时,准确率最高!准确率为{test_accurary}\")\n",
    "            f3.close()\n",
    "            best_acc = test_accurary\n",
    "print(\"训练结束。。。\")\n",
    "\n",
    "\n",
    "\n",
    "\n",
    "for i in range(len(total_test_accuracy_list)):\n",
    "    with open('../skipresnet18/skipresnet18_newdata2_acc.txt', 'a') as f:\n",
    "        f.write('%d %.5f %.5f %.5f %.5f\\n' % (i+1,total_train_accuracy_list[i],total_train_loss_list[i],total_test_accuracy_list[i],total_test_loss_list[i]))\n",
    "#     with open('skip18_train_accura/te_records_k.txt', 'a') as f:\n",
    "#         f.write('%d %.3f\\n' % (i+1,total_train_accuracy_list[i]))\n",
    "torch.save(model.state_dict(),\"../skipresnet18/skipresnet18_newdata2.pkl\")\n",
    "\n",
    "\n",
    "        \n"
   ]
  },
  {
   "cell_type": "code",
   "execution_count": 5,
   "metadata": {},
   "outputs": [
    {
     "name": "stderr",
     "output_type": "stream",
     "text": [
      "  0%|          | 0/5 [00:00<?, ?it/s]"
     ]
    },
    {
     "name": "stdout",
     "output_type": "stream",
     "text": [
      "训练集长度：4438\n",
      "测试集长度：548\n",
      "cuda\n"
     ]
    },
    {
     "name": "stderr",
     "output_type": "stream",
     "text": [
      "100%|██████████| 5/5 [00:15<00:00,  3.16s/it]\n"
     ]
    },
    {
     "name": "stdout",
     "output_type": "stream",
     "text": [
      "Accuracy of Black-grass : 86.667 %\n",
      "Accuracy of Charlock : 95.556 %\n",
      "Accuracy of Cleavers : 84.848 %\n",
      "Accuracy of Common Chickweed : 94.366 %\n",
      "Accuracy of Common wheat : 88.000 %\n",
      "Accuracy of Fat Hen : 98.113 %\n",
      "Accuracy of Loose Silky-bent : 93.421 %\n",
      "Accuracy of Maize : 92.000 %\n",
      "Accuracy of Scentless Mayweed : 98.333 %\n",
      "Accuracy of Shepherd Purse : 96.296 %\n",
      "Accuracy of Small-flowered Cranesbill : 96.491 %\n",
      "Accuracy of Sugar beet : 95.652 %\n",
      "[[26  0  0  0  0  0  4  0  0  0  0  0]\n",
      " [ 0 43  1  0  0  1  0  0  0  0  0  0]\n",
      " [ 0  1 28  1  0  1  0  0  1  0  1  0]\n",
      " [ 0  0  0 67  0  0  0  0  1  1  1  1]\n",
      " [ 2  0  0  0 22  0  0  0  0  0  0  1]\n",
      " [ 0  0  0  0  1 52  0  0  0  0  0  0]\n",
      " [ 5  0  0  0  0  0 71  0  0  0  0  0]\n",
      " [ 0  0  0  0  0  0  0 23  0  0  0  2]\n",
      " [ 0  0  0  0  0  0  1  0 59  0  0  0]\n",
      " [ 0  0  0  0  0  0  0  0  1 26  0  0]\n",
      " [ 0  1  0  0  0  0  1  0  0  0 55  0]\n",
      " [ 0  1  0  0  0  1  0  0  0  0  0 44]]\n"
     ]
    },
    {
     "data": {
      "text/plain": [
       "<Figure size 640x480 with 0 Axes>"
      ]
     },
     "metadata": {},
     "output_type": "display_data"
    },
    {
     "data": {
      "image/png": "[encoded data removed]",
      "text/plain": [
       "<Figure size 1000x800 with 2 Axes>"
      ]
     },
     "metadata": {},
     "output_type": "display_data"
    }
   ],
   "source": [
    "# 使用cifar10数据集，跳跃网络\n",
    "\n",
    "from numpy import log2\n",
    "import torch\n",
    "import torch.nn.functional as F\n",
    "from torch.nn.modules import flatten\n",
    "from torch.nn.modules.flatten import Flatten\n",
    "from torch.nn.modules.pooling import MaxPool2d\n",
    "import torchvision\n",
    "from torch.utils.data import DataLoader, dataloader\n",
    "import torch.nn as nn\n",
    "from torch.utils.tensorboard import SummaryWriter\n",
    "import time\n",
    "import numpy as np\n",
    "from torchvision import transforms\n",
    "from torchvision.datasets import ImageFolder\n",
    "from matplotlib import pyplot as plt\n",
    "from sklearn.metrics import confusion_matrix\n",
    "from tqdm import tqdm\n",
    "# import seaborn as sns\n",
    "# from resnet_skip import ResNet_Skip\n",
    "\n",
    "# torch.manual_seed(1)\n",
    "transform_train = transforms.Compose([\n",
    "    transforms.Resize(size=(128,128)),\n",
    "    #transforms.RandomCrop(32, padding=4),  # 先四周填充0，在吧图像随机裁剪成32*32\n",
    "    #transforms.RandomHorizontalFlip(),  # 图像一半的概率翻转，一半的概率不翻转\n",
    "    \n",
    "    transforms.ToTensor(),\n",
    "    transforms.Normalize((0.485, 0.456, 0.406), (0.229, 0.224, 0.225)),  # R,G,B每层的归一化用到的均值和方差\n",
    "])\n",
    "\n",
    "transform_test = transforms.Compose([\n",
    "    transforms.Resize(size=(128,128)),\n",
    "    transforms.ToTensor(),\n",
    "    transforms.Normalize((0.485, 0.456, 0.406), (0.229, 0.224, 0.225)),\n",
    "])\n",
    "\n",
    "# 训练数据集\n",
    "trainset = ImageFolder(root='../input/newdata/train', transform=transform_train)  \n",
    " # 生成一个个batch进行批训练，组成batch的时候顺序打乱取，\n",
    "trainloader = torch.utils.data.DataLoader(trainset, batch_size=128, shuffle=True,num_workers=0) \n",
    "\n",
    "# 测试训练集\n",
    "testset = ImageFolder(root='../input/newdata/test/', transform=transform_test )\n",
    "testloader = torch.utils.data.DataLoader(testset, batch_size=128, shuffle=True, num_workers=0)\n",
    "\n",
    "#train_dataset = torchvision.datasets.CIFAR10(root=\"/home/featurize/work/data\",train=True,transform=transform_train,download=True)\n",
    "#test_dataset = torchvision.datasets.CIFAR10(root=\"/home/featurize/work/data\",train=False,transform=transform_test,download=True)\n",
    "\n",
    "\n",
    "#数据集长度\n",
    "train_data_size = len(trainset)\n",
    "test_data_size = len(testset)\n",
    "print(\"训练集长度：{}\".format(train_data_size))\n",
    "print(\"测试集长度：{}\".format(test_data_size))\n",
    "\n",
    "\n",
    "\n",
    "device = torch.device(\"cuda\" if torch.cuda.is_available() else \"cpu\")\n",
    "print(device)\n",
    "\n",
    "#创建网络模型\n",
    "# test_net = skip_net_mnist()\n",
    "# test_net = SkipNetC2()\n",
    "test_net = skipresnet18_2()\n",
    "# if torch.cuda.device_count() > 1:\n",
    "#   print(\"Let's use\", torch.cuda.device_count(), \"GPUs!\")\n",
    "#   test_net = nn.DataParallel(test_net)\n",
    "\n",
    "# ../input/skipnetmodel/skip_net_CIFAR10_164 (3)\n",
    "#test_net.load_state_dict(torch.load(\"/home/featurize/work/(1)—3k_nopre_mish_Skipnet18_0_50_128_0.01.pkl\"))\n",
    "test_net.load_state_dict(torch.load(\"../skipresnet18/skipresnet18_2_accuracy_0.001_30_64_128.pkl\"))\n",
    "#test_net.load_state_dict(torch.load(\"../skipresnet18/skipresnet18_2_accuracy_none.pkl\"))\n",
    "\n",
    "\n",
    "test_net.to(device)\n",
    "#创建损失函数\n",
    "loss_fn = torch.nn.CrossEntropyLoss()\n",
    "loss_fn.to(device)\n",
    "#创建优化器\n",
    "learning_rata = 0.001\n",
    "#learning_rata = 0.01#或者使用1e-2代替0.01\n",
    "optimizer = torch.optim.SGD(test_net.parameters(),lr=learning_rata,momentum=0.9, weight_decay=5e-4)\n",
    "\n",
    "\n",
    "\n",
    "def GetParametaer(net):\n",
    "    # Get parameters of the net\n",
    "    list = []\n",
    "    for __, parameter in net.named_parameters():\n",
    "        list.append(parameter)\n",
    "    \n",
    "    return list\n",
    "  \n",
    "def GetNum(NumOfLayers,x):\n",
    "\n",
    "    test_net.GetK(NumOfLayers)\n",
    "    x = test_net(x)\n",
    "    return x\n",
    "#bitch_size    \n",
    "#可以得到每一层的输出\n",
    "def Get_layers_OutNums(x):\n",
    "    list_3 = []\n",
    "    for i in range(1,10):\n",
    "        temp = x\n",
    "        temp = GetNum(i,temp)\n",
    "        temp = F.softmax(temp,dim=1)\n",
    "        list_3.append(temp)\n",
    "    return list_3\n",
    "\n",
    "\n",
    "\n",
    "\n",
    "def LossOfEveryLayers(x, y,LossFunc):\n",
    "    #Get the loss ofc every linaer layer\n",
    "    loss_of_layer = []\n",
    "    for i in range(9):\n",
    "        loss_of_layer.append(LossFunc(x[i],y))\n",
    "\n",
    "\n",
    "    return loss_of_layer.index(min(loss_of_layer))+1\n",
    "\n",
    "    \n",
    "\n",
    "\n",
    "def OutPut(layers_out):\n",
    "    layers_out_ = torch.stack(layers_out,0).to(device)\n",
    "\n",
    "    temp2 = torch.max(layers_out_,2)[0].argmax(0)\n",
    "\n",
    "    temp3 = torch.arange(0,len(temp2))\n",
    "    \n",
    "    output_  = layers_out_[temp2,temp3].to(device)\n",
    "    \n",
    "    return output_\n",
    "\n",
    "def returnk(layers_out):\n",
    "    layers_out_ = torch.stack(layers_out,0).to(device)\n",
    "    temp = torch.max(layers_out_,2)[0].argmax(0)\n",
    "    temp2 = temp.tolist()\n",
    "    k = max(temp2,key=temp2.count)+1\n",
    "    return k\n",
    "\n",
    "\n",
    "plt.figure()\n",
    "\n",
    "#训练的次数\n",
    "total_train_step = 0\n",
    "#测试次数\n",
    "total_test_step = 0\n",
    "total_train_accuracy = 0\n",
    "# Decey_x = 0.5\n",
    "total_train_accuracy_list = []\n",
    "total_test_accuracy_list = []\n",
    "change_k = 0\n",
    "\n",
    "\n",
    "total_accuracy = 0\n",
    "    #测试步骤\n",
    "    # test_net.eval()\n",
    "total_test_loss = 0\n",
    "total_test_step = 0\n",
    "# 测试模型\n",
    "correct = [0] * 12\n",
    "total = [0] * 12\n",
    "y_pred = []\n",
    "y_true = []\n",
    "with torch.no_grad():\n",
    "    for data in tqdm(testloader):\n",
    "        images, labels = data\n",
    "        images = images.to(device)\n",
    "        # images = images.view(-1,3,32,32)\n",
    "        labels = labels.to(device)\n",
    "        layers_out2 = Get_layers_OutNums(images)\n",
    "            \n",
    "        k = returnk(layers_out2)\n",
    "        test_net.GetK(k)\n",
    "        outputs = test_net(images)\n",
    "        _, predicted = torch.max(outputs.data, 1)\n",
    "        y_pred.extend(predicted.tolist())\n",
    "        y_true.extend(labels.tolist())\n",
    "        for i in range(len(labels)):\n",
    "            label = labels[i]\n",
    "            total[label] += 1\n",
    "            if predicted[i] == label:\n",
    "                correct[label] += 1\n",
    "\n",
    "# 输出每个类别的准确率\n",
    "for i in range(12):\n",
    "    print('Accuracy of %5s : %.3f %%' % (\n",
    "        testset.classes[i], 100 * correct[i] / total[i]))\n",
    "\n",
    "\n",
    "# 将预测结果转换为标签\n",
    "y_pred_labels = np.array(y_pred)\n",
    "\n",
    "# 计算混淆矩阵\n",
    "cm = confusion_matrix(y_true, y_pred_labels)\n",
    "\n",
    "print(cm)\n",
    "\n",
    "\n",
    "# 绘制混淆矩阵\n",
    "# plt.figure(figsize=(10, 8))\n",
    "# sns.set(font_scale=1.4)\n",
    "# sns.heatmap(cm, annot=True, fmt='g', cmap='Blues')\n",
    "# plt.xlabel('Predicted Labels')\n",
    "# plt.ylabel('True Labels')\n",
    "# plt.show()\n",
    "# 绘制混淆矩阵\n",
    "plt.figure(figsize=(10, 8))\n",
    "plt.imshow(cm, interpolation='nearest', cmap=plt.cm.Blues)\n",
    "# 添加数值\n",
    "for i in range(12):\n",
    "    for j in range(12):\n",
    "        plt.annotate(str(cm[i][j]), xy=(j, i), horizontalalignment='center', verticalalignment='center')\n",
    "\n",
    "plt.colorbar()\n",
    "tick_marks = np.arange(12)\n",
    "plt.xticks(tick_marks, ['black-grass', 'charlock', 'cleavers', 'common chickweed','common wheat','fat hen', 'loose silky-bent', 'maize', 'scentless mayweed', 'shephere purse', 'small-flowered cranesbill','sugar beet'], rotation=45)\n",
    "plt.yticks(tick_marks, ['black-grass', 'charlock', 'cleavers', 'common chickweed','common wheat','fat hen', 'loose silky-bent', 'maize', 'scentless mayweed', 'shephere purse', 'small-flowered cranesbill','sugar beet'])\n",
    "plt.xlabel('Predicted Labels')\n",
    "plt.ylabel('True Labels')\n",
    "# plt.show()\n",
    "plt.savefig('../skipresnet18/confusion_matrixA_2.png')\n",
    "        \n"
   ]
  },
  {
   "cell_type": "code",
   "execution_count": 16,
   "metadata": {},
   "outputs": [
    {
     "name": "stdout",
     "output_type": "stream",
     "text": [
      "                           precision    recall  f1-score   support\n",
      "\n",
      "              black-grass      0.867     0.867     0.867        30\n",
      "                 charlock      0.880     0.978     0.926        45\n",
      "                 cleavers      1.000     0.879     0.935        33\n",
      "         common chickweed      0.985     0.930     0.957        71\n",
      "             common wheat      1.000     0.880     0.936        25\n",
      "                  fat hen      0.962     0.962     0.962        53\n",
      "         loose silky-bent      0.923     0.947     0.935        76\n",
      "                    maize      1.000     0.920     0.958        25\n",
      "        scentless mayweed      0.951     0.967     0.959        60\n",
      "           shephere purse      0.897     0.963     0.929        27\n",
      "small-flowered cranesbill      1.000     0.965     0.982        57\n",
      "               sugar beet      0.863     0.957     0.907        46\n",
      "\n",
      "                 accuracy                          0.942       548\n",
      "                macro avg      0.944     0.934     0.938       548\n",
      "             weighted avg      0.945     0.942     0.942       548\n",
      "\n"
     ]
    }
   ],
   "source": [
    "from sklearn.metrics import classification_report\n",
    "\n",
    "# 计算准确率、召回率、精确率和 F1 值\n",
    "target_names = ['black-grass', 'charlock', 'cleavers', 'common chickweed','common wheat','fat hen', 'loose silky-bent', 'maize', 'scentless mayweed', 'shephere purse', 'small-flowered cranesbill','sugar beet']\n",
    "print(classification_report(y_true, y_pred_labels, target_names=target_names,digits=3))"
   ]
  },
  {
   "cell_type": "code",
   "execution_count": null,
   "metadata": {},
   "outputs": [],
   "source": []
  }
 ],
 "metadata": {
  "kernelspec": {
   "display_name": "pytorch3_10",
   "language": "python",
   "name": "python3"
  },
  "language_info": {
   "codemirror_mode": {
    "name": "ipython",
    "version": 3
   },
   "file_extension": ".py",
   "mimetype": "text/x-python",
   "name": "python",
   "nbconvert_exporter": "python",
   "pygments_lexer": "ipython3",
   "version": "3.10.14"
  },
  "orig_nbformat": 4
 },
 "nbformat": 4,
 "nbformat_minor": 2
}
